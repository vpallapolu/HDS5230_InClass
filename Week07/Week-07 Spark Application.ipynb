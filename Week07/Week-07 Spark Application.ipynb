{
 "cells": [
  {
   "cell_type": "markdown",
   "metadata": {
    "application/vnd.databricks.v1+cell": {
     "cellMetadata": {
      "byteLimit": 2048000,
      "rowLimit": 10000
     },
     "inputWidgets": {},
     "nuid": "96816ed7-b08a-4ca3-abb9-f99880c3535d",
     "showTitle": false,
     "tableResultSettingsMap": {},
     "title": ""
    }
   },
   "source": [
    "\n",
    "## Overview\n",
    "\n",
    "This notebook will show you how to create and query a table or DataFrame that you uploaded to DBFS. [DBFS](https://docs.databricks.com/user-guide/dbfs-databricks-file-system.html) is a Databricks File System that allows you to store data for querying inside of Databricks. This notebook assumes that you have a file already inside of DBFS that you would like to read from.\n",
    "\n",
    "This notebook is written in **Python** so the default cell type is Python. However, you can use different languages by using the `%LANGUAGE` syntax. Python, Scala, SQL, and R are all supported."
   ]
  },
  {
   "cell_type": "markdown",
   "metadata": {
    "application/vnd.databricks.v1+cell": {
     "cellMetadata": {
      "byteLimit": 2048000,
      "rowLimit": 10000
     },
     "inputWidgets": {},
     "nuid": "d6952568-a785-452a-96b2-01145cfbbd1c",
     "showTitle": false,
     "tableResultSettingsMap": {},
     "title": ""
    }
   },
   "source": [
    "## OPEN PAYMENTS DATA"
   ]
  },
  {
   "cell_type": "code",
   "execution_count": 0,
   "metadata": {
    "application/vnd.databricks.v1+cell": {
     "cellMetadata": {
      "byteLimit": 2048000,
      "rowLimit": 10000
     },
     "inputWidgets": {},
     "nuid": "1bffe8ac-0c60-437b-bb59-f55ad75bc21e",
     "showTitle": false,
     "tableResultSettingsMap": {},
     "title": ""
    }
   },
   "outputs": [
    {
     "output_type": "stream",
     "name": "stdout",
     "output_type": "stream",
     "text": [
      "Out[2]: ['hsperfdata_root',\n 'OP_REMOVED_DELETED_PGYR2023_P01302025_01212025.csv',\n 'Rserv',\n 'Rtmp4oxR6z',\n '.font-unix',\n 'chauffeur-daemon-params',\n '.X11-unix',\n 'OP_DTL_RSRCH_PGYR2023_P01302025_01212025.csv',\n '.ICE-unix',\n '.Test-unix',\n 'systemd-private-c7f4359a1d6342a09bc2ccb2eb95edb7-systemd-resolved.service-JHfnpi',\n 'OP_DTL_GNRL_PGYR2023_P01302025_01212025.csv',\n 'OP_DTL_OWNRSHP_PGYR2023_P01302025_01212025.csv',\n 'systemd-private-c7f4359a1d6342a09bc2ccb2eb95edb7-apache2.service-2mJw2i',\n 'driver-daemon-params',\n 'PGYR2023_P01302025.zip',\n '.XIM-unix',\n 'OP_PGYR2023_README_P01302025.txt',\n 'tmp.jbElhfi48u',\n 'systemd-private-c7f4359a1d6342a09bc2ccb2eb95edb7-ntp.service-TCyRWg',\n 'chauffeur-env.sh',\n 'systemd-private-c7f4359a1d6342a09bc2ccb2eb95edb7-systemd-logind.service-Uio3hf',\n 'chauffeur-daemon.pid',\n 'custom-spark.conf',\n '.PGYR2023_P01302025.zip.crc',\n 'driver-daemon.pid',\n 'driver-env.sh']"
     ]
    }
   ],
   "source": [
    "#unzipping the open payments zip file\n",
    "dbutils.fs.cp(\"dbfs:/FileStore/tables/PGYR2023_P01302025_01212025.zip\", \"file:/tmp/PGYR2023_P01302025.zip\")\n",
    "import zipfile\n",
    "\n",
    "with zipfile.ZipFile(\"/tmp/PGYR2023_P01302025.zip\", \"r\") as zip_ref:\n",
    "    zip_ref.extractall(\"/tmp/\")\n",
    "\n",
    "# List extracted files\n",
    "import os\n",
    "os.listdir(\"/tmp/\") #ensuring the zip file is unzipped properly"
   ]
  },
  {
   "cell_type": "code",
   "execution_count": 0,
   "metadata": {
    "application/vnd.databricks.v1+cell": {
     "cellMetadata": {
      "byteLimit": 2048000,
      "rowLimit": 10000
     },
     "inputWidgets": {},
     "nuid": "9b1f3781-7538-4779-9728-5e7d46c4661c",
     "showTitle": false,
     "tableResultSettingsMap": {},
     "title": ""
    }
   },
   "outputs": [
    {
     "output_type": "stream",
     "name": "stdout",
     "output_type": "stream",
     "text": [
      "Out[3]: True"
     ]
    }
   ],
   "source": [
    "#Moving the csv file back to the DBFS\n",
    "dbutils.fs.mv(f\"file:/tmp/OP_DTL_GNRL_PGYR2023_P01302025_01212025.csv\", \n",
    "              \"dbfs:/FileStore/tables/OP_DTL_GNRL_PGYR2023_P01302025_01212025.csv\")"
   ]
  },
  {
   "cell_type": "code",
   "execution_count": 0,
   "metadata": {
    "application/vnd.databricks.v1+cell": {
     "cellMetadata": {
      "byteLimit": 2048000,
      "rowLimit": 10000
     },
     "inputWidgets": {},
     "nuid": "08422ca1-282a-4aa4-a80e-64748c20aaf4",
     "showTitle": false,
     "tableResultSettingsMap": {},
     "title": ""
    }
   },
   "outputs": [
    {
     "output_type": "display_data",
     "data": {
      "text/html": [
       "<style scoped>\n",
       "  .table-result-container {\n",
       "    max-height: 300px;\n",
       "    overflow: auto;\n",
       "  }\n",
       "  table, th, td {\n",
       "    border: 1px solid black;\n",
       "    border-collapse: collapse;\n",
       "  }\n",
       "  th, td {\n",
       "    padding: 5px;\n",
       "  }\n",
       "  th {\n",
       "    text-align: left;\n",
       "  }\n",
       "</style><div class='table-result-container'><table class='table-result'><thead style='background-color: white'><tr><th>path</th><th>name</th><th>size</th><th>modificationTime</th></tr></thead><tbody><tr><td>dbfs:/FileStore/tables/Drug_Interval-1.txt</td><td>Drug_Interval-1.txt</td><td>716</td><td>1742333455000</td></tr><tr><td>dbfs:/FileStore/tables/Drug_Interval.txt</td><td>Drug_Interval.txt</td><td>716</td><td>1742333124000</td></tr><tr><td>dbfs:/FileStore/tables/OP_CVRD_RCPNT_PRFL_SPLMTL_P01302025_01212025.csv</td><td>OP_CVRD_RCPNT_PRFL_SPLMTL_P01302025_01212025.csv</td><td>357419225</td><td>1742683252000</td></tr><tr><td>dbfs:/FileStore/tables/OP_DTL_GNRL_PGYR2023_P01302025_01212025.csv</td><td>OP_DTL_GNRL_PGYR2023_P01302025_01212025.csv</td><td>8159850128</td><td>1742750470000</td></tr><tr><td>dbfs:/FileStore/tables/OP_DTL_GNRL_PGYR2023_P01302025_01212025.zip</td><td>OP_DTL_GNRL_PGYR2023_P01302025_01212025.zip</td><td>725603560</td><td>1742662747000</td></tr><tr><td>dbfs:/FileStore/tables/OP_DTL_OWNRSHP_PGYR2023_P01302025_01212025-1.csv</td><td>OP_DTL_OWNRSHP_PGYR2023_P01302025_01212025-1.csv</td><td>1827342</td><td>1742493341000</td></tr><tr><td>dbfs:/FileStore/tables/OP_DTL_OWNRSHP_PGYR2023_P01302025_01212025.csv</td><td>OP_DTL_OWNRSHP_PGYR2023_P01302025_01212025.csv</td><td>1827342</td><td>1742445454000</td></tr><tr><td>dbfs:/FileStore/tables/OP_DTL_RSRCH_PGYR2023_P01302025_01212025.csv</td><td>OP_DTL_RSRCH_PGYR2023_P01302025_01212025.csv</td><td>992593986</td><td>1742487750000</td></tr><tr><td>dbfs:/FileStore/tables/OP_PGYR2023_README_P01302025.txt</td><td>OP_PGYR2023_README_P01302025.txt</td><td>5422</td><td>1742445558000</td></tr><tr><td>dbfs:/FileStore/tables/OP_REMOVED_DELETED_PGYR2023_P01302025_01212025.csv</td><td>OP_REMOVED_DELETED_PGYR2023_P01302025_01212025.csv</td><td>158460</td><td>1742445460000</td></tr><tr><td>dbfs:/FileStore/tables/PGYR2023_P01302025_01212025.zip</td><td>PGYR2023_P01302025_01212025.zip</td><td>789005271</td><td>1742421440000</td></tr><tr><td>dbfs:/FileStore/tables/PHPRFL_P01302025_01212025-1.zip</td><td>PHPRFL_P01302025_01212025-1.zip</td><td>82966770</td><td>1742444053000</td></tr><tr><td>dbfs:/FileStore/tables/PHPRFL_P01302025_01212025-2.zip</td><td>PHPRFL_P01302025_01212025-2.zip</td><td>82966770</td><td>1742444073000</td></tr><tr><td>dbfs:/FileStore/tables/PHPRFL_P01302025_01212025.zip</td><td>PHPRFL_P01302025_01212025.zip</td><td>82966770</td><td>1742420895000</td></tr><tr><td>dbfs:/FileStore/tables/Patients.csv</td><td>Patients.csv</td><td>10453179</td><td>1742334594000</td></tr><tr><td>dbfs:/FileStore/tables/Products.txt</td><td>Products.txt</td><td>4386204</td><td>1742334040000</td></tr><tr><td>dbfs:/FileStore/tables/demo01-1.json</td><td>demo01-1.json</td><td>666</td><td>1742333889000</td></tr><tr><td>dbfs:/FileStore/tables/demo01.json</td><td>demo01.json</td><td>666</td><td>1742330922000</td></tr></tbody></table></div>"
      ]
     },
     "metadata": {
      "application/vnd.databricks.v1+output": {
       "addedWidgets": {},
       "aggData": [],
       "aggError": "",
       "aggOverflow": false,
       "aggSchema": [],
       "aggSeriesLimitReached": false,
       "aggType": "",
       "arguments": {},
       "columnCustomDisplayInfos": {},
       "data": [
        [
         "dbfs:/FileStore/tables/Drug_Interval-1.txt",
         "Drug_Interval-1.txt",
         716,
         1742333455000
        ],
        [
         "dbfs:/FileStore/tables/Drug_Interval.txt",
         "Drug_Interval.txt",
         716,
         1742333124000
        ],
        [
         "dbfs:/FileStore/tables/OP_CVRD_RCPNT_PRFL_SPLMTL_P01302025_01212025.csv",
         "OP_CVRD_RCPNT_PRFL_SPLMTL_P01302025_01212025.csv",
         357419225,
         1742683252000
        ],
        [
         "dbfs:/FileStore/tables/OP_DTL_GNRL_PGYR2023_P01302025_01212025.csv",
         "OP_DTL_GNRL_PGYR2023_P01302025_01212025.csv",
         8159850128,
         1742750470000
        ],
        [
         "dbfs:/FileStore/tables/OP_DTL_GNRL_PGYR2023_P01302025_01212025.zip",
         "OP_DTL_GNRL_PGYR2023_P01302025_01212025.zip",
         725603560,
         1742662747000
        ],
        [
         "dbfs:/FileStore/tables/OP_DTL_OWNRSHP_PGYR2023_P01302025_01212025-1.csv",
         "OP_DTL_OWNRSHP_PGYR2023_P01302025_01212025-1.csv",
         1827342,
         1742493341000
        ],
        [
         "dbfs:/FileStore/tables/OP_DTL_OWNRSHP_PGYR2023_P01302025_01212025.csv",
         "OP_DTL_OWNRSHP_PGYR2023_P01302025_01212025.csv",
         1827342,
         1742445454000
        ],
        [
         "dbfs:/FileStore/tables/OP_DTL_RSRCH_PGYR2023_P01302025_01212025.csv",
         "OP_DTL_RSRCH_PGYR2023_P01302025_01212025.csv",
         992593986,
         1742487750000
        ],
        [
         "dbfs:/FileStore/tables/OP_PGYR2023_README_P01302025.txt",
         "OP_PGYR2023_README_P01302025.txt",
         5422,
         1742445558000
        ],
        [
         "dbfs:/FileStore/tables/OP_REMOVED_DELETED_PGYR2023_P01302025_01212025.csv",
         "OP_REMOVED_DELETED_PGYR2023_P01302025_01212025.csv",
         158460,
         1742445460000
        ],
        [
         "dbfs:/FileStore/tables/PGYR2023_P01302025_01212025.zip",
         "PGYR2023_P01302025_01212025.zip",
         789005271,
         1742421440000
        ],
        [
         "dbfs:/FileStore/tables/PHPRFL_P01302025_01212025-1.zip",
         "PHPRFL_P01302025_01212025-1.zip",
         82966770,
         1742444053000
        ],
        [
         "dbfs:/FileStore/tables/PHPRFL_P01302025_01212025-2.zip",
         "PHPRFL_P01302025_01212025-2.zip",
         82966770,
         1742444073000
        ],
        [
         "dbfs:/FileStore/tables/PHPRFL_P01302025_01212025.zip",
         "PHPRFL_P01302025_01212025.zip",
         82966770,
         1742420895000
        ],
        [
         "dbfs:/FileStore/tables/Patients.csv",
         "Patients.csv",
         10453179,
         1742334594000
        ],
        [
         "dbfs:/FileStore/tables/Products.txt",
         "Products.txt",
         4386204,
         1742334040000
        ],
        [
         "dbfs:/FileStore/tables/demo01-1.json",
         "demo01-1.json",
         666,
         1742333889000
        ],
        [
         "dbfs:/FileStore/tables/demo01.json",
         "demo01.json",
         666,
         1742330922000
        ]
       ],
       "datasetInfos": [],
       "dbfsResultPath": null,
       "isJsonSchema": true,
       "metadata": {},
       "overflow": false,
       "plotOptions": {
        "customPlotOptions": {},
        "displayType": "table",
        "pivotAggregation": null,
        "pivotColumns": null,
        "xColumns": null,
        "yColumns": null
       },
       "removedWidgets": [],
       "schema": [
        {
         "metadata": "{}",
         "name": "path",
         "type": "\"string\""
        },
        {
         "metadata": "{}",
         "name": "name",
         "type": "\"string\""
        },
        {
         "metadata": "{}",
         "name": "size",
         "type": "\"long\""
        },
        {
         "metadata": "{}",
         "name": "modificationTime",
         "type": "\"long\""
        }
       ],
       "type": "table"
      }
     },
     "output_type": "display_data"
    }
   ],
   "source": [
    "display(dbutils.fs.ls(\"/FileStore/tables/\"))"
   ]
  },
  {
   "cell_type": "code",
   "execution_count": 0,
   "metadata": {
    "application/vnd.databricks.v1+cell": {
     "cellMetadata": {
      "byteLimit": 2048000,
      "rowLimit": 10000
     },
     "inputWidgets": {},
     "nuid": "6482be4c-f067-47c9-b0ac-35c938b94601",
     "showTitle": false,
     "tableResultSettingsMap": {
      "0": {
       "filterBlob": "{\"filterGroups\":[],\"syncTimestamp\":1742684134505}",
       "tableResultIndex": 0
      }
     },
     "title": ""
    }
   },
   "outputs": [
    {
     "output_type": "display_data",
     "data": {
      "text/html": [
       "<style scoped>\n",
       "  .table-result-container {\n",
       "    max-height: 300px;\n",
       "    overflow: auto;\n",
       "  }\n",
       "  table, th, td {\n",
       "    border: 1px solid black;\n",
       "    border-collapse: collapse;\n",
       "  }\n",
       "  th, td {\n",
       "    padding: 5px;\n",
       "  }\n",
       "  th {\n",
       "    text-align: left;\n",
       "  }\n",
       "</style><div class='table-result-container'><table class='table-result'><thead style='background-color: white'><tr><th>Change_Type</th><th>Covered_Recipient_Type</th><th>Teaching_Hospital_CCN</th><th>Teaching_Hospital_ID</th><th>Teaching_Hospital_Name</th><th>Covered_Recipient_Profile_ID</th><th>Covered_Recipient_NPI</th><th>Covered_Recipient_First_Name</th><th>Covered_Recipient_Middle_Name</th><th>Covered_Recipient_Last_Name</th><th>Covered_Recipient_Name_Suffix</th><th>Recipient_Primary_Business_Street_Address_Line1</th><th>Recipient_Primary_Business_Street_Address_Line2</th><th>Recipient_City</th><th>Recipient_State</th><th>Recipient_Zip_Code</th><th>Recipient_Country</th><th>Recipient_Province</th><th>Recipient_Postal_Code</th><th>Covered_Recipient_Primary_Type_1</th><th>Covered_Recipient_Primary_Type_2</th><th>Covered_Recipient_Primary_Type_3</th><th>Covered_Recipient_Primary_Type_4</th><th>Covered_Recipient_Primary_Type_5</th><th>Covered_Recipient_Primary_Type_6</th><th>Covered_Recipient_Specialty_1</th><th>Covered_Recipient_Specialty_2</th><th>Covered_Recipient_Specialty_3</th><th>Covered_Recipient_Specialty_4</th><th>Covered_Recipient_Specialty_5</th><th>Covered_Recipient_Specialty_6</th><th>Covered_Recipient_License_State_code1</th><th>Covered_Recipient_License_State_code2</th><th>Covered_Recipient_License_State_code3</th><th>Covered_Recipient_License_State_code4</th><th>Covered_Recipient_License_State_code5</th><th>Submitting_Applicable_Manufacturer_or_Applicable_GPO_Name</th><th>Applicable_Manufacturer_or_Applicable_GPO_Making_Payment_ID</th><th>Applicable_Manufacturer_or_Applicable_GPO_Making_Payment_Name</th><th>Applicable_Manufacturer_or_Applicable_GPO_Making_Payment_State</th><th>Applicable_Manufacturer_or_Applicable_GPO_Making_Payment_Country</th><th>Total_Amount_of_Payment_USDollars</th><th>Date_of_Payment</th><th>Number_of_Payments_Included_in_Total_Amount</th><th>Form_of_Payment_or_Transfer_of_Value</th><th>Nature_of_Payment_or_Transfer_of_Value</th><th>City_of_Travel</th><th>State_of_Travel</th><th>Country_of_Travel</th><th>Physician_Ownership_Indicator</th><th>Third_Party_Payment_Recipient_Indicator</th><th>Name_of_Third_Party_Entity_Receiving_Payment_or_Transfer_of_Value</th><th>Charity_Indicator</th><th>Third_Party_Equals_Covered_Recipient_Indicator</th><th>Contextual_Information</th><th>Delay_in_Publication_Indicator</th><th>Record_ID</th><th>Dispute_Status_for_Publication</th><th>Related_Product_Indicator</th><th>Covered_or_Noncovered_Indicator_1</th><th>Indicate_Drug_or_Biological_or_Device_or_Medical_Supply_1</th><th>Product_Category_or_Therapeutic_Area_1</th><th>Name_of_Drug_or_Biological_or_Device_or_Medical_Supply_1</th><th>Associated_Drug_or_Biological_NDC_1</th><th>Associated_Device_or_Medical_Supply_PDI_1</th><th>Covered_or_Noncovered_Indicator_2</th><th>Indicate_Drug_or_Biological_or_Device_or_Medical_Supply_2</th><th>Product_Category_or_Therapeutic_Area_2</th><th>Name_of_Drug_or_Biological_or_Device_or_Medical_Supply_2</th><th>Associated_Drug_or_Biological_NDC_2</th><th>Associated_Device_or_Medical_Supply_PDI_2</th><th>Covered_or_Noncovered_Indicator_3</th><th>Indicate_Drug_or_Biological_or_Device_or_Medical_Supply_3</th><th>Product_Category_or_Therapeutic_Area_3</th><th>Name_of_Drug_or_Biological_or_Device_or_Medical_Supply_3</th><th>Associated_Drug_or_Biological_NDC_3</th><th>Associated_Device_or_Medical_Supply_PDI_3</th><th>Covered_or_Noncovered_Indicator_4</th><th>Indicate_Drug_or_Biological_or_Device_or_Medical_Supply_4</th><th>Product_Category_or_Therapeutic_Area_4</th><th>Name_of_Drug_or_Biological_or_Device_or_Medical_Supply_4</th><th>Associated_Drug_or_Biological_NDC_4</th><th>Associated_Device_or_Medical_Supply_PDI_4</th><th>Covered_or_Noncovered_Indicator_5</th><th>Indicate_Drug_or_Biological_or_Device_or_Medical_Supply_5</th><th>Product_Category_or_Therapeutic_Area_5</th><th>Name_of_Drug_or_Biological_or_Device_or_Medical_Supply_5</th><th>Associated_Drug_or_Biological_NDC_5</th><th>Associated_Device_or_Medical_Supply_PDI_5</th><th>Program_Year</th><th>Payment_Publication_Date</th></tr></thead><tbody><tr><td>CHANGED</td><td>Covered Recipient Teaching Hospital</td><td>220162</td><td>9984</td><td>Adventhealth Orlando</td><td>null</td><td>null</td><td>null</td><td>null</td><td>null</td><td>null</td><td>601 E Rollins St</td><td>null</td><td>Orlando</td><td>FL</td><td>32803</td><td>United States</td><td>null</td><td>null</td><td>null</td><td>null</td><td>null</td><td>null</td><td>null</td><td>null</td><td>null</td><td>null</td><td>null</td><td>null</td><td>null</td><td>null</td><td>null</td><td>null</td><td>null</td><td>null</td><td>null</td><td>Integra LifeSciences Corporation</td><td>100000010950</td><td>Integra LifeSciences Corporation</td><td>NJ</td><td>United States</td><td>2000.00</td><td>07/20/2023</td><td>1</td><td>Cash or cash equivalent</td><td>Grant</td><td>null</td><td>null</td><td>null</td><td>No</td><td>No Third Party Payment</td><td>null</td><td>null</td><td>null</td><td>null</td><td>No</td><td>1031636873</td><td>No</td><td>Yes</td><td>Covered</td><td>Device</td><td>Neuro Critical Care</td><td>CODMAN CERTAS</td><td>null</td><td>10381780529033</td><td>null</td><td>null</td><td>null</td><td>null</td><td>null</td><td>null</td><td>null</td><td>null</td><td>null</td><td>null</td><td>null</td><td>null</td><td>null</td><td>null</td><td>null</td><td>null</td><td>null</td><td>null</td><td>null</td><td>null</td><td>null</td><td>null</td><td>null</td><td>null</td><td>2023</td><td>01/30/2025</td></tr><tr><td>CHANGED</td><td>Covered Recipient Teaching Hospital</td><td>220162</td><td>9984</td><td>Carle Foundation Hospital</td><td>null</td><td>null</td><td>null</td><td>null</td><td>null</td><td>null</td><td>2300 N Vermilion St</td><td>null</td><td>Danville</td><td>IL</td><td>61832</td><td>United States</td><td>null</td><td>null</td><td>null</td><td>null</td><td>null</td><td>null</td><td>null</td><td>null</td><td>null</td><td>null</td><td>null</td><td>null</td><td>null</td><td>null</td><td>null</td><td>null</td><td>null</td><td>null</td><td>null</td><td>Integra LifeSciences Corporation</td><td>100000010950</td><td>Integra LifeSciences Corporation</td><td>NJ</td><td>United States</td><td>1500.00</td><td>11/03/2023</td><td>1</td><td>Cash or cash equivalent</td><td>Grant</td><td>null</td><td>null</td><td>null</td><td>No</td><td>No Third Party Payment</td><td>null</td><td>null</td><td>null</td><td>null</td><td>No</td><td>1031636879</td><td>No</td><td>Yes</td><td>Covered</td><td>Device</td><td>Neuro Critical Care</td><td>CODMAN CERTAS</td><td>null</td><td>10381780529033</td><td>null</td><td>null</td><td>null</td><td>null</td><td>null</td><td>null</td><td>null</td><td>null</td><td>null</td><td>null</td><td>null</td><td>null</td><td>null</td><td>null</td><td>null</td><td>null</td><td>null</td><td>null</td><td>null</td><td>null</td><td>null</td><td>null</td><td>null</td><td>null</td><td>2023</td><td>01/30/2025</td></tr><tr><td>CHANGED</td><td>Covered Recipient Teaching Hospital</td><td>220162</td><td>9984</td><td>St. Josephs Hospital & Medical Ctr</td><td>null</td><td>null</td><td>null</td><td>null</td><td>null</td><td>null</td><td>4975 N Dysart Rd Ste 100</td><td>null</td><td>Litchfield Park</td><td>AZ</td><td>85340</td><td>United States</td><td>null</td><td>null</td><td>null</td><td>null</td><td>null</td><td>null</td><td>null</td><td>null</td><td>null</td><td>null</td><td>null</td><td>null</td><td>null</td><td>null</td><td>null</td><td>null</td><td>null</td><td>null</td><td>null</td><td>Integra LifeSciences Corporation</td><td>100000010950</td><td>Integra LifeSciences Corporation</td><td>NJ</td><td>United States</td><td>2500.00</td><td>03/21/2023</td><td>1</td><td>Cash or cash equivalent</td><td>Grant</td><td>null</td><td>null</td><td>null</td><td>No</td><td>No Third Party Payment</td><td>null</td><td>null</td><td>null</td><td>null</td><td>No</td><td>1031636885</td><td>No</td><td>Yes</td><td>Covered</td><td>Device</td><td>Neuro Critical Care</td><td>CODMAN CERTAS</td><td>null</td><td>10381780529033</td><td>null</td><td>null</td><td>null</td><td>null</td><td>null</td><td>null</td><td>null</td><td>null</td><td>null</td><td>null</td><td>null</td><td>null</td><td>null</td><td>null</td><td>null</td><td>null</td><td>null</td><td>null</td><td>null</td><td>null</td><td>null</td><td>null</td><td>null</td><td>null</td><td>2023</td><td>01/30/2025</td></tr><tr><td>CHANGED</td><td>Covered Recipient Teaching Hospital</td><td>220162</td><td>9984</td><td>St. Josephs Hospital & Medical Ctr</td><td>null</td><td>null</td><td>null</td><td>null</td><td>null</td><td>null</td><td>4975 N Dysart Rd Ste 100</td><td>null</td><td>Litchfield Park</td><td>AZ</td><td>85340</td><td>United States</td><td>null</td><td>null</td><td>null</td><td>null</td><td>null</td><td>null</td><td>null</td><td>null</td><td>null</td><td>null</td><td>null</td><td>null</td><td>null</td><td>null</td><td>null</td><td>null</td><td>null</td><td>null</td><td>null</td><td>Integra LifeSciences Corporation</td><td>100000010950</td><td>Integra LifeSciences Corporation</td><td>NJ</td><td>United States</td><td>3000.00</td><td>04/14/2023</td><td>1</td><td>Cash or cash equivalent</td><td>Grant</td><td>null</td><td>null</td><td>null</td><td>No</td><td>No Third Party Payment</td><td>null</td><td>null</td><td>null</td><td>null</td><td>No</td><td>1031636889</td><td>No</td><td>Yes</td><td>Covered</td><td>Device</td><td>Neuro Critical Care</td><td>CODMAN CERTAS</td><td>null</td><td>10381780529033</td><td>null</td><td>null</td><td>null</td><td>null</td><td>null</td><td>null</td><td>null</td><td>null</td><td>null</td><td>null</td><td>null</td><td>null</td><td>null</td><td>null</td><td>null</td><td>null</td><td>null</td><td>null</td><td>null</td><td>null</td><td>null</td><td>null</td><td>null</td><td>null</td><td>2023</td><td>01/30/2025</td></tr><tr><td>CHANGED</td><td>Covered Recipient Teaching Hospital</td><td>220162</td><td>9984</td><td>Uc Davis Medical Center</td><td>null</td><td>null</td><td>null</td><td>null</td><td>null</td><td>null</td><td>2315 Stockton Blvd</td><td>null</td><td>Sacramento</td><td>CA</td><td>95817</td><td>United States</td><td>null</td><td>null</td><td>null</td><td>null</td><td>null</td><td>null</td><td>null</td><td>null</td><td>null</td><td>null</td><td>null</td><td>null</td><td>null</td><td>null</td><td>null</td><td>null</td><td>null</td><td>null</td><td>null</td><td>Integra LifeSciences Corporation</td><td>100000010950</td><td>Integra LifeSciences Corporation</td><td>NJ</td><td>United States</td><td>3921.61</td><td>04/30/2023</td><td>1</td><td>Cash or cash equivalent</td><td>Honoraria</td><td>null</td><td>null</td><td>null</td><td>No</td><td>No Third Party Payment</td><td>null</td><td>null</td><td>null</td><td>null</td><td>No</td><td>1031636896</td><td>No</td><td>Yes</td><td>Covered</td><td>Device</td><td>Neuro Critical Care</td><td>CODMAN CERTAS</td><td>null</td><td>10381780529033</td><td>Covered</td><td>Device</td><td>Neuro Critical Care</td><td>CUSA CLARITY</td><td>null</td><td>10381780126232</td><td>null</td><td>null</td><td>null</td><td>null</td><td>null</td><td>null</td><td>null</td><td>null</td><td>null</td><td>null</td><td>null</td><td>null</td><td>null</td><td>null</td><td>null</td><td>null</td><td>null</td><td>null</td><td>2023</td><td>01/30/2025</td></tr><tr><td>CHANGED</td><td>Covered Recipient Teaching Hospital</td><td>220162</td><td>9984</td><td>Uc Davis Medical Center</td><td>null</td><td>null</td><td>null</td><td>null</td><td>null</td><td>null</td><td>2315 Stockton Blvd</td><td>null</td><td>Sacramento</td><td>CA</td><td>95817</td><td>United States</td><td>null</td><td>null</td><td>null</td><td>null</td><td>null</td><td>null</td><td>null</td><td>null</td><td>null</td><td>null</td><td>null</td><td>null</td><td>null</td><td>null</td><td>null</td><td>null</td><td>null</td><td>null</td><td>null</td><td>Integra LifeSciences Corporation</td><td>100000010950</td><td>Integra LifeSciences Corporation</td><td>NJ</td><td>United States</td><td>5831.45</td><td>10/30/2023</td><td>1</td><td>Cash or cash equivalent</td><td>Royalty or License</td><td>null</td><td>null</td><td>null</td><td>No</td><td>No Third Party Payment</td><td>null</td><td>null</td><td>null</td><td>null</td><td>No</td><td>1031636903</td><td>No</td><td>Yes</td><td>Covered</td><td>Device</td><td>Neuro Critical Care</td><td>LimiTorr</td><td>null</td><td>10381780071136</td><td>null</td><td>null</td><td>null</td><td>null</td><td>null</td><td>null</td><td>null</td><td>null</td><td>null</td><td>null</td><td>null</td><td>null</td><td>null</td><td>null</td><td>null</td><td>null</td><td>null</td><td>null</td><td>null</td><td>null</td><td>null</td><td>null</td><td>null</td><td>null</td><td>2023</td><td>01/30/2025</td></tr><tr><td>CHANGED</td><td>Covered Recipient Teaching Hospital</td><td>220162</td><td>9984</td><td>Uc Davis Medical Center</td><td>null</td><td>null</td><td>null</td><td>null</td><td>null</td><td>null</td><td>2315 Stockton Blvd</td><td>null</td><td>Sacramento</td><td>CA</td><td>95817</td><td>United States</td><td>null</td><td>null</td><td>null</td><td>null</td><td>null</td><td>null</td><td>null</td><td>null</td><td>null</td><td>null</td><td>null</td><td>null</td><td>null</td><td>null</td><td>null</td><td>null</td><td>null</td><td>null</td><td>null</td><td>Integra LifeSciences Corporation</td><td>100000010950</td><td>Integra LifeSciences Corporation</td><td>NJ</td><td>United States</td><td>2567.53</td><td>07/30/2023</td><td>1</td><td>Cash or cash equivalent</td><td>Royalty or License</td><td>null</td><td>null</td><td>null</td><td>No</td><td>No Third Party Payment</td><td>null</td><td>null</td><td>null</td><td>null</td><td>No</td><td>1031636909</td><td>No</td><td>Yes</td><td>Covered</td><td>Device</td><td>Neuro Critical Care</td><td>LimiTorr</td><td>null</td><td>10381780071136</td><td>null</td><td>null</td><td>null</td><td>null</td><td>null</td><td>null</td><td>null</td><td>null</td><td>null</td><td>null</td><td>null</td><td>null</td><td>null</td><td>null</td><td>null</td><td>null</td><td>null</td><td>null</td><td>null</td><td>null</td><td>null</td><td>null</td><td>null</td><td>null</td><td>2023</td><td>01/30/2025</td></tr><tr><td>CHANGED</td><td>Covered Recipient Teaching Hospital</td><td>220162</td><td>9984</td><td>Uc Davis Medical Center</td><td>null</td><td>null</td><td>null</td><td>null</td><td>null</td><td>null</td><td>2315 Stockton Blvd</td><td>null</td><td>Sacramento</td><td>CA</td><td>95817</td><td>United States</td><td>null</td><td>null</td><td>null</td><td>null</td><td>null</td><td>null</td><td>null</td><td>null</td><td>null</td><td>null</td><td>null</td><td>null</td><td>null</td><td>null</td><td>null</td><td>null</td><td>null</td><td>null</td><td>null</td><td>Integra LifeSciences Corporation</td><td>100000010950</td><td>Integra LifeSciences Corporation</td><td>NJ</td><td>United States</td><td>1000.00</td><td>05/18/2023</td><td>1</td><td>Cash or cash equivalent</td><td>Grant</td><td>null</td><td>null</td><td>null</td><td>No</td><td>No Third Party Payment</td><td>null</td><td>null</td><td>null</td><td>null</td><td>No</td><td>1031636915</td><td>No</td><td>Yes</td><td>Covered</td><td>Device</td><td>Neuro Critical Care</td><td>CODMAN CERTAS</td><td>null</td><td>10381780529033</td><td>null</td><td>null</td><td>null</td><td>null</td><td>null</td><td>null</td><td>null</td><td>null</td><td>null</td><td>null</td><td>null</td><td>null</td><td>null</td><td>null</td><td>null</td><td>null</td><td>null</td><td>null</td><td>null</td><td>null</td><td>null</td><td>null</td><td>null</td><td>null</td><td>2023</td><td>01/30/2025</td></tr><tr><td>CHANGED</td><td>Covered Recipient Teaching Hospital</td><td>220162</td><td>9984</td><td>University Of Virginia Medical Cente</td><td>null</td><td>null</td><td>null</td><td>null</td><td>null</td><td>null</td><td>1215 Lee St Pfs</td><td>null</td><td>Charlottesville</td><td>VA</td><td>22908</td><td>United States</td><td>null</td><td>null</td><td>null</td><td>null</td><td>null</td><td>null</td><td>null</td><td>null</td><td>null</td><td>null</td><td>null</td><td>null</td><td>null</td><td>null</td><td>null</td><td>null</td><td>null</td><td>null</td><td>null</td><td>Integra LifeSciences Corporation</td><td>100000010950</td><td>Integra LifeSciences Corporation</td><td>NJ</td><td>United States</td><td>1000.00</td><td>05/12/2023</td><td>1</td><td>Cash or cash equivalent</td><td>Grant</td><td>null</td><td>null</td><td>null</td><td>No</td><td>No Third Party Payment</td><td>null</td><td>null</td><td>null</td><td>null</td><td>No</td><td>1031636921</td><td>No</td><td>Yes</td><td>Covered</td><td>Device</td><td>Neuro Critical Care</td><td>CODMAN CERTAS</td><td>null</td><td>10381780529033</td><td>null</td><td>null</td><td>null</td><td>null</td><td>null</td><td>null</td><td>null</td><td>null</td><td>null</td><td>null</td><td>null</td><td>null</td><td>null</td><td>null</td><td>null</td><td>null</td><td>null</td><td>null</td><td>null</td><td>null</td><td>null</td><td>null</td><td>null</td><td>null</td><td>2023</td><td>01/30/2025</td></tr><tr><td>CHANGED</td><td>Covered Recipient Teaching Hospital</td><td>220162</td><td>9984</td><td>CARLE FOUNDATION HOSPITAL</td><td>null</td><td>null</td><td>null</td><td>null</td><td>null</td><td>null</td><td>2300 N VERMILION ST</td><td>null</td><td>DANVILLE</td><td>IL</td><td>61832</td><td>United States</td><td>null</td><td>null</td><td>null</td><td>null</td><td>null</td><td>null</td><td>null</td><td>null</td><td>null</td><td>null</td><td>null</td><td>null</td><td>null</td><td>null</td><td>null</td><td>null</td><td>null</td><td>null</td><td>null</td><td>Ironshore Pharmaceuticals Inc.</td><td>100000601811</td><td>IRONSHORE PHARMACEUTICALS INC.</td><td>NC</td><td>United States</td><td>1000.00</td><td>08/18/2023</td><td>1</td><td>Cash or cash equivalent</td><td>Education</td><td>null</td><td>null</td><td>null</td><td>null</td><td>No Third Party Payment</td><td>null</td><td>null</td><td>null</td><td>null</td><td>No</td><td>1060452359</td><td>No</td><td>Yes</td><td>Covered</td><td>Drug</td><td>CENTRAL NERVOUS SYSTEM STIMULANT</td><td>JORNAY PM</td><td>71376-201-03</td><td>null</td><td>null</td><td>null</td><td>null</td><td>null</td><td>null</td><td>null</td><td>null</td><td>null</td><td>null</td><td>null</td><td>null</td><td>null</td><td>null</td><td>null</td><td>null</td><td>null</td><td>null</td><td>null</td><td>null</td><td>null</td><td>null</td><td>null</td><td>null</td><td>null</td><td>2023</td><td>01/30/2025</td></tr></tbody></table></div>"
      ]
     },
     "metadata": {
      "application/vnd.databricks.v1+output": {
       "addedWidgets": {},
       "aggData": [],
       "aggError": "",
       "aggOverflow": false,
       "aggSchema": [],
       "aggSeriesLimitReached": false,
       "aggType": "",
       "arguments": {},
       "columnCustomDisplayInfos": {},
       "data": [
        [
         "CHANGED",
         "Covered Recipient Teaching Hospital",
         "220162",
         "9984",
         "Adventhealth Orlando",
         null,
         null,
         null,
         null,
         null,
         null,
         "601 E Rollins St",
         null,
         "Orlando",
         "FL",
         "32803",
         "United States",
         null,
         null,
         null,
         null,
         null,
         null,
         null,
         null,
         null,
         null,
         null,
         null,
         null,
         null,
         null,
         null,
         null,
         null,
         null,
         "Integra LifeSciences Corporation",
         "100000010950",
         "Integra LifeSciences Corporation",
         "NJ",
         "United States",
         "2000.00",
         "07/20/2023",
         "1",
         "Cash or cash equivalent",
         "Grant",
         null,
         null,
         null,
         "No",
         "No Third Party Payment",
         null,
         null,
         null,
         null,
         "No",
         "1031636873",
         "No",
         "Yes",
         "Covered",
         "Device",
         "Neuro Critical Care",
         "CODMAN CERTAS",
         null,
         "10381780529033",
         null,
         null,
         null,
         null,
         null,
         null,
         null,
         null,
         null,
         null,
         null,
         null,
         null,
         null,
         null,
         null,
         null,
         null,
         null,
         null,
         null,
         null,
         null,
         null,
         2023,
         "01/30/2025"
        ],
        [
         "CHANGED",
         "Covered Recipient Teaching Hospital",
         "220162",
         "9984",
         "Carle Foundation Hospital",
         null,
         null,
         null,
         null,
         null,
         null,
         "2300 N Vermilion St",
         null,
         "Danville",
         "IL",
         "61832",
         "United States",
         null,
         null,
         null,
         null,
         null,
         null,
         null,
         null,
         null,
         null,
         null,
         null,
         null,
         null,
         null,
         null,
         null,
         null,
         null,
         "Integra LifeSciences Corporation",
         "100000010950",
         "Integra LifeSciences Corporation",
         "NJ",
         "United States",
         "1500.00",
         "11/03/2023",
         "1",
         "Cash or cash equivalent",
         "Grant",
         null,
         null,
         null,
         "No",
         "No Third Party Payment",
         null,
         null,
         null,
         null,
         "No",
         "1031636879",
         "No",
         "Yes",
         "Covered",
         "Device",
         "Neuro Critical Care",
         "CODMAN CERTAS",
         null,
         "10381780529033",
         null,
         null,
         null,
         null,
         null,
         null,
         null,
         null,
         null,
         null,
         null,
         null,
         null,
         null,
         null,
         null,
         null,
         null,
         null,
         null,
         null,
         null,
         null,
         null,
         2023,
         "01/30/2025"
        ],
        [
         "CHANGED",
         "Covered Recipient Teaching Hospital",
         "220162",
         "9984",
         "St. Josephs Hospital & Medical Ctr",
         null,
         null,
         null,
         null,
         null,
         null,
         "4975 N Dysart Rd Ste 100",
         null,
         "Litchfield Park",
         "AZ",
         "85340",
         "United States",
         null,
         null,
         null,
         null,
         null,
         null,
         null,
         null,
         null,
         null,
         null,
         null,
         null,
         null,
         null,
         null,
         null,
         null,
         null,
         "Integra LifeSciences Corporation",
         "100000010950",
         "Integra LifeSciences Corporation",
         "NJ",
         "United States",
         "2500.00",
         "03/21/2023",
         "1",
         "Cash or cash equivalent",
         "Grant",
         null,
         null,
         null,
         "No",
         "No Third Party Payment",
         null,
         null,
         null,
         null,
         "No",
         "1031636885",
         "No",
         "Yes",
         "Covered",
         "Device",
         "Neuro Critical Care",
         "CODMAN CERTAS",
         null,
         "10381780529033",
         null,
         null,
         null,
         null,
         null,
         null,
         null,
         null,
         null,
         null,
         null,
         null,
         null,
         null,
         null,
         null,
         null,
         null,
         null,
         null,
         null,
         null,
         null,
         null,
         2023,
         "01/30/2025"
        ],
        [
         "CHANGED",
         "Covered Recipient Teaching Hospital",
         "220162",
         "9984",
         "St. Josephs Hospital & Medical Ctr",
         null,
         null,
         null,
         null,
         null,
         null,
         "4975 N Dysart Rd Ste 100",
         null,
         "Litchfield Park",
         "AZ",
         "85340",
         "United States",
         null,
         null,
         null,
         null,
         null,
         null,
         null,
         null,
         null,
         null,
         null,
         null,
         null,
         null,
         null,
         null,
         null,
         null,
         null,
         "Integra LifeSciences Corporation",
         "100000010950",
         "Integra LifeSciences Corporation",
         "NJ",
         "United States",
         "3000.00",
         "04/14/2023",
         "1",
         "Cash or cash equivalent",
         "Grant",
         null,
         null,
         null,
         "No",
         "No Third Party Payment",
         null,
         null,
         null,
         null,
         "No",
         "1031636889",
         "No",
         "Yes",
         "Covered",
         "Device",
         "Neuro Critical Care",
         "CODMAN CERTAS",
         null,
         "10381780529033",
         null,
         null,
         null,
         null,
         null,
         null,
         null,
         null,
         null,
         null,
         null,
         null,
         null,
         null,
         null,
         null,
         null,
         null,
         null,
         null,
         null,
         null,
         null,
         null,
         2023,
         "01/30/2025"
        ],
        [
         "CHANGED",
         "Covered Recipient Teaching Hospital",
         "220162",
         "9984",
         "Uc Davis Medical Center",
         null,
         null,
         null,
         null,
         null,
         null,
         "2315 Stockton Blvd",
         null,
         "Sacramento",
         "CA",
         "95817",
         "United States",
         null,
         null,
         null,
         null,
         null,
         null,
         null,
         null,
         null,
         null,
         null,
         null,
         null,
         null,
         null,
         null,
         null,
         null,
         null,
         "Integra LifeSciences Corporation",
         "100000010950",
         "Integra LifeSciences Corporation",
         "NJ",
         "United States",
         "3921.61",
         "04/30/2023",
         "1",
         "Cash or cash equivalent",
         "Honoraria",
         null,
         null,
         null,
         "No",
         "No Third Party Payment",
         null,
         null,
         null,
         null,
         "No",
         "1031636896",
         "No",
         "Yes",
         "Covered",
         "Device",
         "Neuro Critical Care",
         "CODMAN CERTAS",
         null,
         "10381780529033",
         "Covered",
         "Device",
         "Neuro Critical Care",
         "CUSA CLARITY",
         null,
         "10381780126232",
         null,
         null,
         null,
         null,
         null,
         null,
         null,
         null,
         null,
         null,
         null,
         null,
         null,
         null,
         null,
         null,
         null,
         null,
         2023,
         "01/30/2025"
        ],
        [
         "CHANGED",
         "Covered Recipient Teaching Hospital",
         "220162",
         "9984",
         "Uc Davis Medical Center",
         null,
         null,
         null,
         null,
         null,
         null,
         "2315 Stockton Blvd",
         null,
         "Sacramento",
         "CA",
         "95817",
         "United States",
         null,
         null,
         null,
         null,
         null,
         null,
         null,
         null,
         null,
         null,
         null,
         null,
         null,
         null,
         null,
         null,
         null,
         null,
         null,
         "Integra LifeSciences Corporation",
         "100000010950",
         "Integra LifeSciences Corporation",
         "NJ",
         "United States",
         "5831.45",
         "10/30/2023",
         "1",
         "Cash or cash equivalent",
         "Royalty or License",
         null,
         null,
         null,
         "No",
         "No Third Party Payment",
         null,
         null,
         null,
         null,
         "No",
         "1031636903",
         "No",
         "Yes",
         "Covered",
         "Device",
         "Neuro Critical Care",
         "LimiTorr",
         null,
         "10381780071136",
         null,
         null,
         null,
         null,
         null,
         null,
         null,
         null,
         null,
         null,
         null,
         null,
         null,
         null,
         null,
         null,
         null,
         null,
         null,
         null,
         null,
         null,
         null,
         null,
         2023,
         "01/30/2025"
        ],
        [
         "CHANGED",
         "Covered Recipient Teaching Hospital",
         "220162",
         "9984",
         "Uc Davis Medical Center",
         null,
         null,
         null,
         null,
         null,
         null,
         "2315 Stockton Blvd",
         null,
         "Sacramento",
         "CA",
         "95817",
         "United States",
         null,
         null,
         null,
         null,
         null,
         null,
         null,
         null,
         null,
         null,
         null,
         null,
         null,
         null,
         null,
         null,
         null,
         null,
         null,
         "Integra LifeSciences Corporation",
         "100000010950",
         "Integra LifeSciences Corporation",
         "NJ",
         "United States",
         "2567.53",
         "07/30/2023",
         "1",
         "Cash or cash equivalent",
         "Royalty or License",
         null,
         null,
         null,
         "No",
         "No Third Party Payment",
         null,
         null,
         null,
         null,
         "No",
         "1031636909",
         "No",
         "Yes",
         "Covered",
         "Device",
         "Neuro Critical Care",
         "LimiTorr",
         null,
         "10381780071136",
         null,
         null,
         null,
         null,
         null,
         null,
         null,
         null,
         null,
         null,
         null,
         null,
         null,
         null,
         null,
         null,
         null,
         null,
         null,
         null,
         null,
         null,
         null,
         null,
         2023,
         "01/30/2025"
        ],
        [
         "CHANGED",
         "Covered Recipient Teaching Hospital",
         "220162",
         "9984",
         "Uc Davis Medical Center",
         null,
         null,
         null,
         null,
         null,
         null,
         "2315 Stockton Blvd",
         null,
         "Sacramento",
         "CA",
         "95817",
         "United States",
         null,
         null,
         null,
         null,
         null,
         null,
         null,
         null,
         null,
         null,
         null,
         null,
         null,
         null,
         null,
         null,
         null,
         null,
         null,
         "Integra LifeSciences Corporation",
         "100000010950",
         "Integra LifeSciences Corporation",
         "NJ",
         "United States",
         "1000.00",
         "05/18/2023",
         "1",
         "Cash or cash equivalent",
         "Grant",
         null,
         null,
         null,
         "No",
         "No Third Party Payment",
         null,
         null,
         null,
         null,
         "No",
         "1031636915",
         "No",
         "Yes",
         "Covered",
         "Device",
         "Neuro Critical Care",
         "CODMAN CERTAS",
         null,
         "10381780529033",
         null,
         null,
         null,
         null,
         null,
         null,
         null,
         null,
         null,
         null,
         null,
         null,
         null,
         null,
         null,
         null,
         null,
         null,
         null,
         null,
         null,
         null,
         null,
         null,
         2023,
         "01/30/2025"
        ],
        [
         "CHANGED",
         "Covered Recipient Teaching Hospital",
         "220162",
         "9984",
         "University Of Virginia Medical Cente",
         null,
         null,
         null,
         null,
         null,
         null,
         "1215 Lee St Pfs",
         null,
         "Charlottesville",
         "VA",
         "22908",
         "United States",
         null,
         null,
         null,
         null,
         null,
         null,
         null,
         null,
         null,
         null,
         null,
         null,
         null,
         null,
         null,
         null,
         null,
         null,
         null,
         "Integra LifeSciences Corporation",
         "100000010950",
         "Integra LifeSciences Corporation",
         "NJ",
         "United States",
         "1000.00",
         "05/12/2023",
         "1",
         "Cash or cash equivalent",
         "Grant",
         null,
         null,
         null,
         "No",
         "No Third Party Payment",
         null,
         null,
         null,
         null,
         "No",
         "1031636921",
         "No",
         "Yes",
         "Covered",
         "Device",
         "Neuro Critical Care",
         "CODMAN CERTAS",
         null,
         "10381780529033",
         null,
         null,
         null,
         null,
         null,
         null,
         null,
         null,
         null,
         null,
         null,
         null,
         null,
         null,
         null,
         null,
         null,
         null,
         null,
         null,
         null,
         null,
         null,
         null,
         2023,
         "01/30/2025"
        ],
        [
         "CHANGED",
         "Covered Recipient Teaching Hospital",
         "220162",
         "9984",
         "CARLE FOUNDATION HOSPITAL",
         null,
         null,
         null,
         null,
         null,
         null,
         "2300 N VERMILION ST",
         null,
         "DANVILLE",
         "IL",
         "61832",
         "United States",
         null,
         null,
         null,
         null,
         null,
         null,
         null,
         null,
         null,
         null,
         null,
         null,
         null,
         null,
         null,
         null,
         null,
         null,
         null,
         "Ironshore Pharmaceuticals Inc.",
         "100000601811",
         "IRONSHORE PHARMACEUTICALS INC.",
         "NC",
         "United States",
         "1000.00",
         "08/18/2023",
         "1",
         "Cash or cash equivalent",
         "Education",
         null,
         null,
         null,
         null,
         "No Third Party Payment",
         null,
         null,
         null,
         null,
         "No",
         "1060452359",
         "No",
         "Yes",
         "Covered",
         "Drug",
         "CENTRAL NERVOUS SYSTEM STIMULANT",
         "JORNAY PM",
         "71376-201-03",
         null,
         null,
         null,
         null,
         null,
         null,
         null,
         null,
         null,
         null,
         null,
         null,
         null,
         null,
         null,
         null,
         null,
         null,
         null,
         null,
         null,
         null,
         null,
         null,
         null,
         2023,
         "01/30/2025"
        ]
       ],
       "datasetInfos": [],
       "dbfsResultPath": null,
       "isJsonSchema": true,
       "metadata": {},
       "overflow": false,
       "plotOptions": {
        "customPlotOptions": {},
        "displayType": "table",
        "pivotAggregation": null,
        "pivotColumns": null,
        "xColumns": null,
        "yColumns": null
       },
       "removedWidgets": [],
       "schema": [
        {
         "metadata": "{}",
         "name": "Change_Type",
         "type": "\"string\""
        },
        {
         "metadata": "{}",
         "name": "Covered_Recipient_Type",
         "type": "\"string\""
        },
        {
         "metadata": "{}",
         "name": "Teaching_Hospital_CCN",
         "type": "\"string\""
        },
        {
         "metadata": "{}",
         "name": "Teaching_Hospital_ID",
         "type": "\"string\""
        },
        {
         "metadata": "{}",
         "name": "Teaching_Hospital_Name",
         "type": "\"string\""
        },
        {
         "metadata": "{}",
         "name": "Covered_Recipient_Profile_ID",
         "type": "\"string\""
        },
        {
         "metadata": "{}",
         "name": "Covered_Recipient_NPI",
         "type": "\"string\""
        },
        {
         "metadata": "{}",
         "name": "Covered_Recipient_First_Name",
         "type": "\"string\""
        },
        {
         "metadata": "{}",
         "name": "Covered_Recipient_Middle_Name",
         "type": "\"string\""
        },
        {
         "metadata": "{}",
         "name": "Covered_Recipient_Last_Name",
         "type": "\"string\""
        },
        {
         "metadata": "{}",
         "name": "Covered_Recipient_Name_Suffix",
         "type": "\"string\""
        },
        {
         "metadata": "{}",
         "name": "Recipient_Primary_Business_Street_Address_Line1",
         "type": "\"string\""
        },
        {
         "metadata": "{}",
         "name": "Recipient_Primary_Business_Street_Address_Line2",
         "type": "\"string\""
        },
        {
         "metadata": "{}",
         "name": "Recipient_City",
         "type": "\"string\""
        },
        {
         "metadata": "{}",
         "name": "Recipient_State",
         "type": "\"string\""
        },
        {
         "metadata": "{}",
         "name": "Recipient_Zip_Code",
         "type": "\"string\""
        },
        {
         "metadata": "{}",
         "name": "Recipient_Country",
         "type": "\"string\""
        },
        {
         "metadata": "{}",
         "name": "Recipient_Province",
         "type": "\"string\""
        },
        {
         "metadata": "{}",
         "name": "Recipient_Postal_Code",
         "type": "\"string\""
        },
        {
         "metadata": "{}",
         "name": "Covered_Recipient_Primary_Type_1",
         "type": "\"string\""
        },
        {
         "metadata": "{}",
         "name": "Covered_Recipient_Primary_Type_2",
         "type": "\"string\""
        },
        {
         "metadata": "{}",
         "name": "Covered_Recipient_Primary_Type_3",
         "type": "\"string\""
        },
        {
         "metadata": "{}",
         "name": "Covered_Recipient_Primary_Type_4",
         "type": "\"string\""
        },
        {
         "metadata": "{}",
         "name": "Covered_Recipient_Primary_Type_5",
         "type": "\"string\""
        },
        {
         "metadata": "{}",
         "name": "Covered_Recipient_Primary_Type_6",
         "type": "\"string\""
        },
        {
         "metadata": "{}",
         "name": "Covered_Recipient_Specialty_1",
         "type": "\"string\""
        },
        {
         "metadata": "{}",
         "name": "Covered_Recipient_Specialty_2",
         "type": "\"string\""
        },
        {
         "metadata": "{}",
         "name": "Covered_Recipient_Specialty_3",
         "type": "\"string\""
        },
        {
         "metadata": "{}",
         "name": "Covered_Recipient_Specialty_4",
         "type": "\"string\""
        },
        {
         "metadata": "{}",
         "name": "Covered_Recipient_Specialty_5",
         "type": "\"string\""
        },
        {
         "metadata": "{}",
         "name": "Covered_Recipient_Specialty_6",
         "type": "\"string\""
        },
        {
         "metadata": "{}",
         "name": "Covered_Recipient_License_State_code1",
         "type": "\"string\""
        },
        {
         "metadata": "{}",
         "name": "Covered_Recipient_License_State_code2",
         "type": "\"string\""
        },
        {
         "metadata": "{}",
         "name": "Covered_Recipient_License_State_code3",
         "type": "\"string\""
        },
        {
         "metadata": "{}",
         "name": "Covered_Recipient_License_State_code4",
         "type": "\"string\""
        },
        {
         "metadata": "{}",
         "name": "Covered_Recipient_License_State_code5",
         "type": "\"string\""
        },
        {
         "metadata": "{}",
         "name": "Submitting_Applicable_Manufacturer_or_Applicable_GPO_Name",
         "type": "\"string\""
        },
        {
         "metadata": "{}",
         "name": "Applicable_Manufacturer_or_Applicable_GPO_Making_Payment_ID",
         "type": "\"string\""
        },
        {
         "metadata": "{}",
         "name": "Applicable_Manufacturer_or_Applicable_GPO_Making_Payment_Name",
         "type": "\"string\""
        },
        {
         "metadata": "{}",
         "name": "Applicable_Manufacturer_or_Applicable_GPO_Making_Payment_State",
         "type": "\"string\""
        },
        {
         "metadata": "{}",
         "name": "Applicable_Manufacturer_or_Applicable_GPO_Making_Payment_Country",
         "type": "\"string\""
        },
        {
         "metadata": "{}",
         "name": "Total_Amount_of_Payment_USDollars",
         "type": "\"string\""
        },
        {
         "metadata": "{}",
         "name": "Date_of_Payment",
         "type": "\"string\""
        },
        {
         "metadata": "{}",
         "name": "Number_of_Payments_Included_in_Total_Amount",
         "type": "\"string\""
        },
        {
         "metadata": "{}",
         "name": "Form_of_Payment_or_Transfer_of_Value",
         "type": "\"string\""
        },
        {
         "metadata": "{}",
         "name": "Nature_of_Payment_or_Transfer_of_Value",
         "type": "\"string\""
        },
        {
         "metadata": "{}",
         "name": "City_of_Travel",
         "type": "\"string\""
        },
        {
         "metadata": "{}",
         "name": "State_of_Travel",
         "type": "\"string\""
        },
        {
         "metadata": "{}",
         "name": "Country_of_Travel",
         "type": "\"string\""
        },
        {
         "metadata": "{}",
         "name": "Physician_Ownership_Indicator",
         "type": "\"string\""
        },
        {
         "metadata": "{}",
         "name": "Third_Party_Payment_Recipient_Indicator",
         "type": "\"string\""
        },
        {
         "metadata": "{}",
         "name": "Name_of_Third_Party_Entity_Receiving_Payment_or_Transfer_of_Value",
         "type": "\"string\""
        },
        {
         "metadata": "{}",
         "name": "Charity_Indicator",
         "type": "\"string\""
        },
        {
         "metadata": "{}",
         "name": "Third_Party_Equals_Covered_Recipient_Indicator",
         "type": "\"string\""
        },
        {
         "metadata": "{}",
         "name": "Contextual_Information",
         "type": "\"string\""
        },
        {
         "metadata": "{}",
         "name": "Delay_in_Publication_Indicator",
         "type": "\"string\""
        },
        {
         "metadata": "{}",
         "name": "Record_ID",
         "type": "\"string\""
        },
        {
         "metadata": "{}",
         "name": "Dispute_Status_for_Publication",
         "type": "\"string\""
        },
        {
         "metadata": "{}",
         "name": "Related_Product_Indicator",
         "type": "\"string\""
        },
        {
         "metadata": "{}",
         "name": "Covered_or_Noncovered_Indicator_1",
         "type": "\"string\""
        },
        {
         "metadata": "{}",
         "name": "Indicate_Drug_or_Biological_or_Device_or_Medical_Supply_1",
         "type": "\"string\""
        },
        {
         "metadata": "{}",
         "name": "Product_Category_or_Therapeutic_Area_1",
         "type": "\"string\""
        },
        {
         "metadata": "{}",
         "name": "Name_of_Drug_or_Biological_or_Device_or_Medical_Supply_1",
         "type": "\"string\""
        },
        {
         "metadata": "{}",
         "name": "Associated_Drug_or_Biological_NDC_1",
         "type": "\"string\""
        },
        {
         "metadata": "{}",
         "name": "Associated_Device_or_Medical_Supply_PDI_1",
         "type": "\"string\""
        },
        {
         "metadata": "{}",
         "name": "Covered_or_Noncovered_Indicator_2",
         "type": "\"string\""
        },
        {
         "metadata": "{}",
         "name": "Indicate_Drug_or_Biological_or_Device_or_Medical_Supply_2",
         "type": "\"string\""
        },
        {
         "metadata": "{}",
         "name": "Product_Category_or_Therapeutic_Area_2",
         "type": "\"string\""
        },
        {
         "metadata": "{}",
         "name": "Name_of_Drug_or_Biological_or_Device_or_Medical_Supply_2",
         "type": "\"string\""
        },
        {
         "metadata": "{}",
         "name": "Associated_Drug_or_Biological_NDC_2",
         "type": "\"string\""
        },
        {
         "metadata": "{}",
         "name": "Associated_Device_or_Medical_Supply_PDI_2",
         "type": "\"string\""
        },
        {
         "metadata": "{}",
         "name": "Covered_or_Noncovered_Indicator_3",
         "type": "\"string\""
        },
        {
         "metadata": "{}",
         "name": "Indicate_Drug_or_Biological_or_Device_or_Medical_Supply_3",
         "type": "\"string\""
        },
        {
         "metadata": "{}",
         "name": "Product_Category_or_Therapeutic_Area_3",
         "type": "\"string\""
        },
        {
         "metadata": "{}",
         "name": "Name_of_Drug_or_Biological_or_Device_or_Medical_Supply_3",
         "type": "\"string\""
        },
        {
         "metadata": "{}",
         "name": "Associated_Drug_or_Biological_NDC_3",
         "type": "\"string\""
        },
        {
         "metadata": "{}",
         "name": "Associated_Device_or_Medical_Supply_PDI_3",
         "type": "\"string\""
        },
        {
         "metadata": "{}",
         "name": "Covered_or_Noncovered_Indicator_4",
         "type": "\"string\""
        },
        {
         "metadata": "{}",
         "name": "Indicate_Drug_or_Biological_or_Device_or_Medical_Supply_4",
         "type": "\"string\""
        },
        {
         "metadata": "{}",
         "name": "Product_Category_or_Therapeutic_Area_4",
         "type": "\"string\""
        },
        {
         "metadata": "{}",
         "name": "Name_of_Drug_or_Biological_or_Device_or_Medical_Supply_4",
         "type": "\"string\""
        },
        {
         "metadata": "{}",
         "name": "Associated_Drug_or_Biological_NDC_4",
         "type": "\"string\""
        },
        {
         "metadata": "{}",
         "name": "Associated_Device_or_Medical_Supply_PDI_4",
         "type": "\"string\""
        },
        {
         "metadata": "{}",
         "name": "Covered_or_Noncovered_Indicator_5",
         "type": "\"string\""
        },
        {
         "metadata": "{}",
         "name": "Indicate_Drug_or_Biological_or_Device_or_Medical_Supply_5",
         "type": "\"string\""
        },
        {
         "metadata": "{}",
         "name": "Product_Category_or_Therapeutic_Area_5",
         "type": "\"string\""
        },
        {
         "metadata": "{}",
         "name": "Name_of_Drug_or_Biological_or_Device_or_Medical_Supply_5",
         "type": "\"string\""
        },
        {
         "metadata": "{}",
         "name": "Associated_Drug_or_Biological_NDC_5",
         "type": "\"string\""
        },
        {
         "metadata": "{}",
         "name": "Associated_Device_or_Medical_Supply_PDI_5",
         "type": "\"string\""
        },
        {
         "metadata": "{}",
         "name": "Program_Year",
         "type": "\"integer\""
        },
        {
         "metadata": "{}",
         "name": "Payment_Publication_Date",
         "type": "\"string\""
        }
       ],
       "type": "table"
      }
     },
     "output_type": "display_data"
    }
   ],
   "source": [
    "# File location and type\n",
    "file_location = \"/FileStore/tables/OP_DTL_GNRL_PGYR2023_P01302025_01212025.csv\"\n",
    "file_type = \"csv\"\n",
    "\n",
    "# CSV options\n",
    "infer_schema = \"True\"\n",
    "first_row_is_header = \"True\"\n",
    "delimiter = \",\"\n",
    "\n",
    "# The applied options are for CSV files. For other file types, these will be ignored.\n",
    "open_payments_df = spark.read.format(file_type) \\\n",
    "  .option(\"inferSchema\", infer_schema) \\\n",
    "  .option(\"header\", first_row_is_header) \\\n",
    "  .option(\"sep\", delimiter) \\\n",
    "  .load(file_location)\n",
    "display(open_payments_df.limit(10))"
   ]
  },
  {
   "cell_type": "markdown",
   "metadata": {
    "application/vnd.databricks.v1+cell": {
     "cellMetadata": {
      "byteLimit": 2048000,
      "rowLimit": 10000
     },
     "inputWidgets": {},
     "nuid": "75e817f9-9a21-4abf-b0c6-1e92ea13cc55",
     "showTitle": false,
     "tableResultSettingsMap": {},
     "title": ""
    }
   },
   "source": [
    "## COVERED RECEIPIENTS DATA"
   ]
  },
  {
   "cell_type": "code",
   "execution_count": 0,
   "metadata": {
    "application/vnd.databricks.v1+cell": {
     "cellMetadata": {
      "byteLimit": 2048000,
      "rowLimit": 10000
     },
     "inputWidgets": {},
     "nuid": "ad1f15df-1339-4a66-9534-8c832c2e9ff1",
     "showTitle": false,
     "tableResultSettingsMap": {},
     "title": ""
    }
   },
   "outputs": [
    {
     "output_type": "stream",
     "name": "stdout",
     "output_type": "stream",
     "text": [
      "Out[6]: ['hsperfdata_root',\n 'OP_REMOVED_DELETED_PGYR2023_P01302025_01212025.csv',\n 'Rserv',\n 'Rtmp4oxR6z',\n '.font-unix',\n 'chauffeur-daemon-params',\n '.X11-unix',\n 'OP_DTL_RSRCH_PGYR2023_P01302025_01212025.csv',\n 'OP_CVRD_RCPNT_PRFL_SPLMTL_P01302025_01212025.csv',\n '.ICE-unix',\n '.Test-unix',\n 'systemd-private-c7f4359a1d6342a09bc2ccb2eb95edb7-systemd-resolved.service-JHfnpi',\n 'OP_DTL_OWNRSHP_PGYR2023_P01302025_01212025.csv',\n '.PHPRFL_P01302025.zip.crc',\n 'systemd-private-c7f4359a1d6342a09bc2ccb2eb95edb7-apache2.service-2mJw2i',\n 'driver-daemon-params',\n 'OP_CVRD_RCPNT_PRFL_SPLMTL_README_P01302025.txt',\n 'PGYR2023_P01302025.zip',\n '.XIM-unix',\n 'OP_PGYR2023_README_P01302025.txt',\n 'tmp.jbElhfi48u',\n 'systemd-private-c7f4359a1d6342a09bc2ccb2eb95edb7-ntp.service-TCyRWg',\n 'chauffeur-env.sh',\n 'systemd-private-c7f4359a1d6342a09bc2ccb2eb95edb7-systemd-logind.service-Uio3hf',\n 'chauffeur-daemon.pid',\n 'custom-spark.conf',\n '.PGYR2023_P01302025.zip.crc',\n 'driver-daemon.pid',\n 'driver-env.sh',\n 'PHPRFL_P01302025.zip']"
     ]
    }
   ],
   "source": [
    "#unzipping the open payments zip file\n",
    "dbutils.fs.cp(\"dbfs:/FileStore/tables/PHPRFL_P01302025_01212025.zip\", \"file:/tmp/PHPRFL_P01302025.zip\")\n",
    "\n",
    "with zipfile.ZipFile(\"/tmp/PHPRFL_P01302025.zip\", \"r\") as zip_ref:\n",
    "    zip_ref.extractall(\"/tmp/\")\n",
    "\n",
    "# List extracted files\n",
    "os.listdir(\"/tmp/\") #ensuring the zip file is unzipped properly"
   ]
  },
  {
   "cell_type": "code",
   "execution_count": 0,
   "metadata": {
    "application/vnd.databricks.v1+cell": {
     "cellMetadata": {
      "byteLimit": 2048000,
      "rowLimit": 10000
     },
     "inputWidgets": {},
     "nuid": "43742d1f-e3e7-4012-894b-95afadd3d82e",
     "showTitle": false,
     "tableResultSettingsMap": {},
     "title": ""
    }
   },
   "outputs": [
    {
     "output_type": "stream",
     "name": "stdout",
     "output_type": "stream",
     "text": [
      "Out[7]: True"
     ]
    }
   ],
   "source": [
    "#Moving the csv file back to the DBFS\n",
    "dbutils.fs.mv(f\"file:/tmp/OP_CVRD_RCPNT_PRFL_SPLMTL_P01302025_01212025.csv\", \n",
    "              \"dbfs:/FileStore/tables/OP_CVRD_RCPNT_PRFL_SPLMTL_P01302025_01212025.csv\")"
   ]
  },
  {
   "cell_type": "code",
   "execution_count": 0,
   "metadata": {
    "application/vnd.databricks.v1+cell": {
     "cellMetadata": {
      "byteLimit": 2048000,
      "rowLimit": 10000
     },
     "inputWidgets": {},
     "nuid": "70ab3390-ae09-44a6-ad41-71f4de26367e",
     "showTitle": false,
     "tableResultSettingsMap": {
      "0": {
       "filterBlob": "{\"filterGroups\":[],\"syncTimestamp\":1742675547700}",
       "tableResultIndex": 0
      }
     },
     "title": ""
    }
   },
   "outputs": [
    {
     "output_type": "display_data",
     "data": {
      "text/html": [
       "<style scoped>\n",
       "  .table-result-container {\n",
       "    max-height: 300px;\n",
       "    overflow: auto;\n",
       "  }\n",
       "  table, th, td {\n",
       "    border: 1px solid black;\n",
       "    border-collapse: collapse;\n",
       "  }\n",
       "  th, td {\n",
       "    padding: 5px;\n",
       "  }\n",
       "  th {\n",
       "    text-align: left;\n",
       "  }\n",
       "</style><div class='table-result-container'><table class='table-result'><thead style='background-color: white'><tr><th>Covered_Recipient_Profile_Type</th><th>Covered_Recipient_Profile_ID</th><th>Associated_Covered_Recipient_Profile_ID_1</th><th>Associated_Covered_Recipient_Profile_ID_2</th><th>Covered_Recipient_NPI</th><th>Covered_Recipient_Profile_First_Name</th><th>Covered_Recipient_Profile_Middle_Name</th><th>Covered_Recipient_Profile_Last_Name</th><th>Covered_Recipient_Profile_Suffix</th><th>Covered_Recipient_Profile_Alternate_First_Name</th><th>Covered_Recipient_Profile_Alternate_Middle_Name</th><th>Covered_Recipient_Profile_Alternate_Last_Name</th><th>Covered_Recipient_Profile_Alternate_Suffix</th><th>Covered_Recipient_Profile_Address_Line_1</th><th>Covered_Recipient_Profile_Address_Line_2</th><th>Covered_Recipient_Profile_City</th><th>Covered_Recipient_Profile_State</th><th>Covered_Recipient_Profile_Zipcode</th><th>Covered_Recipient_Profile_Country_Name</th><th>Covered_Recipient_Profile_Province_Name</th><th>Covered_Recipient_Profile_Primary_Specialty</th><th>Covered_Recipient_Profile_OPS_Taxonomy_1</th><th>Covered_Recipient_Profile_OPS_Taxonomy_2</th><th>Covered_Recipient_Profile_OPS_Taxonomy_3</th><th>Covered_Recipient_Profile_OPS_Taxonomy_4</th><th>Covered_Recipient_Profile_OPS_Taxonomy_5</th><th>Covered_Recipient_Profile_OPS_Taxonomy_6</th><th>Covered_Recipient_Profile_License_State_Code_1</th><th>Covered_Recipient_Profile_License_State_Code_2</th><th>Covered_Recipient_Profile_License_State_Code_3</th><th>Covered_Recipient_Profile_License_State_Code_4</th><th>Covered_Recipient_Profile_License_State_Code_5</th></tr></thead><tbody><tr><td>Covered Recipient Physician</td><td>1</td><td>null</td><td>null</td><td>1003020595</td><td>BARRY</td><td>D</td><td>SIMMONS</td><td>null</td><td>BARRON</td><td>DAVID</td><td>SIMMONS</td><td>null</td><td>847 SOUTH MILLEDGE AVE</td><td>null</td><td>ATHENS</td><td>GA</td><td>30605-1331</td><td>UNITED STATES</td><td>null</td><td>Dental Providers|Dentist|General Practice</td><td>1223G0001X</td><td>null</td><td>null</td><td>null</td><td>null</td><td>null</td><td>GA</td><td>null</td><td>null</td><td>null</td><td>null</td></tr><tr><td>Covered Recipient Physician</td><td>2</td><td>null</td><td>null</td><td>1003022823</td><td>LINDSEY</td><td>R</td><td>SCHUSTER</td><td>null</td><td>LINDSEY</td><td>R</td><td>GROBER</td><td>null</td><td>15 HEIDI LN</td><td>null</td><td>MOUNT SINAI</td><td>NY</td><td>11766-1428</td><td>UNITED STATES</td><td>null</td><td>Allopathic & Osteopathic Physicians|Emergency Medicine</td><td>207P00000X</td><td>null</td><td>null</td><td>null</td><td>null</td><td>null</td><td>NY</td><td>PA</td><td>null</td><td>null</td><td>null</td></tr><tr><td>Covered Recipient Physician</td><td>3</td><td>null</td><td>null</td><td>1003023359</td><td>JUSTIN</td><td>H</td><td>RACKLEY</td><td>null</td><td>JUSTIN</td><td>HAMWAY</td><td>RACKLEY</td><td>null</td><td>1001 SAM PERRY BLVD</td><td>null</td><td>FREDERICKSBURG</td><td>VA</td><td>22401-4453</td><td>UNITED STATES</td><td>null</td><td>Allopathic & Osteopathic Physicians|Anesthesiology</td><td>207L00000X</td><td>null</td><td>null</td><td>null</td><td>null</td><td>null</td><td>VA</td><td>OH</td><td>null</td><td>null</td><td>null</td></tr><tr><td>Covered Recipient Physician</td><td>4</td><td>null</td><td>null</td><td>1003024811</td><td>LISA</td><td>L</td><td>HAMAKER</td><td>null</td><td>null</td><td>null</td><td>null</td><td>null</td><td>100 MARKET ST STE 300</td><td>null</td><td>COLLEGEVILLE</td><td>PA</td><td>19426-4927</td><td>UNITED STATES</td><td>null</td><td>Allopathic & Osteopathic Physicians|Internal Medicine|Endocrinology, Diabetes & Metabolism</td><td>207RE0101X</td><td>null</td><td>null</td><td>null</td><td>null</td><td>null</td><td>PA</td><td>null</td><td>null</td><td>null</td><td>null</td></tr><tr><td>Covered Recipient Physician</td><td>5</td><td>null</td><td>null</td><td>1003025875</td><td>PATRICK</td><td>E</td><td>DAVOL</td><td>null</td><td>PATRICK</td><td>ERIN</td><td>DAVOL</td><td>null</td><td>1698 E MCANDREWS RD STE 280</td><td>null</td><td>MEDFORD</td><td>OR</td><td>97504-5590</td><td>UNITED STATES</td><td>null</td><td>Allopathic & Osteopathic Physicians|Urology</td><td>208800000X</td><td>null</td><td>null</td><td>null</td><td>null</td><td>null</td><td>OR</td><td>IN</td><td>null</td><td>null</td><td>null</td></tr><tr><td>Covered Recipient Physician</td><td>6</td><td>null</td><td>null</td><td>1003026410</td><td>VIJAYA</td><td>L</td><td>MUMMADI</td><td>null</td><td>VIJAYA</td><td>null</td><td>MUMMADI</td><td>null</td><td>9900 N CENTRAL EXPY STE 225</td><td>null</td><td>DALLAS</td><td>TX</td><td>75231-0918</td><td>UNITED STATES</td><td>null</td><td>Allopathic & Osteopathic Physicians|Internal Medicine</td><td>207R00000X</td><td>null</td><td>null</td><td>null</td><td>null</td><td>null</td><td>TX</td><td>MI</td><td>FL</td><td>IL</td><td>null</td></tr><tr><td>Covered Recipient Physician</td><td>7</td><td>null</td><td>null</td><td>1003028150</td><td>JILL</td><td>null</td><td>WIRTH RISSMAN</td><td>null</td><td>JILL</td><td>null</td><td>WIRTH-RISSMAN</td><td>null</td><td>205 N CUMMINGS LN</td><td>null</td><td>WASHINGTON</td><td>IL</td><td>61571-2181</td><td>UNITED STATES</td><td>null</td><td>Allopathic & Osteopathic Physicians|Family Medicine|Sports Medicine</td><td>207QS0010X</td><td>207Q00000X</td><td>null</td><td>null</td><td>null</td><td>null</td><td>IL</td><td>MO</td><td>null</td><td>null</td><td>null</td></tr><tr><td>Covered Recipient Physician</td><td>9</td><td>null</td><td>null</td><td>1003033051</td><td>MARIANNA</td><td>A</td><td>POST</td><td>null</td><td>MARIANNA</td><td>ALEXSANDRA</td><td>POST</td><td>null</td><td>701 W COCOA BEACH CSWY</td><td>null</td><td>COCOA BEACH</td><td>FL</td><td>32931</td><td>UNITED STATES</td><td>null</td><td>Allopathic & Osteopathic Physicians|Hospitalist</td><td>207Q00000X</td><td>208M00000X</td><td>null</td><td>null</td><td>null</td><td>null</td><td>FL</td><td>MI</td><td>null</td><td>null</td><td>null</td></tr><tr><td>Covered Recipient Physician</td><td>10</td><td>null</td><td>null</td><td>1003000407</td><td>DAVID</td><td>J</td><td>GIRARDI</td><td>null</td><td>DAVID</td><td>JAMES</td><td>GIRARDI</td><td>null</td><td>306 PENN AVE</td><td>null</td><td>PITTSBURGH</td><td>PA</td><td>15221-2134</td><td>UNITED STATES</td><td>null</td><td>Allopathic & Osteopathic Physicians|Family Medicine</td><td>207Q00000X</td><td>208M00000X</td><td>208D00000X</td><td>null</td><td>null</td><td>null</td><td>PA</td><td>null</td><td>null</td><td>null</td><td>null</td></tr><tr><td>Covered Recipient Physician</td><td>11</td><td>null</td><td>null</td><td>1003002072</td><td>ALEXANDER</td><td>null</td><td>GOTESMAN</td><td>null</td><td>null</td><td>null</td><td>null</td><td>null</td><td>1374 WHITEHORSE HAMILTON SQUARE RD</td><td>STE 101</td><td>HAMILTON</td><td>NJ</td><td>08690-3701</td><td>UNITED STATES</td><td>null</td><td>Allopathic & Osteopathic Physicians|Urology</td><td>208800000X</td><td>null</td><td>null</td><td>null</td><td>null</td><td>null</td><td>NY</td><td>NJ</td><td>null</td><td>null</td><td>null</td></tr></tbody></table></div>"
      ]
     },
     "metadata": {
      "application/vnd.databricks.v1+output": {
       "addedWidgets": {},
       "aggData": [],
       "aggError": "",
       "aggOverflow": false,
       "aggSchema": [],
       "aggSeriesLimitReached": false,
       "aggType": "",
       "arguments": {},
       "columnCustomDisplayInfos": {},
       "data": [
        [
         "Covered Recipient Physician",
         1,
         null,
         null,
         1003020595,
         "BARRY",
         "D",
         "SIMMONS",
         null,
         "BARRON",
         "DAVID",
         "SIMMONS",
         null,
         "847 SOUTH MILLEDGE AVE",
         null,
         "ATHENS",
         "GA",
         "30605-1331",
         "UNITED STATES",
         null,
         "Dental Providers|Dentist|General Practice",
         "1223G0001X",
         null,
         null,
         null,
         null,
         null,
         "GA",
         null,
         null,
         null,
         null
        ],
        [
         "Covered Recipient Physician",
         2,
         null,
         null,
         1003022823,
         "LINDSEY",
         "R",
         "SCHUSTER",
         null,
         "LINDSEY",
         "R",
         "GROBER",
         null,
         "15 HEIDI LN",
         null,
         "MOUNT SINAI",
         "NY",
         "11766-1428",
         "UNITED STATES",
         null,
         "Allopathic & Osteopathic Physicians|Emergency Medicine",
         "207P00000X",
         null,
         null,
         null,
         null,
         null,
         "NY",
         "PA",
         null,
         null,
         null
        ],
        [
         "Covered Recipient Physician",
         3,
         null,
         null,
         1003023359,
         "JUSTIN",
         "H",
         "RACKLEY",
         null,
         "JUSTIN",
         "HAMWAY",
         "RACKLEY",
         null,
         "1001 SAM PERRY BLVD",
         null,
         "FREDERICKSBURG",
         "VA",
         "22401-4453",
         "UNITED STATES",
         null,
         "Allopathic & Osteopathic Physicians|Anesthesiology",
         "207L00000X",
         null,
         null,
         null,
         null,
         null,
         "VA",
         "OH",
         null,
         null,
         null
        ],
        [
         "Covered Recipient Physician",
         4,
         null,
         null,
         1003024811,
         "LISA",
         "L",
         "HAMAKER",
         null,
         null,
         null,
         null,
         null,
         "100 MARKET ST STE 300",
         null,
         "COLLEGEVILLE",
         "PA",
         "19426-4927",
         "UNITED STATES",
         null,
         "Allopathic & Osteopathic Physicians|Internal Medicine|Endocrinology, Diabetes & Metabolism",
         "207RE0101X",
         null,
         null,
         null,
         null,
         null,
         "PA",
         null,
         null,
         null,
         null
        ],
        [
         "Covered Recipient Physician",
         5,
         null,
         null,
         1003025875,
         "PATRICK",
         "E",
         "DAVOL",
         null,
         "PATRICK",
         "ERIN",
         "DAVOL",
         null,
         "1698 E MCANDREWS RD STE 280",
         null,
         "MEDFORD",
         "OR",
         "97504-5590",
         "UNITED STATES",
         null,
         "Allopathic & Osteopathic Physicians|Urology",
         "208800000X",
         null,
         null,
         null,
         null,
         null,
         "OR",
         "IN",
         null,
         null,
         null
        ],
        [
         "Covered Recipient Physician",
         6,
         null,
         null,
         1003026410,
         "VIJAYA",
         "L",
         "MUMMADI",
         null,
         "VIJAYA",
         null,
         "MUMMADI",
         null,
         "9900 N CENTRAL EXPY STE 225",
         null,
         "DALLAS",
         "TX",
         "75231-0918",
         "UNITED STATES",
         null,
         "Allopathic & Osteopathic Physicians|Internal Medicine",
         "207R00000X",
         null,
         null,
         null,
         null,
         null,
         "TX",
         "MI",
         "FL",
         "IL",
         null
        ],
        [
         "Covered Recipient Physician",
         7,
         null,
         null,
         1003028150,
         "JILL",
         null,
         "WIRTH RISSMAN",
         null,
         "JILL",
         null,
         "WIRTH-RISSMAN",
         null,
         "205 N CUMMINGS LN",
         null,
         "WASHINGTON",
         "IL",
         "61571-2181",
         "UNITED STATES",
         null,
         "Allopathic & Osteopathic Physicians|Family Medicine|Sports Medicine",
         "207QS0010X",
         "207Q00000X",
         null,
         null,
         null,
         null,
         "IL",
         "MO",
         null,
         null,
         null
        ],
        [
         "Covered Recipient Physician",
         9,
         null,
         null,
         1003033051,
         "MARIANNA",
         "A",
         "POST",
         null,
         "MARIANNA",
         "ALEXSANDRA",
         "POST",
         null,
         "701 W COCOA BEACH CSWY",
         null,
         "COCOA BEACH",
         "FL",
         "32931",
         "UNITED STATES",
         null,
         "Allopathic & Osteopathic Physicians|Hospitalist",
         "207Q00000X",
         "208M00000X",
         null,
         null,
         null,
         null,
         "FL",
         "MI",
         null,
         null,
         null
        ],
        [
         "Covered Recipient Physician",
         10,
         null,
         null,
         1003000407,
         "DAVID",
         "J",
         "GIRARDI",
         null,
         "DAVID",
         "JAMES",
         "GIRARDI",
         null,
         "306 PENN AVE",
         null,
         "PITTSBURGH",
         "PA",
         "15221-2134",
         "UNITED STATES",
         null,
         "Allopathic & Osteopathic Physicians|Family Medicine",
         "207Q00000X",
         "208M00000X",
         "208D00000X",
         null,
         null,
         null,
         "PA",
         null,
         null,
         null,
         null
        ],
        [
         "Covered Recipient Physician",
         11,
         null,
         null,
         1003002072,
         "ALEXANDER",
         null,
         "GOTESMAN",
         null,
         null,
         null,
         null,
         null,
         "1374 WHITEHORSE HAMILTON SQUARE RD",
         "STE 101",
         "HAMILTON",
         "NJ",
         "08690-3701",
         "UNITED STATES",
         null,
         "Allopathic & Osteopathic Physicians|Urology",
         "208800000X",
         null,
         null,
         null,
         null,
         null,
         "NY",
         "NJ",
         null,
         null,
         null
        ]
       ],
       "datasetInfos": [],
       "dbfsResultPath": null,
       "isJsonSchema": true,
       "metadata": {},
       "overflow": false,
       "plotOptions": {
        "customPlotOptions": {},
        "displayType": "table",
        "pivotAggregation": null,
        "pivotColumns": null,
        "xColumns": null,
        "yColumns": null
       },
       "removedWidgets": [],
       "schema": [
        {
         "metadata": "{}",
         "name": "Covered_Recipient_Profile_Type",
         "type": "\"string\""
        },
        {
         "metadata": "{}",
         "name": "Covered_Recipient_Profile_ID",
         "type": "\"integer\""
        },
        {
         "metadata": "{}",
         "name": "Associated_Covered_Recipient_Profile_ID_1",
         "type": "\"string\""
        },
        {
         "metadata": "{}",
         "name": "Associated_Covered_Recipient_Profile_ID_2",
         "type": "\"string\""
        },
        {
         "metadata": "{}",
         "name": "Covered_Recipient_NPI",
         "type": "\"integer\""
        },
        {
         "metadata": "{}",
         "name": "Covered_Recipient_Profile_First_Name",
         "type": "\"string\""
        },
        {
         "metadata": "{}",
         "name": "Covered_Recipient_Profile_Middle_Name",
         "type": "\"string\""
        },
        {
         "metadata": "{}",
         "name": "Covered_Recipient_Profile_Last_Name",
         "type": "\"string\""
        },
        {
         "metadata": "{}",
         "name": "Covered_Recipient_Profile_Suffix",
         "type": "\"string\""
        },
        {
         "metadata": "{}",
         "name": "Covered_Recipient_Profile_Alternate_First_Name",
         "type": "\"string\""
        },
        {
         "metadata": "{}",
         "name": "Covered_Recipient_Profile_Alternate_Middle_Name",
         "type": "\"string\""
        },
        {
         "metadata": "{}",
         "name": "Covered_Recipient_Profile_Alternate_Last_Name",
         "type": "\"string\""
        },
        {
         "metadata": "{}",
         "name": "Covered_Recipient_Profile_Alternate_Suffix",
         "type": "\"string\""
        },
        {
         "metadata": "{}",
         "name": "Covered_Recipient_Profile_Address_Line_1",
         "type": "\"string\""
        },
        {
         "metadata": "{}",
         "name": "Covered_Recipient_Profile_Address_Line_2",
         "type": "\"string\""
        },
        {
         "metadata": "{}",
         "name": "Covered_Recipient_Profile_City",
         "type": "\"string\""
        },
        {
         "metadata": "{}",
         "name": "Covered_Recipient_Profile_State",
         "type": "\"string\""
        },
        {
         "metadata": "{}",
         "name": "Covered_Recipient_Profile_Zipcode",
         "type": "\"string\""
        },
        {
         "metadata": "{}",
         "name": "Covered_Recipient_Profile_Country_Name",
         "type": "\"string\""
        },
        {
         "metadata": "{}",
         "name": "Covered_Recipient_Profile_Province_Name",
         "type": "\"string\""
        },
        {
         "metadata": "{}",
         "name": "Covered_Recipient_Profile_Primary_Specialty",
         "type": "\"string\""
        },
        {
         "metadata": "{}",
         "name": "Covered_Recipient_Profile_OPS_Taxonomy_1",
         "type": "\"string\""
        },
        {
         "metadata": "{}",
         "name": "Covered_Recipient_Profile_OPS_Taxonomy_2",
         "type": "\"string\""
        },
        {
         "metadata": "{}",
         "name": "Covered_Recipient_Profile_OPS_Taxonomy_3",
         "type": "\"string\""
        },
        {
         "metadata": "{}",
         "name": "Covered_Recipient_Profile_OPS_Taxonomy_4",
         "type": "\"string\""
        },
        {
         "metadata": "{}",
         "name": "Covered_Recipient_Profile_OPS_Taxonomy_5",
         "type": "\"string\""
        },
        {
         "metadata": "{}",
         "name": "Covered_Recipient_Profile_OPS_Taxonomy_6",
         "type": "\"string\""
        },
        {
         "metadata": "{}",
         "name": "Covered_Recipient_Profile_License_State_Code_1",
         "type": "\"string\""
        },
        {
         "metadata": "{}",
         "name": "Covered_Recipient_Profile_License_State_Code_2",
         "type": "\"string\""
        },
        {
         "metadata": "{}",
         "name": "Covered_Recipient_Profile_License_State_Code_3",
         "type": "\"string\""
        },
        {
         "metadata": "{}",
         "name": "Covered_Recipient_Profile_License_State_Code_4",
         "type": "\"string\""
        },
        {
         "metadata": "{}",
         "name": "Covered_Recipient_Profile_License_State_Code_5",
         "type": "\"string\""
        }
       ],
       "type": "table"
      }
     },
     "output_type": "display_data"
    }
   ],
   "source": [
    "# File location and type\n",
    "file_location = \"/FileStore/tables/OP_CVRD_RCPNT_PRFL_SPLMTL_P01302025_01212025.csv\"\n",
    "file_type = \"csv\"\n",
    "\n",
    "# CSV options\n",
    "infer_schema = \"True\"\n",
    "first_row_is_header = \"True\"\n",
    "delimiter = \",\"\n",
    "\n",
    "# The applied options are for CSV files. For other file types, these will be ignored.\n",
    "covered_receip_df = spark.read.format(file_type) \\\n",
    "  .option(\"inferSchema\", infer_schema) \\\n",
    "  .option(\"header\", first_row_is_header) \\\n",
    "  .option(\"sep\", delimiter) \\\n",
    "  .load(file_location)\n",
    "\n",
    "display(covered_receip_df.limit(10))"
   ]
  },
  {
   "cell_type": "markdown",
   "metadata": {
    "application/vnd.databricks.v1+cell": {
     "cellMetadata": {
      "byteLimit": 2048000,
      "rowLimit": 10000
     },
     "inputWidgets": {},
     "nuid": "3e904a4d-e8e1-4772-9386-08059bf38815",
     "showTitle": false,
     "tableResultSettingsMap": {},
     "title": ""
    }
   },
   "source": [
    "## MERGE BOTH FILES"
   ]
  },
  {
   "cell_type": "code",
   "execution_count": 0,
   "metadata": {
    "application/vnd.databricks.v1+cell": {
     "cellMetadata": {
      "byteLimit": 2048000,
      "rowLimit": 10000
     },
     "inputWidgets": {},
     "nuid": "cf0ecd22-17d0-4f26-b954-2858e51f36f0",
     "showTitle": false,
     "tableResultSettingsMap": {
      "0": {
       "filterBlob": "{\"filterGroups\":[],\"syncTimestamp\":1742684174760}",
       "tableResultIndex": 0
      }
     },
     "title": ""
    }
   },
   "outputs": [
    {
     "output_type": "display_data",
     "data": {
      "text/html": [
       "<style scoped>\n",
       "  .table-result-container {\n",
       "    max-height: 300px;\n",
       "    overflow: auto;\n",
       "  }\n",
       "  table, th, td {\n",
       "    border: 1px solid black;\n",
       "    border-collapse: collapse;\n",
       "  }\n",
       "  th, td {\n",
       "    padding: 5px;\n",
       "  }\n",
       "  th {\n",
       "    text-align: left;\n",
       "  }\n",
       "</style><div class='table-result-container'><table class='table-result'><thead style='background-color: white'><tr><th>Covered_Recipient_Profile_ID</th><th>Change_Type</th><th>Covered_Recipient_Type</th><th>Teaching_Hospital_CCN</th><th>Teaching_Hospital_ID</th><th>Teaching_Hospital_Name</th><th>Covered_Recipient_NPI</th><th>Covered_Recipient_First_Name</th><th>Covered_Recipient_Middle_Name</th><th>Covered_Recipient_Last_Name</th><th>Covered_Recipient_Name_Suffix</th><th>Recipient_Primary_Business_Street_Address_Line1</th><th>Recipient_Primary_Business_Street_Address_Line2</th><th>Recipient_City</th><th>Recipient_State</th><th>Recipient_Zip_Code</th><th>Recipient_Country</th><th>Recipient_Province</th><th>Recipient_Postal_Code</th><th>Covered_Recipient_Primary_Type_1</th><th>Covered_Recipient_Primary_Type_2</th><th>Covered_Recipient_Primary_Type_3</th><th>Covered_Recipient_Primary_Type_4</th><th>Covered_Recipient_Primary_Type_5</th><th>Covered_Recipient_Primary_Type_6</th><th>Covered_Recipient_Specialty_1</th><th>Covered_Recipient_Specialty_2</th><th>Covered_Recipient_Specialty_3</th><th>Covered_Recipient_Specialty_4</th><th>Covered_Recipient_Specialty_5</th><th>Covered_Recipient_Specialty_6</th><th>Covered_Recipient_License_State_code1</th><th>Covered_Recipient_License_State_code2</th><th>Covered_Recipient_License_State_code3</th><th>Covered_Recipient_License_State_code4</th><th>Covered_Recipient_License_State_code5</th><th>Submitting_Applicable_Manufacturer_or_Applicable_GPO_Name</th><th>Applicable_Manufacturer_or_Applicable_GPO_Making_Payment_ID</th><th>Applicable_Manufacturer_or_Applicable_GPO_Making_Payment_Name</th><th>Applicable_Manufacturer_or_Applicable_GPO_Making_Payment_State</th><th>Applicable_Manufacturer_or_Applicable_GPO_Making_Payment_Country</th><th>Total_Amount_of_Payment_USDollars</th><th>Date_of_Payment</th><th>Number_of_Payments_Included_in_Total_Amount</th><th>Form_of_Payment_or_Transfer_of_Value</th><th>Nature_of_Payment_or_Transfer_of_Value</th><th>City_of_Travel</th><th>State_of_Travel</th><th>Country_of_Travel</th><th>Physician_Ownership_Indicator</th><th>Third_Party_Payment_Recipient_Indicator</th><th>Name_of_Third_Party_Entity_Receiving_Payment_or_Transfer_of_Value</th><th>Charity_Indicator</th><th>Third_Party_Equals_Covered_Recipient_Indicator</th><th>Contextual_Information</th><th>Delay_in_Publication_Indicator</th><th>Record_ID</th><th>Dispute_Status_for_Publication</th><th>Related_Product_Indicator</th><th>Covered_or_Noncovered_Indicator_1</th><th>Indicate_Drug_or_Biological_or_Device_or_Medical_Supply_1</th><th>Product_Category_or_Therapeutic_Area_1</th><th>Name_of_Drug_or_Biological_or_Device_or_Medical_Supply_1</th><th>Associated_Drug_or_Biological_NDC_1</th><th>Associated_Device_or_Medical_Supply_PDI_1</th><th>Covered_or_Noncovered_Indicator_2</th><th>Indicate_Drug_or_Biological_or_Device_or_Medical_Supply_2</th><th>Product_Category_or_Therapeutic_Area_2</th><th>Name_of_Drug_or_Biological_or_Device_or_Medical_Supply_2</th><th>Associated_Drug_or_Biological_NDC_2</th><th>Associated_Device_or_Medical_Supply_PDI_2</th><th>Covered_or_Noncovered_Indicator_3</th><th>Indicate_Drug_or_Biological_or_Device_or_Medical_Supply_3</th><th>Product_Category_or_Therapeutic_Area_3</th><th>Name_of_Drug_or_Biological_or_Device_or_Medical_Supply_3</th><th>Associated_Drug_or_Biological_NDC_3</th><th>Associated_Device_or_Medical_Supply_PDI_3</th><th>Covered_or_Noncovered_Indicator_4</th><th>Indicate_Drug_or_Biological_or_Device_or_Medical_Supply_4</th><th>Product_Category_or_Therapeutic_Area_4</th><th>Name_of_Drug_or_Biological_or_Device_or_Medical_Supply_4</th><th>Associated_Drug_or_Biological_NDC_4</th><th>Associated_Device_or_Medical_Supply_PDI_4</th><th>Covered_or_Noncovered_Indicator_5</th><th>Indicate_Drug_or_Biological_or_Device_or_Medical_Supply_5</th><th>Product_Category_or_Therapeutic_Area_5</th><th>Name_of_Drug_or_Biological_or_Device_or_Medical_Supply_5</th><th>Associated_Drug_or_Biological_NDC_5</th><th>Associated_Device_or_Medical_Supply_PDI_5</th><th>Program_Year</th><th>Payment_Publication_Date</th><th>Covered_Recipient_Profile_Type</th><th>Associated_Covered_Recipient_Profile_ID_1</th><th>Associated_Covered_Recipient_Profile_ID_2</th><th>Covered_Recipient_NPI</th><th>Covered_Recipient_Profile_First_Name</th><th>Covered_Recipient_Profile_Middle_Name</th><th>Covered_Recipient_Profile_Last_Name</th><th>Covered_Recipient_Profile_Suffix</th><th>Covered_Recipient_Profile_Alternate_First_Name</th><th>Covered_Recipient_Profile_Alternate_Middle_Name</th><th>Covered_Recipient_Profile_Alternate_Last_Name</th><th>Covered_Recipient_Profile_Alternate_Suffix</th><th>Covered_Recipient_Profile_Address_Line_1</th><th>Covered_Recipient_Profile_Address_Line_2</th><th>Covered_Recipient_Profile_City</th><th>Covered_Recipient_Profile_State</th><th>Covered_Recipient_Profile_Zipcode</th><th>Covered_Recipient_Profile_Country_Name</th><th>Covered_Recipient_Profile_Province_Name</th><th>Covered_Recipient_Profile_Primary_Specialty</th><th>Covered_Recipient_Profile_OPS_Taxonomy_1</th><th>Covered_Recipient_Profile_OPS_Taxonomy_2</th><th>Covered_Recipient_Profile_OPS_Taxonomy_3</th><th>Covered_Recipient_Profile_OPS_Taxonomy_4</th><th>Covered_Recipient_Profile_OPS_Taxonomy_5</th><th>Covered_Recipient_Profile_OPS_Taxonomy_6</th><th>Covered_Recipient_Profile_License_State_Code_1</th><th>Covered_Recipient_Profile_License_State_Code_2</th><th>Covered_Recipient_Profile_License_State_Code_3</th><th>Covered_Recipient_Profile_License_State_Code_4</th><th>Covered_Recipient_Profile_License_State_Code_5</th></tr></thead><tbody><tr><td>31</td><td>UNCHANGED</td><td>Covered Recipient Physician</td><td>null</td><td>null</td><td>null</td><td>1003091976</td><td>DAVID</td><td>ANTHONY</td><td>RAMOS</td><td>null</td><td>3110 NOGALITOS</td><td>SUITE 105</td><td>SAN ANTONIO</td><td>TX</td><td>78201</td><td>United States</td><td>null</td><td>null</td><td>Medical Doctor</td><td>null</td><td>null</td><td>null</td><td>null</td><td>null</td><td>Allopathic & Osteopathic Physicians|Family Medicine</td><td>null</td><td>null</td><td>null</td><td>null</td><td>null</td><td>TX</td><td>null</td><td>null</td><td>null</td><td>null</td><td>Janssen Pharmaceuticals, Inc</td><td>100000000232</td><td>Janssen Pharmaceuticals, Inc</td><td>NJ</td><td>United States</td><td>16.31</td><td>09/07/2023</td><td>1</td><td>In-kind items and services</td><td>Food and Beverage</td><td>null</td><td>null</td><td>null</td><td>No</td><td>No Third Party Payment</td><td>null</td><td>No</td><td>null</td><td>null</td><td>No</td><td>987970287</td><td>No</td><td>Yes</td><td>Covered</td><td>Drug</td><td>Cardiovascular & Metabolism</td><td>XARELTO</td><td>50458-580-30</td><td>null</td><td>null</td><td>null</td><td>null</td><td>null</td><td>null</td><td>null</td><td>null</td><td>null</td><td>null</td><td>null</td><td>null</td><td>null</td><td>null</td><td>null</td><td>null</td><td>null</td><td>null</td><td>null</td><td>null</td><td>null</td><td>null</td><td>null</td><td>null</td><td>null</td><td>2023</td><td>01/30/2025</td><td>Covered Recipient Physician</td><td>null</td><td>null</td><td>1003091976</td><td>DAVID</td><td>ANTHONY</td><td>RAMOS</td><td>null</td><td>DAVID</td><td>A</td><td>RAMOS</td><td>null</td><td>3110 NOGALITOS</td><td>SUITE 105</td><td>SAN ANTONIO</td><td>TX</td><td>78225-2337</td><td>UNITED STATES</td><td>null</td><td>Allopathic & Osteopathic Physicians|Family Medicine</td><td>207Q00000X</td><td>null</td><td>null</td><td>null</td><td>null</td><td>null</td><td>TX</td><td>null</td><td>null</td><td>null</td><td>null</td></tr><tr><td>31</td><td>UNCHANGED</td><td>Covered Recipient Physician</td><td>null</td><td>null</td><td>null</td><td>1003091976</td><td>DAVID</td><td>null</td><td>RAMOS</td><td>null</td><td>3110 NOGALITOS</td><td>SUITE 105</td><td>SAN ANTONIO</td><td>TX</td><td>78225-2336</td><td>United States</td><td>null</td><td>null</td><td>Medical Doctor</td><td>null</td><td>null</td><td>null</td><td>null</td><td>null</td><td>Allopathic & Osteopathic Physicians|Family Medicine</td><td>null</td><td>null</td><td>null</td><td>null</td><td>null</td><td>TX</td><td>null</td><td>null</td><td>null</td><td>null</td><td>ABBVIE INC.</td><td>100000000204</td><td>ABBVIE INC.</td><td>IL</td><td>United States</td><td>21.22</td><td>02/21/2023</td><td>1</td><td>In-kind items and services</td><td>Food and Beverage</td><td>null</td><td>null</td><td>null</td><td>No</td><td>No Third Party Payment</td><td>null</td><td>null</td><td>null</td><td>null</td><td>No</td><td>998194481</td><td>No</td><td>Yes</td><td>Covered</td><td>Drug</td><td>NEUROSCIENCE</td><td>VRAYLAR</td><td>61874-115-31</td><td>null</td><td>null</td><td>null</td><td>null</td><td>null</td><td>null</td><td>null</td><td>null</td><td>null</td><td>null</td><td>null</td><td>null</td><td>null</td><td>null</td><td>null</td><td>null</td><td>null</td><td>null</td><td>null</td><td>null</td><td>null</td><td>null</td><td>null</td><td>null</td><td>null</td><td>2023</td><td>01/30/2025</td><td>Covered Recipient Physician</td><td>null</td><td>null</td><td>1003091976</td><td>DAVID</td><td>ANTHONY</td><td>RAMOS</td><td>null</td><td>DAVID</td><td>A</td><td>RAMOS</td><td>null</td><td>3110 NOGALITOS</td><td>SUITE 105</td><td>SAN ANTONIO</td><td>TX</td><td>78225-2337</td><td>UNITED STATES</td><td>null</td><td>Allopathic & Osteopathic Physicians|Family Medicine</td><td>207Q00000X</td><td>null</td><td>null</td><td>null</td><td>null</td><td>null</td><td>TX</td><td>null</td><td>null</td><td>null</td><td>null</td></tr><tr><td>31</td><td>UNCHANGED</td><td>Covered Recipient Physician</td><td>null</td><td>null</td><td>null</td><td>1003091976</td><td>DAVID</td><td>ANTHONY</td><td>RAMOS</td><td>null</td><td>9811 HUEBNER RD</td><td>null</td><td>SAN ANTONIO</td><td>TX</td><td>78240</td><td>United States</td><td>null</td><td>null</td><td>Medical Doctor</td><td>null</td><td>null</td><td>null</td><td>null</td><td>null</td><td>Allopathic & Osteopathic Physicians|Internal Medicine</td><td>null</td><td>null</td><td>null</td><td>null</td><td>null</td><td>TX</td><td>null</td><td>null</td><td>null</td><td>null</td><td>GlaxoSmithKline, LLC.</td><td>100000005449</td><td>GlaxoSmithKline, LLC.</td><td>PA</td><td>United States</td><td>22.49</td><td>11/15/2023</td><td>1</td><td>In-kind items and services</td><td>Food and Beverage</td><td>null</td><td>null</td><td>null</td><td>No</td><td>No Third Party Payment</td><td>null</td><td>No</td><td>null</td><td>null</td><td>No</td><td>1001211149</td><td>No</td><td>Yes</td><td>Covered</td><td>Drug</td><td>RESPIRATORY</td><td>TRELEGY ELLIPTA</td><td>0173-0887-14</td><td>null</td><td>Covered</td><td>Drug</td><td>RESPIRATORY</td><td>AREXVY</td><td>58160-848-11</td><td>null</td><td>Covered</td><td>Biological</td><td>VACCINES</td><td>SHINGRIX</td><td>58160-823-11</td><td>null</td><td>null</td><td>null</td><td>null</td><td>null</td><td>null</td><td>null</td><td>null</td><td>null</td><td>null</td><td>null</td><td>null</td><td>null</td><td>2023</td><td>01/30/2025</td><td>Covered Recipient Physician</td><td>null</td><td>null</td><td>1003091976</td><td>DAVID</td><td>ANTHONY</td><td>RAMOS</td><td>null</td><td>DAVID</td><td>A</td><td>RAMOS</td><td>null</td><td>3110 NOGALITOS</td><td>SUITE 105</td><td>SAN ANTONIO</td><td>TX</td><td>78225-2337</td><td>UNITED STATES</td><td>null</td><td>Allopathic & Osteopathic Physicians|Family Medicine</td><td>207Q00000X</td><td>null</td><td>null</td><td>null</td><td>null</td><td>null</td><td>TX</td><td>null</td><td>null</td><td>null</td><td>null</td></tr><tr><td>31</td><td>UNCHANGED</td><td>Covered Recipient Physician</td><td>null</td><td>null</td><td>null</td><td>1003091976</td><td>DAVID</td><td>ANTHONY</td><td>RAMOS</td><td>null</td><td>9811 HUEBNER RD</td><td>null</td><td>SAN ANTONIO</td><td>TX</td><td>78240</td><td>United States</td><td>null</td><td>null</td><td>Medical Doctor</td><td>null</td><td>null</td><td>null</td><td>null</td><td>null</td><td>Allopathic & Osteopathic Physicians|Internal Medicine</td><td>null</td><td>null</td><td>null</td><td>null</td><td>null</td><td>TX</td><td>null</td><td>null</td><td>null</td><td>null</td><td>GlaxoSmithKline, LLC.</td><td>100000005449</td><td>GlaxoSmithKline, LLC.</td><td>PA</td><td>United States</td><td>18.01</td><td>05/09/2023</td><td>1</td><td>In-kind items and services</td><td>Food and Beverage</td><td>null</td><td>null</td><td>null</td><td>No</td><td>No Third Party Payment</td><td>null</td><td>No</td><td>null</td><td>null</td><td>No</td><td>1001210073</td><td>No</td><td>Yes</td><td>Covered</td><td>Drug</td><td>RESPIRATORY</td><td>TRELEGY ELLIPTA</td><td>0173-0887-14</td><td>null</td><td>null</td><td>null</td><td>null</td><td>null</td><td>null</td><td>null</td><td>null</td><td>null</td><td>null</td><td>null</td><td>null</td><td>null</td><td>null</td><td>null</td><td>null</td><td>null</td><td>null</td><td>null</td><td>null</td><td>null</td><td>null</td><td>null</td><td>null</td><td>null</td><td>2023</td><td>01/30/2025</td><td>Covered Recipient Physician</td><td>null</td><td>null</td><td>1003091976</td><td>DAVID</td><td>ANTHONY</td><td>RAMOS</td><td>null</td><td>DAVID</td><td>A</td><td>RAMOS</td><td>null</td><td>3110 NOGALITOS</td><td>SUITE 105</td><td>SAN ANTONIO</td><td>TX</td><td>78225-2337</td><td>UNITED STATES</td><td>null</td><td>Allopathic & Osteopathic Physicians|Family Medicine</td><td>207Q00000X</td><td>null</td><td>null</td><td>null</td><td>null</td><td>null</td><td>TX</td><td>null</td><td>null</td><td>null</td><td>null</td></tr><tr><td>31</td><td>UNCHANGED</td><td>Covered Recipient Physician</td><td>null</td><td>null</td><td>null</td><td>1003091976</td><td>DAVID</td><td>ANTHONY</td><td>RAMOS</td><td>null</td><td>9811 HUEBNER RD</td><td>null</td><td>SAN ANTONIO</td><td>TX</td><td>78240</td><td>United States</td><td>null</td><td>null</td><td>Medical Doctor</td><td>null</td><td>null</td><td>null</td><td>null</td><td>null</td><td>Allopathic & Osteopathic Physicians|Internal Medicine</td><td>null</td><td>null</td><td>null</td><td>null</td><td>null</td><td>TX</td><td>null</td><td>null</td><td>null</td><td>null</td><td>GlaxoSmithKline, LLC.</td><td>100000005449</td><td>GlaxoSmithKline, LLC.</td><td>PA</td><td>United States</td><td>17.00</td><td>06/21/2023</td><td>1</td><td>In-kind items and services</td><td>Food and Beverage</td><td>null</td><td>null</td><td>null</td><td>No</td><td>No Third Party Payment</td><td>null</td><td>No</td><td>null</td><td>null</td><td>No</td><td>1001210131</td><td>No</td><td>Yes</td><td>Covered</td><td>Drug</td><td>RESPIRATORY</td><td>TRELEGY ELLIPTA</td><td>0173-0887-14</td><td>null</td><td>Covered</td><td>Drug</td><td>RESPIRATORY</td><td>AREXVY</td><td>58160-848-11</td><td>null</td><td>null</td><td>null</td><td>null</td><td>null</td><td>null</td><td>null</td><td>null</td><td>null</td><td>null</td><td>null</td><td>null</td><td>null</td><td>null</td><td>null</td><td>null</td><td>null</td><td>null</td><td>null</td><td>2023</td><td>01/30/2025</td><td>Covered Recipient Physician</td><td>null</td><td>null</td><td>1003091976</td><td>DAVID</td><td>ANTHONY</td><td>RAMOS</td><td>null</td><td>DAVID</td><td>A</td><td>RAMOS</td><td>null</td><td>3110 NOGALITOS</td><td>SUITE 105</td><td>SAN ANTONIO</td><td>TX</td><td>78225-2337</td><td>UNITED STATES</td><td>null</td><td>Allopathic & Osteopathic Physicians|Family Medicine</td><td>207Q00000X</td><td>null</td><td>null</td><td>null</td><td>null</td><td>null</td><td>TX</td><td>null</td><td>null</td><td>null</td><td>null</td></tr><tr><td>31</td><td>UNCHANGED</td><td>Covered Recipient Physician</td><td>null</td><td>null</td><td>null</td><td>1003091976</td><td>DAVID</td><td>ANTHONY</td><td>RAMOS</td><td>null</td><td>9811 HUEBNER RD</td><td>null</td><td>SAN ANTONIO</td><td>TX</td><td>78240</td><td>United States</td><td>null</td><td>null</td><td>Medical Doctor</td><td>null</td><td>null</td><td>null</td><td>null</td><td>null</td><td>Allopathic & Osteopathic Physicians|Internal Medicine</td><td>null</td><td>null</td><td>null</td><td>null</td><td>null</td><td>TX</td><td>null</td><td>null</td><td>null</td><td>null</td><td>GlaxoSmithKline, LLC.</td><td>100000005449</td><td>GlaxoSmithKline, LLC.</td><td>PA</td><td>United States</td><td>16.09</td><td>08/15/2023</td><td>1</td><td>In-kind items and services</td><td>Food and Beverage</td><td>null</td><td>null</td><td>null</td><td>No</td><td>No Third Party Payment</td><td>null</td><td>No</td><td>null</td><td>null</td><td>No</td><td>1001210641</td><td>No</td><td>Yes</td><td>Covered</td><td>Drug</td><td>RESPIRATORY</td><td>AREXVY</td><td>58160-848-11</td><td>null</td><td>Covered</td><td>Drug</td><td>RESPIRATORY</td><td>TRELEGY ELLIPTA</td><td>0173-0887-14</td><td>null</td><td>null</td><td>null</td><td>null</td><td>null</td><td>null</td><td>null</td><td>null</td><td>null</td><td>null</td><td>null</td><td>null</td><td>null</td><td>null</td><td>null</td><td>null</td><td>null</td><td>null</td><td>null</td><td>2023</td><td>01/30/2025</td><td>Covered Recipient Physician</td><td>null</td><td>null</td><td>1003091976</td><td>DAVID</td><td>ANTHONY</td><td>RAMOS</td><td>null</td><td>DAVID</td><td>A</td><td>RAMOS</td><td>null</td><td>3110 NOGALITOS</td><td>SUITE 105</td><td>SAN ANTONIO</td><td>TX</td><td>78225-2337</td><td>UNITED STATES</td><td>null</td><td>Allopathic & Osteopathic Physicians|Family Medicine</td><td>207Q00000X</td><td>null</td><td>null</td><td>null</td><td>null</td><td>null</td><td>TX</td><td>null</td><td>null</td><td>null</td><td>null</td></tr><tr><td>31</td><td>UNCHANGED</td><td>Covered Recipient Physician</td><td>null</td><td>null</td><td>null</td><td>1003091976</td><td>DAVID</td><td>ANTHONY</td><td>RAMOS</td><td>null</td><td>9811 HUEBNER RD</td><td>null</td><td>SAN ANTONIO</td><td>TX</td><td>78240</td><td>United States</td><td>null</td><td>null</td><td>Medical Doctor</td><td>null</td><td>null</td><td>null</td><td>null</td><td>null</td><td>Allopathic & Osteopathic Physicians|Internal Medicine</td><td>null</td><td>null</td><td>null</td><td>null</td><td>null</td><td>TX</td><td>null</td><td>null</td><td>null</td><td>null</td><td>GlaxoSmithKline, LLC.</td><td>100000005449</td><td>GlaxoSmithKline, LLC.</td><td>PA</td><td>United States</td><td>16.54</td><td>03/08/2023</td><td>1</td><td>In-kind items and services</td><td>Food and Beverage</td><td>null</td><td>null</td><td>null</td><td>No</td><td>No Third Party Payment</td><td>null</td><td>No</td><td>null</td><td>null</td><td>No</td><td>1001211037</td><td>No</td><td>Yes</td><td>Covered</td><td>Biological</td><td>VACCINES</td><td>SHINGRIX</td><td>58160-823-11</td><td>null</td><td>null</td><td>null</td><td>null</td><td>null</td><td>null</td><td>null</td><td>null</td><td>null</td><td>null</td><td>null</td><td>null</td><td>null</td><td>null</td><td>null</td><td>null</td><td>null</td><td>null</td><td>null</td><td>null</td><td>null</td><td>null</td><td>null</td><td>null</td><td>null</td><td>2023</td><td>01/30/2025</td><td>Covered Recipient Physician</td><td>null</td><td>null</td><td>1003091976</td><td>DAVID</td><td>ANTHONY</td><td>RAMOS</td><td>null</td><td>DAVID</td><td>A</td><td>RAMOS</td><td>null</td><td>3110 NOGALITOS</td><td>SUITE 105</td><td>SAN ANTONIO</td><td>TX</td><td>78225-2337</td><td>UNITED STATES</td><td>null</td><td>Allopathic & Osteopathic Physicians|Family Medicine</td><td>207Q00000X</td><td>null</td><td>null</td><td>null</td><td>null</td><td>null</td><td>TX</td><td>null</td><td>null</td><td>null</td><td>null</td></tr><tr><td>31</td><td>UNCHANGED</td><td>Covered Recipient Physician</td><td>null</td><td>null</td><td>null</td><td>1003091976</td><td>DAVID</td><td>null</td><td>RAMOS</td><td>null</td><td>3110 NOGALITOS</td><td>SUITE 105</td><td>SAN ANTONIO</td><td>TX</td><td>78225-2337</td><td>United States</td><td>null</td><td>null</td><td>Medical Doctor</td><td>null</td><td>null</td><td>null</td><td>null</td><td>null</td><td>Allopathic & Osteopathic Physicians|Family Medicine</td><td>null</td><td>null</td><td>null</td><td>null</td><td>null</td><td>TX</td><td>null</td><td>null</td><td>null</td><td>null</td><td>Novo Nordisk Inc</td><td>100000000144</td><td>Novo Nordisk Inc</td><td>NJ</td><td>United States</td><td>20.16</td><td>06/07/2023</td><td>1</td><td>In-kind items and services</td><td>Food and Beverage</td><td>null</td><td>null</td><td>null</td><td>No</td><td>No Third Party Payment</td><td>null</td><td>null</td><td>null</td><td>null</td><td>No</td><td>1001295373</td><td>No</td><td>Yes</td><td>Covered</td><td>Drug</td><td>Diabetes</td><td>Ozempic</td><td>0169-4132-12</td><td>null</td><td>Covered</td><td>Drug</td><td>Diabetes</td><td>Rybelsus</td><td>0169-4303-13</td><td>null</td><td>null</td><td>null</td><td>null</td><td>null</td><td>null</td><td>null</td><td>null</td><td>null</td><td>null</td><td>null</td><td>null</td><td>null</td><td>null</td><td>null</td><td>null</td><td>null</td><td>null</td><td>null</td><td>2023</td><td>01/30/2025</td><td>Covered Recipient Physician</td><td>null</td><td>null</td><td>1003091976</td><td>DAVID</td><td>ANTHONY</td><td>RAMOS</td><td>null</td><td>DAVID</td><td>A</td><td>RAMOS</td><td>null</td><td>3110 NOGALITOS</td><td>SUITE 105</td><td>SAN ANTONIO</td><td>TX</td><td>78225-2337</td><td>UNITED STATES</td><td>null</td><td>Allopathic & Osteopathic Physicians|Family Medicine</td><td>207Q00000X</td><td>null</td><td>null</td><td>null</td><td>null</td><td>null</td><td>TX</td><td>null</td><td>null</td><td>null</td><td>null</td></tr><tr><td>31</td><td>UNCHANGED</td><td>Covered Recipient Physician</td><td>null</td><td>null</td><td>null</td><td>1003091976</td><td>David</td><td>Anthony</td><td>Ramos</td><td>null</td><td>3110 Nogalitos Ste 105</td><td>null</td><td>San Antonio</td><td>TX</td><td>78225</td><td>United States</td><td>null</td><td>null</td><td>Medical Doctor</td><td>null</td><td>null</td><td>null</td><td>null</td><td>null</td><td>Allopathic & Osteopathic Physicians|Family Medicine</td><td>null</td><td>null</td><td>null</td><td>null</td><td>null</td><td>TX</td><td>null</td><td>null</td><td>null</td><td>null</td><td>AstraZeneca Pharmaceuticals LP</td><td>100000000146</td><td>AstraZeneca Pharmaceuticals LP</td><td>DE</td><td>United States</td><td>17.85</td><td>07/17/2023</td><td>1</td><td>In-kind items and services</td><td>Food and Beverage</td><td>null</td><td>null</td><td>null</td><td>No</td><td>No Third Party Payment</td><td>null</td><td>No</td><td>null</td><td>Informational Meal</td><td>No</td><td>1011403167</td><td>No</td><td>Yes</td><td>Covered</td><td>Drug</td><td>Respiratory</td><td>BREZTRI</td><td>0310-4616-12</td><td>null</td><td>null</td><td>null</td><td>null</td><td>null</td><td>null</td><td>null</td><td>null</td><td>null</td><td>null</td><td>null</td><td>null</td><td>null</td><td>null</td><td>null</td><td>null</td><td>null</td><td>null</td><td>null</td><td>null</td><td>null</td><td>null</td><td>null</td><td>null</td><td>null</td><td>2023</td><td>01/30/2025</td><td>Covered Recipient Physician</td><td>null</td><td>null</td><td>1003091976</td><td>DAVID</td><td>ANTHONY</td><td>RAMOS</td><td>null</td><td>DAVID</td><td>A</td><td>RAMOS</td><td>null</td><td>3110 NOGALITOS</td><td>SUITE 105</td><td>SAN ANTONIO</td><td>TX</td><td>78225-2337</td><td>UNITED STATES</td><td>null</td><td>Allopathic & Osteopathic Physicians|Family Medicine</td><td>207Q00000X</td><td>null</td><td>null</td><td>null</td><td>null</td><td>null</td><td>TX</td><td>null</td><td>null</td><td>null</td><td>null</td></tr><tr><td>31</td><td>UNCHANGED</td><td>Covered Recipient Physician</td><td>null</td><td>null</td><td>null</td><td>1003091976</td><td>David</td><td>Anthony</td><td>Ramos</td><td>null</td><td>3110 Nogalitos Ste 105</td><td>null</td><td>San Antonio</td><td>TX</td><td>78225</td><td>United States</td><td>null</td><td>null</td><td>Medical Doctor</td><td>null</td><td>null</td><td>null</td><td>null</td><td>null</td><td>Allopathic & Osteopathic Physicians|Family Medicine</td><td>null</td><td>null</td><td>null</td><td>null</td><td>null</td><td>TX</td><td>null</td><td>null</td><td>null</td><td>null</td><td>AstraZeneca Pharmaceuticals LP</td><td>100000000146</td><td>AstraZeneca Pharmaceuticals LP</td><td>DE</td><td>United States</td><td>15.29</td><td>02/28/2023</td><td>1</td><td>In-kind items and services</td><td>Food and Beverage</td><td>null</td><td>null</td><td>null</td><td>No</td><td>No Third Party Payment</td><td>null</td><td>No</td><td>null</td><td>Informational Meal</td><td>No</td><td>1011749317</td><td>No</td><td>Yes</td><td>Covered</td><td>Drug</td><td>Cardiovascular and Metabolism</td><td>FARXIGA</td><td>0310-6205-30</td><td>null</td><td>null</td><td>null</td><td>null</td><td>null</td><td>null</td><td>null</td><td>null</td><td>null</td><td>null</td><td>null</td><td>null</td><td>null</td><td>null</td><td>null</td><td>null</td><td>null</td><td>null</td><td>null</td><td>null</td><td>null</td><td>null</td><td>null</td><td>null</td><td>null</td><td>2023</td><td>01/30/2025</td><td>Covered Recipient Physician</td><td>null</td><td>null</td><td>1003091976</td><td>DAVID</td><td>ANTHONY</td><td>RAMOS</td><td>null</td><td>DAVID</td><td>A</td><td>RAMOS</td><td>null</td><td>3110 NOGALITOS</td><td>SUITE 105</td><td>SAN ANTONIO</td><td>TX</td><td>78225-2337</td><td>UNITED STATES</td><td>null</td><td>Allopathic & Osteopathic Physicians|Family Medicine</td><td>207Q00000X</td><td>null</td><td>null</td><td>null</td><td>null</td><td>null</td><td>TX</td><td>null</td><td>null</td><td>null</td><td>null</td></tr></tbody></table></div>"
      ]
     },
     "metadata": {
      "application/vnd.databricks.v1+output": {
       "addedWidgets": {},
       "aggData": [],
       "aggError": "",
       "aggOverflow": false,
       "aggSchema": [],
       "aggSeriesLimitReached": false,
       "aggType": "",
       "arguments": {},
       "columnCustomDisplayInfos": {},
       "data": [
        [
         "31",
         "UNCHANGED",
         "Covered Recipient Physician",
         null,
         null,
         null,
         "1003091976",
         "DAVID",
         "ANTHONY",
         "RAMOS",
         null,
         "3110 NOGALITOS",
         "SUITE 105",
         "SAN ANTONIO",
         "TX",
         "78201",
         "United States",
         null,
         null,
         "Medical Doctor",
         null,
         null,
         null,
         null,
         null,
         "Allopathic & Osteopathic Physicians|Family Medicine",
         null,
         null,
         null,
         null,
         null,
         "TX",
         null,
         null,
         null,
         null,
         "Janssen Pharmaceuticals, Inc",
         "100000000232",
         "Janssen Pharmaceuticals, Inc",
         "NJ",
         "United States",
         "16.31",
         "09/07/2023",
         "1",
         "In-kind items and services",
         "Food and Beverage",
         null,
         null,
         null,
         "No",
         "No Third Party Payment",
         null,
         "No",
         null,
         null,
         "No",
         "987970287",
         "No",
         "Yes",
         "Covered",
         "Drug",
         "Cardiovascular & Metabolism",
         "XARELTO",
         "50458-580-30",
         null,
         null,
         null,
         null,
         null,
         null,
         null,
         null,
         null,
         null,
         null,
         null,
         null,
         null,
         null,
         null,
         null,
         null,
         null,
         null,
         null,
         null,
         null,
         null,
         null,
         2023,
         "01/30/2025",
         "Covered Recipient Physician",
         null,
         null,
         1003091976,
         "DAVID",
         "ANTHONY",
         "RAMOS",
         null,
         "DAVID",
         "A",
         "RAMOS",
         null,
         "3110 NOGALITOS",
         "SUITE 105",
         "SAN ANTONIO",
         "TX",
         "78225-2337",
         "UNITED STATES",
         null,
         "Allopathic & Osteopathic Physicians|Family Medicine",
         "207Q00000X",
         null,
         null,
         null,
         null,
         null,
         "TX",
         null,
         null,
         null,
         null
        ],
        [
         "31",
         "UNCHANGED",
         "Covered Recipient Physician",
         null,
         null,
         null,
         "1003091976",
         "DAVID",
         null,
         "RAMOS",
         null,
         "3110 NOGALITOS",
         "SUITE 105",
         "SAN ANTONIO",
         "TX",
         "78225-2336",
         "United States",
         null,
         null,
         "Medical Doctor",
         null,
         null,
         null,
         null,
         null,
         "Allopathic & Osteopathic Physicians|Family Medicine",
         null,
         null,
         null,
         null,
         null,
         "TX",
         null,
         null,
         null,
         null,
         "ABBVIE INC.",
         "100000000204",
         "ABBVIE INC.",
         "IL",
         "United States",
         "21.22",
         "02/21/2023",
         "1",
         "In-kind items and services",
         "Food and Beverage",
         null,
         null,
         null,
         "No",
         "No Third Party Payment",
         null,
         null,
         null,
         null,
         "No",
         "998194481",
         "No",
         "Yes",
         "Covered",
         "Drug",
         "NEUROSCIENCE",
         "VRAYLAR",
         "61874-115-31",
         null,
         null,
         null,
         null,
         null,
         null,
         null,
         null,
         null,
         null,
         null,
         null,
         null,
         null,
         null,
         null,
         null,
         null,
         null,
         null,
         null,
         null,
         null,
         null,
         null,
         2023,
         "01/30/2025",
         "Covered Recipient Physician",
         null,
         null,
         1003091976,
         "DAVID",
         "ANTHONY",
         "RAMOS",
         null,
         "DAVID",
         "A",
         "RAMOS",
         null,
         "3110 NOGALITOS",
         "SUITE 105",
         "SAN ANTONIO",
         "TX",
         "78225-2337",
         "UNITED STATES",
         null,
         "Allopathic & Osteopathic Physicians|Family Medicine",
         "207Q00000X",
         null,
         null,
         null,
         null,
         null,
         "TX",
         null,
         null,
         null,
         null
        ],
        [
         "31",
         "UNCHANGED",
         "Covered Recipient Physician",
         null,
         null,
         null,
         "1003091976",
         "DAVID",
         "ANTHONY",
         "RAMOS",
         null,
         "9811 HUEBNER RD",
         null,
         "SAN ANTONIO",
         "TX",
         "78240",
         "United States",
         null,
         null,
         "Medical Doctor",
         null,
         null,
         null,
         null,
         null,
         "Allopathic & Osteopathic Physicians|Internal Medicine",
         null,
         null,
         null,
         null,
         null,
         "TX",
         null,
         null,
         null,
         null,
         "GlaxoSmithKline, LLC.",
         "100000005449",
         "GlaxoSmithKline, LLC.",
         "PA",
         "United States",
         "22.49",
         "11/15/2023",
         "1",
         "In-kind items and services",
         "Food and Beverage",
         null,
         null,
         null,
         "No",
         "No Third Party Payment",
         null,
         "No",
         null,
         null,
         "No",
         "1001211149",
         "No",
         "Yes",
         "Covered",
         "Drug",
         "RESPIRATORY",
         "TRELEGY ELLIPTA",
         "0173-0887-14",
         null,
         "Covered",
         "Drug",
         "RESPIRATORY",
         "AREXVY",
         "58160-848-11",
         null,
         "Covered",
         "Biological",
         "VACCINES",
         "SHINGRIX",
         "58160-823-11",
         null,
         null,
         null,
         null,
         null,
         null,
         null,
         null,
         null,
         null,
         null,
         null,
         null,
         2023,
         "01/30/2025",
         "Covered Recipient Physician",
         null,
         null,
         1003091976,
         "DAVID",
         "ANTHONY",
         "RAMOS",
         null,
         "DAVID",
         "A",
         "RAMOS",
         null,
         "3110 NOGALITOS",
         "SUITE 105",
         "SAN ANTONIO",
         "TX",
         "78225-2337",
         "UNITED STATES",
         null,
         "Allopathic & Osteopathic Physicians|Family Medicine",
         "207Q00000X",
         null,
         null,
         null,
         null,
         null,
         "TX",
         null,
         null,
         null,
         null
        ],
        [
         "31",
         "UNCHANGED",
         "Covered Recipient Physician",
         null,
         null,
         null,
         "1003091976",
         "DAVID",
         "ANTHONY",
         "RAMOS",
         null,
         "9811 HUEBNER RD",
         null,
         "SAN ANTONIO",
         "TX",
         "78240",
         "United States",
         null,
         null,
         "Medical Doctor",
         null,
         null,
         null,
         null,
         null,
         "Allopathic & Osteopathic Physicians|Internal Medicine",
         null,
         null,
         null,
         null,
         null,
         "TX",
         null,
         null,
         null,
         null,
         "GlaxoSmithKline, LLC.",
         "100000005449",
         "GlaxoSmithKline, LLC.",
         "PA",
         "United States",
         "18.01",
         "05/09/2023",
         "1",
         "In-kind items and services",
         "Food and Beverage",
         null,
         null,
         null,
         "No",
         "No Third Party Payment",
         null,
         "No",
         null,
         null,
         "No",
         "1001210073",
         "No",
         "Yes",
         "Covered",
         "Drug",
         "RESPIRATORY",
         "TRELEGY ELLIPTA",
         "0173-0887-14",
         null,
         null,
         null,
         null,
         null,
         null,
         null,
         null,
         null,
         null,
         null,
         null,
         null,
         null,
         null,
         null,
         null,
         null,
         null,
         null,
         null,
         null,
         null,
         null,
         null,
         2023,
         "01/30/2025",
         "Covered Recipient Physician",
         null,
         null,
         1003091976,
         "DAVID",
         "ANTHONY",
         "RAMOS",
         null,
         "DAVID",
         "A",
         "RAMOS",
         null,
         "3110 NOGALITOS",
         "SUITE 105",
         "SAN ANTONIO",
         "TX",
         "78225-2337",
         "UNITED STATES",
         null,
         "Allopathic & Osteopathic Physicians|Family Medicine",
         "207Q00000X",
         null,
         null,
         null,
         null,
         null,
         "TX",
         null,
         null,
         null,
         null
        ],
        [
         "31",
         "UNCHANGED",
         "Covered Recipient Physician",
         null,
         null,
         null,
         "1003091976",
         "DAVID",
         "ANTHONY",
         "RAMOS",
         null,
         "9811 HUEBNER RD",
         null,
         "SAN ANTONIO",
         "TX",
         "78240",
         "United States",
         null,
         null,
         "Medical Doctor",
         null,
         null,
         null,
         null,
         null,
         "Allopathic & Osteopathic Physicians|Internal Medicine",
         null,
         null,
         null,
         null,
         null,
         "TX",
         null,
         null,
         null,
         null,
         "GlaxoSmithKline, LLC.",
         "100000005449",
         "GlaxoSmithKline, LLC.",
         "PA",
         "United States",
         "17.00",
         "06/21/2023",
         "1",
         "In-kind items and services",
         "Food and Beverage",
         null,
         null,
         null,
         "No",
         "No Third Party Payment",
         null,
         "No",
         null,
         null,
         "No",
         "1001210131",
         "No",
         "Yes",
         "Covered",
         "Drug",
         "RESPIRATORY",
         "TRELEGY ELLIPTA",
         "0173-0887-14",
         null,
         "Covered",
         "Drug",
         "RESPIRATORY",
         "AREXVY",
         "58160-848-11",
         null,
         null,
         null,
         null,
         null,
         null,
         null,
         null,
         null,
         null,
         null,
         null,
         null,
         null,
         null,
         null,
         null,
         null,
         null,
         2023,
         "01/30/2025",
         "Covered Recipient Physician",
         null,
         null,
         1003091976,
         "DAVID",
         "ANTHONY",
         "RAMOS",
         null,
         "DAVID",
         "A",
         "RAMOS",
         null,
         "3110 NOGALITOS",
         "SUITE 105",
         "SAN ANTONIO",
         "TX",
         "78225-2337",
         "UNITED STATES",
         null,
         "Allopathic & Osteopathic Physicians|Family Medicine",
         "207Q00000X",
         null,
         null,
         null,
         null,
         null,
         "TX",
         null,
         null,
         null,
         null
        ],
        [
         "31",
         "UNCHANGED",
         "Covered Recipient Physician",
         null,
         null,
         null,
         "1003091976",
         "DAVID",
         "ANTHONY",
         "RAMOS",
         null,
         "9811 HUEBNER RD",
         null,
         "SAN ANTONIO",
         "TX",
         "78240",
         "United States",
         null,
         null,
         "Medical Doctor",
         null,
         null,
         null,
         null,
         null,
         "Allopathic & Osteopathic Physicians|Internal Medicine",
         null,
         null,
         null,
         null,
         null,
         "TX",
         null,
         null,
         null,
         null,
         "GlaxoSmithKline, LLC.",
         "100000005449",
         "GlaxoSmithKline, LLC.",
         "PA",
         "United States",
         "16.09",
         "08/15/2023",
         "1",
         "In-kind items and services",
         "Food and Beverage",
         null,
         null,
         null,
         "No",
         "No Third Party Payment",
         null,
         "No",
         null,
         null,
         "No",
         "1001210641",
         "No",
         "Yes",
         "Covered",
         "Drug",
         "RESPIRATORY",
         "AREXVY",
         "58160-848-11",
         null,
         "Covered",
         "Drug",
         "RESPIRATORY",
         "TRELEGY ELLIPTA",
         "0173-0887-14",
         null,
         null,
         null,
         null,
         null,
         null,
         null,
         null,
         null,
         null,
         null,
         null,
         null,
         null,
         null,
         null,
         null,
         null,
         null,
         2023,
         "01/30/2025",
         "Covered Recipient Physician",
         null,
         null,
         1003091976,
         "DAVID",
         "ANTHONY",
         "RAMOS",
         null,
         "DAVID",
         "A",
         "RAMOS",
         null,
         "3110 NOGALITOS",
         "SUITE 105",
         "SAN ANTONIO",
         "TX",
         "78225-2337",
         "UNITED STATES",
         null,
         "Allopathic & Osteopathic Physicians|Family Medicine",
         "207Q00000X",
         null,
         null,
         null,
         null,
         null,
         "TX",
         null,
         null,
         null,
         null
        ],
        [
         "31",
         "UNCHANGED",
         "Covered Recipient Physician",
         null,
         null,
         null,
         "1003091976",
         "DAVID",
         "ANTHONY",
         "RAMOS",
         null,
         "9811 HUEBNER RD",
         null,
         "SAN ANTONIO",
         "TX",
         "78240",
         "United States",
         null,
         null,
         "Medical Doctor",
         null,
         null,
         null,
         null,
         null,
         "Allopathic & Osteopathic Physicians|Internal Medicine",
         null,
         null,
         null,
         null,
         null,
         "TX",
         null,
         null,
         null,
         null,
         "GlaxoSmithKline, LLC.",
         "100000005449",
         "GlaxoSmithKline, LLC.",
         "PA",
         "United States",
         "16.54",
         "03/08/2023",
         "1",
         "In-kind items and services",
         "Food and Beverage",
         null,
         null,
         null,
         "No",
         "No Third Party Payment",
         null,
         "No",
         null,
         null,
         "No",
         "1001211037",
         "No",
         "Yes",
         "Covered",
         "Biological",
         "VACCINES",
         "SHINGRIX",
         "58160-823-11",
         null,
         null,
         null,
         null,
         null,
         null,
         null,
         null,
         null,
         null,
         null,
         null,
         null,
         null,
         null,
         null,
         null,
         null,
         null,
         null,
         null,
         null,
         null,
         null,
         null,
         2023,
         "01/30/2025",
         "Covered Recipient Physician",
         null,
         null,
         1003091976,
         "DAVID",
         "ANTHONY",
         "RAMOS",
         null,
         "DAVID",
         "A",
         "RAMOS",
         null,
         "3110 NOGALITOS",
         "SUITE 105",
         "SAN ANTONIO",
         "TX",
         "78225-2337",
         "UNITED STATES",
         null,
         "Allopathic & Osteopathic Physicians|Family Medicine",
         "207Q00000X",
         null,
         null,
         null,
         null,
         null,
         "TX",
         null,
         null,
         null,
         null
        ],
        [
         "31",
         "UNCHANGED",
         "Covered Recipient Physician",
         null,
         null,
         null,
         "1003091976",
         "DAVID",
         null,
         "RAMOS",
         null,
         "3110 NOGALITOS",
         "SUITE 105",
         "SAN ANTONIO",
         "TX",
         "78225-2337",
         "United States",
         null,
         null,
         "Medical Doctor",
         null,
         null,
         null,
         null,
         null,
         "Allopathic & Osteopathic Physicians|Family Medicine",
         null,
         null,
         null,
         null,
         null,
         "TX",
         null,
         null,
         null,
         null,
         "Novo Nordisk Inc",
         "100000000144",
         "Novo Nordisk Inc",
         "NJ",
         "United States",
         "20.16",
         "06/07/2023",
         "1",
         "In-kind items and services",
         "Food and Beverage",
         null,
         null,
         null,
         "No",
         "No Third Party Payment",
         null,
         null,
         null,
         null,
         "No",
         "1001295373",
         "No",
         "Yes",
         "Covered",
         "Drug",
         "Diabetes",
         "Ozempic",
         "0169-4132-12",
         null,
         "Covered",
         "Drug",
         "Diabetes",
         "Rybelsus",
         "0169-4303-13",
         null,
         null,
         null,
         null,
         null,
         null,
         null,
         null,
         null,
         null,
         null,
         null,
         null,
         null,
         null,
         null,
         null,
         null,
         null,
         2023,
         "01/30/2025",
         "Covered Recipient Physician",
         null,
         null,
         1003091976,
         "DAVID",
         "ANTHONY",
         "RAMOS",
         null,
         "DAVID",
         "A",
         "RAMOS",
         null,
         "3110 NOGALITOS",
         "SUITE 105",
         "SAN ANTONIO",
         "TX",
         "78225-2337",
         "UNITED STATES",
         null,
         "Allopathic & Osteopathic Physicians|Family Medicine",
         "207Q00000X",
         null,
         null,
         null,
         null,
         null,
         "TX",
         null,
         null,
         null,
         null
        ],
        [
         "31",
         "UNCHANGED",
         "Covered Recipient Physician",
         null,
         null,
         null,
         "1003091976",
         "David",
         "Anthony",
         "Ramos",
         null,
         "3110 Nogalitos Ste 105",
         null,
         "San Antonio",
         "TX",
         "78225",
         "United States",
         null,
         null,
         "Medical Doctor",
         null,
         null,
         null,
         null,
         null,
         "Allopathic & Osteopathic Physicians|Family Medicine",
         null,
         null,
         null,
         null,
         null,
         "TX",
         null,
         null,
         null,
         null,
         "AstraZeneca Pharmaceuticals LP",
         "100000000146",
         "AstraZeneca Pharmaceuticals LP",
         "DE",
         "United States",
         "17.85",
         "07/17/2023",
         "1",
         "In-kind items and services",
         "Food and Beverage",
         null,
         null,
         null,
         "No",
         "No Third Party Payment",
         null,
         "No",
         null,
         "Informational Meal",
         "No",
         "1011403167",
         "No",
         "Yes",
         "Covered",
         "Drug",
         "Respiratory",
         "BREZTRI",
         "0310-4616-12",
         null,
         null,
         null,
         null,
         null,
         null,
         null,
         null,
         null,
         null,
         null,
         null,
         null,
         null,
         null,
         null,
         null,
         null,
         null,
         null,
         null,
         null,
         null,
         null,
         null,
         2023,
         "01/30/2025",
         "Covered Recipient Physician",
         null,
         null,
         1003091976,
         "DAVID",
         "ANTHONY",
         "RAMOS",
         null,
         "DAVID",
         "A",
         "RAMOS",
         null,
         "3110 NOGALITOS",
         "SUITE 105",
         "SAN ANTONIO",
         "TX",
         "78225-2337",
         "UNITED STATES",
         null,
         "Allopathic & Osteopathic Physicians|Family Medicine",
         "207Q00000X",
         null,
         null,
         null,
         null,
         null,
         "TX",
         null,
         null,
         null,
         null
        ],
        [
         "31",
         "UNCHANGED",
         "Covered Recipient Physician",
         null,
         null,
         null,
         "1003091976",
         "David",
         "Anthony",
         "Ramos",
         null,
         "3110 Nogalitos Ste 105",
         null,
         "San Antonio",
         "TX",
         "78225",
         "United States",
         null,
         null,
         "Medical Doctor",
         null,
         null,
         null,
         null,
         null,
         "Allopathic & Osteopathic Physicians|Family Medicine",
         null,
         null,
         null,
         null,
         null,
         "TX",
         null,
         null,
         null,
         null,
         "AstraZeneca Pharmaceuticals LP",
         "100000000146",
         "AstraZeneca Pharmaceuticals LP",
         "DE",
         "United States",
         "15.29",
         "02/28/2023",
         "1",
         "In-kind items and services",
         "Food and Beverage",
         null,
         null,
         null,
         "No",
         "No Third Party Payment",
         null,
         "No",
         null,
         "Informational Meal",
         "No",
         "1011749317",
         "No",
         "Yes",
         "Covered",
         "Drug",
         "Cardiovascular and Metabolism",
         "FARXIGA",
         "0310-6205-30",
         null,
         null,
         null,
         null,
         null,
         null,
         null,
         null,
         null,
         null,
         null,
         null,
         null,
         null,
         null,
         null,
         null,
         null,
         null,
         null,
         null,
         null,
         null,
         null,
         null,
         2023,
         "01/30/2025",
         "Covered Recipient Physician",
         null,
         null,
         1003091976,
         "DAVID",
         "ANTHONY",
         "RAMOS",
         null,
         "DAVID",
         "A",
         "RAMOS",
         null,
         "3110 NOGALITOS",
         "SUITE 105",
         "SAN ANTONIO",
         "TX",
         "78225-2337",
         "UNITED STATES",
         null,
         "Allopathic & Osteopathic Physicians|Family Medicine",
         "207Q00000X",
         null,
         null,
         null,
         null,
         null,
         "TX",
         null,
         null,
         null,
         null
        ]
       ],
       "datasetInfos": [],
       "dbfsResultPath": null,
       "isJsonSchema": true,
       "metadata": {},
       "overflow": false,
       "plotOptions": {
        "customPlotOptions": {},
        "displayType": "table",
        "pivotAggregation": null,
        "pivotColumns": null,
        "xColumns": null,
        "yColumns": null
       },
       "removedWidgets": [],
       "schema": [
        {
         "metadata": "{}",
         "name": "Covered_Recipient_Profile_ID",
         "type": "\"string\""
        },
        {
         "metadata": "{}",
         "name": "Change_Type",
         "type": "\"string\""
        },
        {
         "metadata": "{}",
         "name": "Covered_Recipient_Type",
         "type": "\"string\""
        },
        {
         "metadata": "{}",
         "name": "Teaching_Hospital_CCN",
         "type": "\"string\""
        },
        {
         "metadata": "{}",
         "name": "Teaching_Hospital_ID",
         "type": "\"string\""
        },
        {
         "metadata": "{}",
         "name": "Teaching_Hospital_Name",
         "type": "\"string\""
        },
        {
         "metadata": "{}",
         "name": "Covered_Recipient_NPI",
         "type": "\"string\""
        },
        {
         "metadata": "{}",
         "name": "Covered_Recipient_First_Name",
         "type": "\"string\""
        },
        {
         "metadata": "{}",
         "name": "Covered_Recipient_Middle_Name",
         "type": "\"string\""
        },
        {
         "metadata": "{}",
         "name": "Covered_Recipient_Last_Name",
         "type": "\"string\""
        },
        {
         "metadata": "{}",
         "name": "Covered_Recipient_Name_Suffix",
         "type": "\"string\""
        },
        {
         "metadata": "{}",
         "name": "Recipient_Primary_Business_Street_Address_Line1",
         "type": "\"string\""
        },
        {
         "metadata": "{}",
         "name": "Recipient_Primary_Business_Street_Address_Line2",
         "type": "\"string\""
        },
        {
         "metadata": "{}",
         "name": "Recipient_City",
         "type": "\"string\""
        },
        {
         "metadata": "{}",
         "name": "Recipient_State",
         "type": "\"string\""
        },
        {
         "metadata": "{}",
         "name": "Recipient_Zip_Code",
         "type": "\"string\""
        },
        {
         "metadata": "{}",
         "name": "Recipient_Country",
         "type": "\"string\""
        },
        {
         "metadata": "{}",
         "name": "Recipient_Province",
         "type": "\"string\""
        },
        {
         "metadata": "{}",
         "name": "Recipient_Postal_Code",
         "type": "\"string\""
        },
        {
         "metadata": "{}",
         "name": "Covered_Recipient_Primary_Type_1",
         "type": "\"string\""
        },
        {
         "metadata": "{}",
         "name": "Covered_Recipient_Primary_Type_2",
         "type": "\"string\""
        },
        {
         "metadata": "{}",
         "name": "Covered_Recipient_Primary_Type_3",
         "type": "\"string\""
        },
        {
         "metadata": "{}",
         "name": "Covered_Recipient_Primary_Type_4",
         "type": "\"string\""
        },
        {
         "metadata": "{}",
         "name": "Covered_Recipient_Primary_Type_5",
         "type": "\"string\""
        },
        {
         "metadata": "{}",
         "name": "Covered_Recipient_Primary_Type_6",
         "type": "\"string\""
        },
        {
         "metadata": "{}",
         "name": "Covered_Recipient_Specialty_1",
         "type": "\"string\""
        },
        {
         "metadata": "{}",
         "name": "Covered_Recipient_Specialty_2",
         "type": "\"string\""
        },
        {
         "metadata": "{}",
         "name": "Covered_Recipient_Specialty_3",
         "type": "\"string\""
        },
        {
         "metadata": "{}",
         "name": "Covered_Recipient_Specialty_4",
         "type": "\"string\""
        },
        {
         "metadata": "{}",
         "name": "Covered_Recipient_Specialty_5",
         "type": "\"string\""
        },
        {
         "metadata": "{}",
         "name": "Covered_Recipient_Specialty_6",
         "type": "\"string\""
        },
        {
         "metadata": "{}",
         "name": "Covered_Recipient_License_State_code1",
         "type": "\"string\""
        },
        {
         "metadata": "{}",
         "name": "Covered_Recipient_License_State_code2",
         "type": "\"string\""
        },
        {
         "metadata": "{}",
         "name": "Covered_Recipient_License_State_code3",
         "type": "\"string\""
        },
        {
         "metadata": "{}",
         "name": "Covered_Recipient_License_State_code4",
         "type": "\"string\""
        },
        {
         "metadata": "{}",
         "name": "Covered_Recipient_License_State_code5",
         "type": "\"string\""
        },
        {
         "metadata": "{}",
         "name": "Submitting_Applicable_Manufacturer_or_Applicable_GPO_Name",
         "type": "\"string\""
        },
        {
         "metadata": "{}",
         "name": "Applicable_Manufacturer_or_Applicable_GPO_Making_Payment_ID",
         "type": "\"string\""
        },
        {
         "metadata": "{}",
         "name": "Applicable_Manufacturer_or_Applicable_GPO_Making_Payment_Name",
         "type": "\"string\""
        },
        {
         "metadata": "{}",
         "name": "Applicable_Manufacturer_or_Applicable_GPO_Making_Payment_State",
         "type": "\"string\""
        },
        {
         "metadata": "{}",
         "name": "Applicable_Manufacturer_or_Applicable_GPO_Making_Payment_Country",
         "type": "\"string\""
        },
        {
         "metadata": "{}",
         "name": "Total_Amount_of_Payment_USDollars",
         "type": "\"string\""
        },
        {
         "metadata": "{}",
         "name": "Date_of_Payment",
         "type": "\"string\""
        },
        {
         "metadata": "{}",
         "name": "Number_of_Payments_Included_in_Total_Amount",
         "type": "\"string\""
        },
        {
         "metadata": "{}",
         "name": "Form_of_Payment_or_Transfer_of_Value",
         "type": "\"string\""
        },
        {
         "metadata": "{}",
         "name": "Nature_of_Payment_or_Transfer_of_Value",
         "type": "\"string\""
        },
        {
         "metadata": "{}",
         "name": "City_of_Travel",
         "type": "\"string\""
        },
        {
         "metadata": "{}",
         "name": "State_of_Travel",
         "type": "\"string\""
        },
        {
         "metadata": "{}",
         "name": "Country_of_Travel",
         "type": "\"string\""
        },
        {
         "metadata": "{}",
         "name": "Physician_Ownership_Indicator",
         "type": "\"string\""
        },
        {
         "metadata": "{}",
         "name": "Third_Party_Payment_Recipient_Indicator",
         "type": "\"string\""
        },
        {
         "metadata": "{}",
         "name": "Name_of_Third_Party_Entity_Receiving_Payment_or_Transfer_of_Value",
         "type": "\"string\""
        },
        {
         "metadata": "{}",
         "name": "Charity_Indicator",
         "type": "\"string\""
        },
        {
         "metadata": "{}",
         "name": "Third_Party_Equals_Covered_Recipient_Indicator",
         "type": "\"string\""
        },
        {
         "metadata": "{}",
         "name": "Contextual_Information",
         "type": "\"string\""
        },
        {
         "metadata": "{}",
         "name": "Delay_in_Publication_Indicator",
         "type": "\"string\""
        },
        {
         "metadata": "{}",
         "name": "Record_ID",
         "type": "\"string\""
        },
        {
         "metadata": "{}",
         "name": "Dispute_Status_for_Publication",
         "type": "\"string\""
        },
        {
         "metadata": "{}",
         "name": "Related_Product_Indicator",
         "type": "\"string\""
        },
        {
         "metadata": "{}",
         "name": "Covered_or_Noncovered_Indicator_1",
         "type": "\"string\""
        },
        {
         "metadata": "{}",
         "name": "Indicate_Drug_or_Biological_or_Device_or_Medical_Supply_1",
         "type": "\"string\""
        },
        {
         "metadata": "{}",
         "name": "Product_Category_or_Therapeutic_Area_1",
         "type": "\"string\""
        },
        {
         "metadata": "{}",
         "name": "Name_of_Drug_or_Biological_or_Device_or_Medical_Supply_1",
         "type": "\"string\""
        },
        {
         "metadata": "{}",
         "name": "Associated_Drug_or_Biological_NDC_1",
         "type": "\"string\""
        },
        {
         "metadata": "{}",
         "name": "Associated_Device_or_Medical_Supply_PDI_1",
         "type": "\"string\""
        },
        {
         "metadata": "{}",
         "name": "Covered_or_Noncovered_Indicator_2",
         "type": "\"string\""
        },
        {
         "metadata": "{}",
         "name": "Indicate_Drug_or_Biological_or_Device_or_Medical_Supply_2",
         "type": "\"string\""
        },
        {
         "metadata": "{}",
         "name": "Product_Category_or_Therapeutic_Area_2",
         "type": "\"string\""
        },
        {
         "metadata": "{}",
         "name": "Name_of_Drug_or_Biological_or_Device_or_Medical_Supply_2",
         "type": "\"string\""
        },
        {
         "metadata": "{}",
         "name": "Associated_Drug_or_Biological_NDC_2",
         "type": "\"string\""
        },
        {
         "metadata": "{}",
         "name": "Associated_Device_or_Medical_Supply_PDI_2",
         "type": "\"string\""
        },
        {
         "metadata": "{}",
         "name": "Covered_or_Noncovered_Indicator_3",
         "type": "\"string\""
        },
        {
         "metadata": "{}",
         "name": "Indicate_Drug_or_Biological_or_Device_or_Medical_Supply_3",
         "type": "\"string\""
        },
        {
         "metadata": "{}",
         "name": "Product_Category_or_Therapeutic_Area_3",
         "type": "\"string\""
        },
        {
         "metadata": "{}",
         "name": "Name_of_Drug_or_Biological_or_Device_or_Medical_Supply_3",
         "type": "\"string\""
        },
        {
         "metadata": "{}",
         "name": "Associated_Drug_or_Biological_NDC_3",
         "type": "\"string\""
        },
        {
         "metadata": "{}",
         "name": "Associated_Device_or_Medical_Supply_PDI_3",
         "type": "\"string\""
        },
        {
         "metadata": "{}",
         "name": "Covered_or_Noncovered_Indicator_4",
         "type": "\"string\""
        },
        {
         "metadata": "{}",
         "name": "Indicate_Drug_or_Biological_or_Device_or_Medical_Supply_4",
         "type": "\"string\""
        },
        {
         "metadata": "{}",
         "name": "Product_Category_or_Therapeutic_Area_4",
         "type": "\"string\""
        },
        {
         "metadata": "{}",
         "name": "Name_of_Drug_or_Biological_or_Device_or_Medical_Supply_4",
         "type": "\"string\""
        },
        {
         "metadata": "{}",
         "name": "Associated_Drug_or_Biological_NDC_4",
         "type": "\"string\""
        },
        {
         "metadata": "{}",
         "name": "Associated_Device_or_Medical_Supply_PDI_4",
         "type": "\"string\""
        },
        {
         "metadata": "{}",
         "name": "Covered_or_Noncovered_Indicator_5",
         "type": "\"string\""
        },
        {
         "metadata": "{}",
         "name": "Indicate_Drug_or_Biological_or_Device_or_Medical_Supply_5",
         "type": "\"string\""
        },
        {
         "metadata": "{}",
         "name": "Product_Category_or_Therapeutic_Area_5",
         "type": "\"string\""
        },
        {
         "metadata": "{}",
         "name": "Name_of_Drug_or_Biological_or_Device_or_Medical_Supply_5",
         "type": "\"string\""
        },
        {
         "metadata": "{}",
         "name": "Associated_Drug_or_Biological_NDC_5",
         "type": "\"string\""
        },
        {
         "metadata": "{}",
         "name": "Associated_Device_or_Medical_Supply_PDI_5",
         "type": "\"string\""
        },
        {
         "metadata": "{}",
         "name": "Program_Year",
         "type": "\"integer\""
        },
        {
         "metadata": "{}",
         "name": "Payment_Publication_Date",
         "type": "\"string\""
        },
        {
         "metadata": "{}",
         "name": "Covered_Recipient_Profile_Type",
         "type": "\"string\""
        },
        {
         "metadata": "{}",
         "name": "Associated_Covered_Recipient_Profile_ID_1",
         "type": "\"string\""
        },
        {
         "metadata": "{}",
         "name": "Associated_Covered_Recipient_Profile_ID_2",
         "type": "\"string\""
        },
        {
         "metadata": "{}",
         "name": "Covered_Recipient_NPI",
         "type": "\"integer\""
        },
        {
         "metadata": "{}",
         "name": "Covered_Recipient_Profile_First_Name",
         "type": "\"string\""
        },
        {
         "metadata": "{}",
         "name": "Covered_Recipient_Profile_Middle_Name",
         "type": "\"string\""
        },
        {
         "metadata": "{}",
         "name": "Covered_Recipient_Profile_Last_Name",
         "type": "\"string\""
        },
        {
         "metadata": "{}",
         "name": "Covered_Recipient_Profile_Suffix",
         "type": "\"string\""
        },
        {
         "metadata": "{}",
         "name": "Covered_Recipient_Profile_Alternate_First_Name",
         "type": "\"string\""
        },
        {
         "metadata": "{}",
         "name": "Covered_Recipient_Profile_Alternate_Middle_Name",
         "type": "\"string\""
        },
        {
         "metadata": "{}",
         "name": "Covered_Recipient_Profile_Alternate_Last_Name",
         "type": "\"string\""
        },
        {
         "metadata": "{}",
         "name": "Covered_Recipient_Profile_Alternate_Suffix",
         "type": "\"string\""
        },
        {
         "metadata": "{}",
         "name": "Covered_Recipient_Profile_Address_Line_1",
         "type": "\"string\""
        },
        {
         "metadata": "{}",
         "name": "Covered_Recipient_Profile_Address_Line_2",
         "type": "\"string\""
        },
        {
         "metadata": "{}",
         "name": "Covered_Recipient_Profile_City",
         "type": "\"string\""
        },
        {
         "metadata": "{}",
         "name": "Covered_Recipient_Profile_State",
         "type": "\"string\""
        },
        {
         "metadata": "{}",
         "name": "Covered_Recipient_Profile_Zipcode",
         "type": "\"string\""
        },
        {
         "metadata": "{}",
         "name": "Covered_Recipient_Profile_Country_Name",
         "type": "\"string\""
        },
        {
         "metadata": "{}",
         "name": "Covered_Recipient_Profile_Province_Name",
         "type": "\"string\""
        },
        {
         "metadata": "{}",
         "name": "Covered_Recipient_Profile_Primary_Specialty",
         "type": "\"string\""
        },
        {
         "metadata": "{}",
         "name": "Covered_Recipient_Profile_OPS_Taxonomy_1",
         "type": "\"string\""
        },
        {
         "metadata": "{}",
         "name": "Covered_Recipient_Profile_OPS_Taxonomy_2",
         "type": "\"string\""
        },
        {
         "metadata": "{}",
         "name": "Covered_Recipient_Profile_OPS_Taxonomy_3",
         "type": "\"string\""
        },
        {
         "metadata": "{}",
         "name": "Covered_Recipient_Profile_OPS_Taxonomy_4",
         "type": "\"string\""
        },
        {
         "metadata": "{}",
         "name": "Covered_Recipient_Profile_OPS_Taxonomy_5",
         "type": "\"string\""
        },
        {
         "metadata": "{}",
         "name": "Covered_Recipient_Profile_OPS_Taxonomy_6",
         "type": "\"string\""
        },
        {
         "metadata": "{}",
         "name": "Covered_Recipient_Profile_License_State_Code_1",
         "type": "\"string\""
        },
        {
         "metadata": "{}",
         "name": "Covered_Recipient_Profile_License_State_Code_2",
         "type": "\"string\""
        },
        {
         "metadata": "{}",
         "name": "Covered_Recipient_Profile_License_State_Code_3",
         "type": "\"string\""
        },
        {
         "metadata": "{}",
         "name": "Covered_Recipient_Profile_License_State_Code_4",
         "type": "\"string\""
        },
        {
         "metadata": "{}",
         "name": "Covered_Recipient_Profile_License_State_Code_5",
         "type": "\"string\""
        }
       ],
       "type": "table"
      }
     },
     "output_type": "display_data"
    }
   ],
   "source": [
    "#merging both the files on covered_recipient_profile_ID(common in both the datasets)\n",
    "from pyspark.sql.functions import col, sum, count, desc #importing the sql functions for running the below queries\n",
    "final_df = open_payments_df.join(covered_receip_df, on=\"Covered_Recipient_Profile_ID\", how=\"inner\")\n",
    "display(final_df.limit(10))"
   ]
  },
  {
   "cell_type": "markdown",
   "metadata": {
    "application/vnd.databricks.v1+cell": {
     "cellMetadata": {
      "byteLimit": 2048000,
      "rowLimit": 10000
     },
     "inputWidgets": {},
     "nuid": "fbfd35f1-3206-467f-9d33-552a699820a8",
     "showTitle": false,
     "tableResultSettingsMap": {},
     "title": ""
    }
   },
   "source": [
    "### 1. What is the Nature of Payments with reimbursement amounts greater than $1,000 ordered by count?"
   ]
  },
  {
   "cell_type": "markdown",
   "metadata": {
    "application/vnd.databricks.v1+cell": {
     "cellMetadata": {
      "byteLimit": 2048000,
      "rowLimit": 10000
     },
     "inputWidgets": {},
     "nuid": "f98fb6a9-de6d-4d97-a5bd-f2686d255201",
     "showTitle": false,
     "tableResultSettingsMap": {},
     "title": ""
    }
   },
   "source": [
    "To identify the most common natures of payment for transactions where the reimbursement amount is greater than 1000 dollars, ranking them by their frequency, firstly only the rows where the total payment amount exceeds $1000 are retained. Next, aggregated the payments based on their nature of payment, meaning all similar types of payments are grouped together. Next, how many times each type of payment appears in the filtered dataset are assigned as \"count\". Finally, the results from most frequent to least frequent nature of payment are shown."
   ]
  },
  {
   "cell_type": "code",
   "execution_count": 0,
   "metadata": {
    "application/vnd.databricks.v1+cell": {
     "cellMetadata": {
      "byteLimit": 2048000,
      "rowLimit": 10000
     },
     "inputWidgets": {},
     "nuid": "230eea6b-5b45-419a-b0d8-404ea622d90a",
     "showTitle": false,
     "tableResultSettingsMap": {},
     "title": ""
    }
   },
   "outputs": [
    {
     "output_type": "display_data",
     "data": {
      "text/html": [
       "<style scoped>\n",
       "  .table-result-container {\n",
       "    max-height: 300px;\n",
       "    overflow: auto;\n",
       "  }\n",
       "  table, th, td {\n",
       "    border: 1px solid black;\n",
       "    border-collapse: collapse;\n",
       "  }\n",
       "  th, td {\n",
       "    padding: 5px;\n",
       "  }\n",
       "  th {\n",
       "    text-align: left;\n",
       "  }\n",
       "</style><div class='table-result-container'><table class='table-result'><thead style='background-color: white'><tr><th>Nature_of_Payment_or_Transfer_of_Value</th><th>count</th></tr></thead><tbody><tr><td>Compensation for services other than consulting, including serving as faculty or as a speaker at a venue other than a continuing education program</td><td>161476</td></tr><tr><td>Consulting Fee</td><td>104564</td></tr><tr><td>Travel and Lodging</td><td>24711</td></tr><tr><td>Honoraria</td><td>13741</td></tr><tr><td>Education</td><td>12503</td></tr><tr><td>Royalty or License</td><td>10573</td></tr><tr><td>Compensation for serving as faculty or as a speaker for a medical education program</td><td>8655</td></tr><tr><td>Grant</td><td>2222</td></tr><tr><td>Long term medical supply or device loan</td><td>998</td></tr><tr><td>Food and Beverage</td><td>951</td></tr></tbody></table></div>"
      ]
     },
     "metadata": {
      "application/vnd.databricks.v1+output": {
       "addedWidgets": {},
       "aggData": [],
       "aggError": "",
       "aggOverflow": false,
       "aggSchema": [],
       "aggSeriesLimitReached": false,
       "aggType": "",
       "arguments": {},
       "columnCustomDisplayInfos": {},
       "data": [
        [
         "Compensation for services other than consulting, including serving as faculty or as a speaker at a venue other than a continuing education program",
         161476
        ],
        [
         "Consulting Fee",
         104564
        ],
        [
         "Travel and Lodging",
         24711
        ],
        [
         "Honoraria",
         13741
        ],
        [
         "Education",
         12503
        ],
        [
         "Royalty or License",
         10573
        ],
        [
         "Compensation for serving as faculty or as a speaker for a medical education program",
         8655
        ],
        [
         "Grant",
         2222
        ],
        [
         "Long term medical supply or device loan",
         998
        ],
        [
         "Food and Beverage",
         951
        ]
       ],
       "datasetInfos": [],
       "dbfsResultPath": null,
       "isJsonSchema": true,
       "metadata": {},
       "overflow": false,
       "plotOptions": {
        "customPlotOptions": {},
        "displayType": "table",
        "pivotAggregation": null,
        "pivotColumns": null,
        "xColumns": null,
        "yColumns": null
       },
       "removedWidgets": [],
       "schema": [
        {
         "metadata": "{}",
         "name": "Nature_of_Payment_or_Transfer_of_Value",
         "type": "\"string\""
        },
        {
         "metadata": "{}",
         "name": "count",
         "type": "\"long\""
        }
       ],
       "type": "table"
      }
     },
     "output_type": "display_data"
    }
   ],
   "source": [
    "high_reimb_payment_nature = (final_df.filter(col(\"Total_Amount_of_Payment_USDollars\") > 1000)\n",
    "    .groupBy(\"Nature_of_Payment_or_Transfer_of_Value\")\n",
    "    .agg(count(\"Nature_of_Payment_or_Transfer_of_Value\").alias(\"count\"))\n",
    "    .orderBy(desc(\"count\")))\n",
    "display(high_reimb_payment_nature.limit(10))"
   ]
  },
  {
   "cell_type": "markdown",
   "metadata": {
    "application/vnd.databricks.v1+cell": {
     "cellMetadata": {
      "byteLimit": 2048000,
      "rowLimit": 10000
     },
     "inputWidgets": {},
     "nuid": "09317ddd-dbc9-4eb1-bf84-4dcf697bc446",
     "showTitle": false,
     "tableResultSettingsMap": {},
     "title": ""
    }
   },
   "source": [
    "The top 3 nature of payments having >$1000 reimbursement ordered by count are found to be:\n",
    "1. Compensation for services other than consulting, including serving as faculty or as a speaker at a venue other than a continuing education program\n",
    "2. Consulting fee\n",
    "3. Travel and Lodging"
   ]
  },
  {
   "cell_type": "markdown",
   "metadata": {
    "application/vnd.databricks.v1+cell": {
     "cellMetadata": {
      "byteLimit": 2048000,
      "rowLimit": 10000
     },
     "inputWidgets": {},
     "nuid": "cd6412da-0b29-4501-885b-fcb42192bd64",
     "showTitle": false,
     "tableResultSettingsMap": {},
     "title": ""
    }
   },
   "source": [
    "### 2. What are the top ten Nature of Payments by count?"
   ]
  },
  {
   "cell_type": "markdown",
   "metadata": {
    "application/vnd.databricks.v1+cell": {
     "cellMetadata": {
      "byteLimit": 2048000,
      "rowLimit": 10000
     },
     "inputWidgets": {},
     "nuid": "72074fcd-2bb3-4650-81f1-5b1c921686e3",
     "showTitle": false,
     "tableResultSettingsMap": {},
     "title": ""
    }
   },
   "source": [
    "To identify the most common types of payments or transfers of value by counting their occurrences in the dataset, the merged data is initially grouped by the \"Nature_of_Payment_or_Transfer_of_Value\" column, meaning that all rows with the same nature of payment are combined. Then, count(\"Nature_of_Payment_or_Transfer_of_Value\") function counts how many times each nature of payment appears in the dataset. The resulting count is assigned the alias \"count\". The results are ordered in descending order of \"count\", meaning the most frequently occurring nature of payment appears at the top. The display(top_nature_by_count.limit(10)) function ensures that only the top 10 most frequently occurring payment types are shown."
   ]
  },
  {
   "cell_type": "code",
   "execution_count": 0,
   "metadata": {
    "application/vnd.databricks.v1+cell": {
     "cellMetadata": {
      "byteLimit": 2048000,
      "rowLimit": 10000
     },
     "inputWidgets": {},
     "nuid": "75525447-d0f2-4897-801d-cd144788028f",
     "showTitle": false,
     "tableResultSettingsMap": {},
     "title": ""
    }
   },
   "outputs": [
    {
     "output_type": "display_data",
     "data": {
      "text/html": [
       "<style scoped>\n",
       "  .table-result-container {\n",
       "    max-height: 300px;\n",
       "    overflow: auto;\n",
       "  }\n",
       "  table, th, td {\n",
       "    border: 1px solid black;\n",
       "    border-collapse: collapse;\n",
       "  }\n",
       "  th, td {\n",
       "    padding: 5px;\n",
       "  }\n",
       "  th {\n",
       "    text-align: left;\n",
       "  }\n",
       "</style><div class='table-result-container'><table class='table-result'><thead style='background-color: white'><tr><th>Nature_of_Payment_or_Transfer_of_Value</th><th>count</th></tr></thead><tbody><tr><td>Food and Beverage</td><td>13378081</td></tr><tr><td>Travel and Lodging</td><td>545048</td></tr><tr><td>Compensation for services other than consulting, including serving as faculty or as a speaker at a venue other than a continuing education program</td><td>230121</td></tr><tr><td>Consulting Fee</td><td>169540</td></tr><tr><td>Education</td><td>159397</td></tr><tr><td>Gift</td><td>31695</td></tr><tr><td>Honoraria</td><td>20214</td></tr><tr><td>Royalty or License</td><td>14007</td></tr><tr><td>Compensation for serving as faculty or as a speaker for a medical education program</td><td>12231</td></tr><tr><td>Entertainment</td><td>7967</td></tr></tbody></table></div>"
      ]
     },
     "metadata": {
      "application/vnd.databricks.v1+output": {
       "addedWidgets": {},
       "aggData": [],
       "aggError": "",
       "aggOverflow": false,
       "aggSchema": [],
       "aggSeriesLimitReached": false,
       "aggType": "",
       "arguments": {},
       "columnCustomDisplayInfos": {},
       "data": [
        [
         "Food and Beverage",
         13378081
        ],
        [
         "Travel and Lodging",
         545048
        ],
        [
         "Compensation for services other than consulting, including serving as faculty or as a speaker at a venue other than a continuing education program",
         230121
        ],
        [
         "Consulting Fee",
         169540
        ],
        [
         "Education",
         159397
        ],
        [
         "Gift",
         31695
        ],
        [
         "Honoraria",
         20214
        ],
        [
         "Royalty or License",
         14007
        ],
        [
         "Compensation for serving as faculty or as a speaker for a medical education program",
         12231
        ],
        [
         "Entertainment",
         7967
        ]
       ],
       "datasetInfos": [],
       "dbfsResultPath": null,
       "isJsonSchema": true,
       "metadata": {},
       "overflow": false,
       "plotOptions": {
        "customPlotOptions": {},
        "displayType": "table",
        "pivotAggregation": null,
        "pivotColumns": null,
        "xColumns": null,
        "yColumns": null
       },
       "removedWidgets": [],
       "schema": [
        {
         "metadata": "{}",
         "name": "Nature_of_Payment_or_Transfer_of_Value",
         "type": "\"string\""
        },
        {
         "metadata": "{}",
         "name": "count",
         "type": "\"long\""
        }
       ],
       "type": "table"
      }
     },
     "output_type": "display_data"
    }
   ],
   "source": [
    "top_nature_by_count = (final_df.groupBy(\"Nature_of_Payment_or_Transfer_of_Value\")\n",
    "    .agg(count(\"Nature_of_Payment_or_Transfer_of_Value\").alias(\"count\"))\n",
    "    .orderBy(desc(\"count\")))\n",
    "display(top_nature_by_count.limit(10))"
   ]
  },
  {
   "cell_type": "markdown",
   "metadata": {
    "application/vnd.databricks.v1+cell": {
     "cellMetadata": {
      "byteLimit": 2048000,
      "rowLimit": 10000
     },
     "inputWidgets": {},
     "nuid": "4c216e4f-4f16-414d-b3be-63bf8342a80c",
     "showTitle": false,
     "tableResultSettingsMap": {},
     "title": ""
    }
   },
   "source": [
    "The top 10 nature of payments by count are found to be:\n",
    "1. Food and Beverage\n",
    "2. Travel and Lodging\n",
    "3. Compensation for services other than consulting, including serving as faculty or as a speaker at a venue other than a continuing education program\n",
    "4. Consulting Fee\n",
    "5. Education\n",
    "6. Gift\n",
    "7. Honoraria\n",
    "8. Royalty or License\n",
    "9. Compensation for serving as faculty or as a speaker for a medical education program\n",
    "10. Entertainment"
   ]
  },
  {
   "cell_type": "markdown",
   "metadata": {
    "application/vnd.databricks.v1+cell": {
     "cellMetadata": {
      "byteLimit": 2048000,
      "rowLimit": 10000
     },
     "inputWidgets": {},
     "nuid": "139de3a3-abcb-43a4-aa47-be8d3fcafc2c",
     "showTitle": false,
     "tableResultSettingsMap": {},
     "title": ""
    }
   },
   "source": [
    "### 3. What are the top ten Nature of Payments by total amount?"
   ]
  },
  {
   "cell_type": "markdown",
   "metadata": {
    "application/vnd.databricks.v1+cell": {
     "cellMetadata": {
      "byteLimit": 2048000,
      "rowLimit": 10000
     },
     "inputWidgets": {},
     "nuid": "7bce8286-bc9a-4cd3-8573-5c33c36742a5",
     "showTitle": false,
     "tableResultSettingsMap": {},
     "title": ""
    }
   },
   "source": [
    "To identify the top natures of payment based on the total amount paid rather than just their count, the dataset is first grouped by \"Nature_of_Payment_or_Transfer_of_Value\", meaning all rows with the same nature of payment are combined.Then, the su (\"Total_Amount_of_Payment_USDollars\") function calculates the total amount paid for each nature of payment. Next, the result is assigned alias \"total_amount\". Then, results are ordered in descending order of \"total_amount\", so the payment types with the highest total payment amounts appear at the top. Finally, display(top_nature_by_amount.limit(10)) function ensures that only the top 10 natures of payment with the highest total payment amounts are shown."
   ]
  },
  {
   "cell_type": "code",
   "execution_count": 0,
   "metadata": {
    "application/vnd.databricks.v1+cell": {
     "cellMetadata": {
      "byteLimit": 2048000,
      "rowLimit": 10000
     },
     "inputWidgets": {},
     "nuid": "17321111-5ee3-49cf-aba0-cc5681f1fc5f",
     "showTitle": false,
     "tableResultSettingsMap": {},
     "title": ""
    }
   },
   "outputs": [
    {
     "output_type": "display_data",
     "data": {
      "text/html": [
       "<style scoped>\n",
       "  .table-result-container {\n",
       "    max-height: 300px;\n",
       "    overflow: auto;\n",
       "  }\n",
       "  table, th, td {\n",
       "    border: 1px solid black;\n",
       "    border-collapse: collapse;\n",
       "  }\n",
       "  th, td {\n",
       "    padding: 5px;\n",
       "  }\n",
       "  th {\n",
       "    text-align: left;\n",
       "  }\n",
       "</style><div class='table-result-container'><table class='table-result'><thead style='background-color: white'><tr><th>Nature_of_Payment_or_Transfer_of_Value</th><th>total_amount</th></tr></thead><tbody><tr><td>Royalty or License</td><td>6.242166887899998E8</td></tr><tr><td>Compensation for services other than consulting, including serving as faculty or as a speaker at a venue other than a continuing education program</td><td>5.523960288000001E8</td></tr><tr><td>Consulting Fee</td><td>4.988225872099996E8</td></tr><tr><td>Food and Beverage</td><td>3.743433390699896E8</td></tr><tr><td>Travel and Lodging</td><td>1.7943128267000863E8</td></tr><tr><td>Acquisitions</td><td>7.192577675999999E7</td></tr><tr><td>Education</td><td>5.541025349000224E7</td></tr><tr><td>Honoraria</td><td>5.523104170999996E7</td></tr><tr><td>Compensation for serving as faculty or as a speaker for a medical education program</td><td>2.8615945760000013E7</td></tr><tr><td>Grant</td><td>2.4814728549999997E7</td></tr></tbody></table></div>"
      ]
     },
     "metadata": {
      "application/vnd.databricks.v1+output": {
       "addedWidgets": {},
       "aggData": [],
       "aggError": "",
       "aggOverflow": false,
       "aggSchema": [],
       "aggSeriesLimitReached": false,
       "aggType": "",
       "arguments": {},
       "columnCustomDisplayInfos": {},
       "data": [
        [
         "Royalty or License",
         6.242166887899998E8
        ],
        [
         "Compensation for services other than consulting, including serving as faculty or as a speaker at a venue other than a continuing education program",
         5.523960288000001E8
        ],
        [
         "Consulting Fee",
         4.988225872099996E8
        ],
        [
         "Food and Beverage",
         3.743433390699896E8
        ],
        [
         "Travel and Lodging",
         1.7943128267000863E8
        ],
        [
         "Acquisitions",
         7.192577675999999E7
        ],
        [
         "Education",
         5.541025349000224E7
        ],
        [
         "Honoraria",
         5.523104170999996E7
        ],
        [
         "Compensation for serving as faculty or as a speaker for a medical education program",
         2.8615945760000013E7
        ],
        [
         "Grant",
         2.4814728549999997E7
        ]
       ],
       "datasetInfos": [],
       "dbfsResultPath": null,
       "isJsonSchema": true,
       "metadata": {},
       "overflow": false,
       "plotOptions": {
        "customPlotOptions": {},
        "displayType": "table",
        "pivotAggregation": null,
        "pivotColumns": null,
        "xColumns": null,
        "yColumns": null
       },
       "removedWidgets": [],
       "schema": [
        {
         "metadata": "{}",
         "name": "Nature_of_Payment_or_Transfer_of_Value",
         "type": "\"string\""
        },
        {
         "metadata": "{}",
         "name": "total_amount",
         "type": "\"double\""
        }
       ],
       "type": "table"
      }
     },
     "output_type": "display_data"
    }
   ],
   "source": [
    "top_nature_by_amount = (final_df.groupBy(\"Nature_of_Payment_or_Transfer_of_Value\")\n",
    "    .agg(sum(\"Total_Amount_of_Payment_USDollars\").alias(\"total_amount\"))\n",
    "    .orderBy(desc(\"total_amount\")))\n",
    "display(top_nature_by_amount.limit(10))"
   ]
  },
  {
   "cell_type": "markdown",
   "metadata": {
    "application/vnd.databricks.v1+cell": {
     "cellMetadata": {
      "byteLimit": 2048000,
      "rowLimit": 10000
     },
     "inputWidgets": {},
     "nuid": "8310a1f4-601b-4c12-bbad-296bf4bc5502",
     "showTitle": false,
     "tableResultSettingsMap": {},
     "title": ""
    }
   },
   "source": [
    "The top 10 nature of payments by total amount are found to be:\n",
    "1. Royalty or License\n",
    "2. Compensation for services other than consulting, including serving as faculty or as a speaker at a venue other than a continuing education program\n",
    "3. Consulting Fee\n",
    "4. Food and Beverage\n",
    "5. Travel and Lodging\n",
    "6. Acquisitions\n",
    "7. Education\n",
    "8. Honoraria\n",
    "9. Compensation for serving as faculty or as a speaker for a medical education program\n",
    "10. Grant"
   ]
  },
  {
   "cell_type": "markdown",
   "metadata": {
    "application/vnd.databricks.v1+cell": {
     "cellMetadata": {
      "byteLimit": 2048000,
      "rowLimit": 10000
     },
     "inputWidgets": {},
     "nuid": "09f31fa7-e8ee-4ccb-b483-b9275fbae760",
     "showTitle": false,
     "tableResultSettingsMap": {},
     "title": ""
    }
   },
   "source": [
    "According to the txt files provided with the zip files, the covered recepients include MSC333\", non-Physician practitioners,and physicians so, as per the question the data is filtered here to include only physicians data to answer the below questions."
   ]
  },
  {
   "cell_type": "code",
   "execution_count": 0,
   "metadata": {
    "application/vnd.databricks.v1+cell": {
     "cellMetadata": {
      "byteLimit": 2048000,
      "rowLimit": 10000
     },
     "inputWidgets": {},
     "nuid": "8530f30b-778c-4498-b3b9-2394e5adb683",
     "showTitle": false,
     "tableResultSettingsMap": {},
     "title": ""
    }
   },
   "outputs": [
    {
     "output_type": "display_data",
     "data": {
      "text/html": [
       "<style scoped>\n",
       "  .table-result-container {\n",
       "    max-height: 300px;\n",
       "    overflow: auto;\n",
       "  }\n",
       "  table, th, td {\n",
       "    border: 1px solid black;\n",
       "    border-collapse: collapse;\n",
       "  }\n",
       "  th, td {\n",
       "    padding: 5px;\n",
       "  }\n",
       "  th {\n",
       "    text-align: left;\n",
       "  }\n",
       "</style><div class='table-result-container'><table class='table-result'><thead style='background-color: white'><tr><th>Covered_Recipient_Type</th></tr></thead><tbody><tr><td>Covered Recipient Non-Physician Practitioner</td></tr><tr><td>Covered Recipient Physician</td></tr><tr><td> MSC333\"</td></tr></tbody></table></div>"
      ]
     },
     "metadata": {
      "application/vnd.databricks.v1+output": {
       "addedWidgets": {},
       "aggData": [],
       "aggError": "",
       "aggOverflow": false,
       "aggSchema": [],
       "aggSeriesLimitReached": false,
       "aggType": "",
       "arguments": {},
       "columnCustomDisplayInfos": {},
       "data": [
        [
         "Covered Recipient Non-Physician Practitioner"
        ],
        [
         "Covered Recipient Physician"
        ],
        [
         " MSC333\""
        ]
       ],
       "datasetInfos": [],
       "dbfsResultPath": null,
       "isJsonSchema": true,
       "metadata": {},
       "overflow": false,
       "plotOptions": {
        "customPlotOptions": {},
        "displayType": "table",
        "pivotAggregation": null,
        "pivotColumns": null,
        "xColumns": null,
        "yColumns": null
       },
       "removedWidgets": [],
       "schema": [
        {
         "metadata": "{}",
         "name": "Covered_Recipient_Type",
         "type": "\"string\""
        }
       ],
       "type": "table"
      }
     },
     "output_type": "display_data"
    }
   ],
   "source": [
    "display(final_df.select(\"Covered_Recipient_Type\").distinct())"
   ]
  },
  {
   "cell_type": "code",
   "execution_count": 0,
   "metadata": {
    "application/vnd.databricks.v1+cell": {
     "cellMetadata": {
      "byteLimit": 2048000,
      "rowLimit": 10000
     },
     "inputWidgets": {},
     "nuid": "51057759-2943-49c5-bc38-b404349846de",
     "showTitle": false,
     "tableResultSettingsMap": {},
     "title": ""
    }
   },
   "outputs": [],
   "source": [
    "#filtering to include only physician data\n",
    "final_df = final_df.filter(col(\"Covered_Recipient_Type\") == \"Covered Recipient Physician\")"
   ]
  },
  {
   "cell_type": "markdown",
   "metadata": {
    "application/vnd.databricks.v1+cell": {
     "cellMetadata": {
      "byteLimit": 2048000,
      "rowLimit": 10000
     },
     "inputWidgets": {},
     "nuid": "50bdeb9e-dbef-4783-afe6-f5e2683dc9da",
     "showTitle": false,
     "tableResultSettingsMap": {},
     "title": ""
    }
   },
   "source": [
    "### 4. What are the top ten physician specialties by total amount?"
   ]
  },
  {
   "cell_type": "markdown",
   "metadata": {
    "application/vnd.databricks.v1+cell": {
     "cellMetadata": {
      "byteLimit": 2048000,
      "rowLimit": 10000
     },
     "inputWidgets": {},
     "nuid": "d9afc713-cefe-48cd-9dcd-d798cceeb375",
     "showTitle": false,
     "tableResultSettingsMap": {},
     "title": ""
    }
   },
   "source": [
    "To identify the top medical specialties based on the total amount of payments received, first the dataset is grouped by \"Covered_Recipient_Profile_Primary_Specialty\", meaning all payments related to the same specialty are combined. Next, the sum(\"Total_Amount_of_Payment_USDollars\") function calculates the total amount received for each specialty. The result is assigned as \"total_amount\". Finally,the results are ordered in descending order of \"total_amount\", so the specialties receiving the highest total payments appear at the top. The display(top_specialties_by_amount.limit(10)) function ensures that only the top 10 specialties by total payment amount are shown."
   ]
  },
  {
   "cell_type": "code",
   "execution_count": 0,
   "metadata": {
    "application/vnd.databricks.v1+cell": {
     "cellMetadata": {
      "byteLimit": 2048000,
      "rowLimit": 10000
     },
     "inputWidgets": {},
     "nuid": "9a5ab989-bc35-44b5-bc26-dc378683f273",
     "showTitle": false,
     "tableResultSettingsMap": {},
     "title": ""
    }
   },
   "outputs": [
    {
     "output_type": "display_data",
     "data": {
      "text/html": [
       "<style scoped>\n",
       "  .table-result-container {\n",
       "    max-height: 300px;\n",
       "    overflow: auto;\n",
       "  }\n",
       "  table, th, td {\n",
       "    border: 1px solid black;\n",
       "    border-collapse: collapse;\n",
       "  }\n",
       "  th, td {\n",
       "    padding: 5px;\n",
       "  }\n",
       "  th {\n",
       "    text-align: left;\n",
       "  }\n",
       "</style><div class='table-result-container'><table class='table-result'><thead style='background-color: white'><tr><th>Covered_Recipient_Profile_Primary_Specialty</th><th>total_amount</th></tr></thead><tbody><tr><td>Allopathic & Osteopathic Physicians|Orthopaedic Surgery</td><td>3.777151620799968E8</td></tr><tr><td>Allopathic & Osteopathic Physicians|Psychiatry & Neurology|Neurology</td><td>8.667850010000029E7</td></tr><tr><td>Allopathic & Osteopathic Physicians|Neurological Surgery</td><td>8.586441204999988E7</td></tr><tr><td>Allopathic & Osteopathic Physicians|Dermatology</td><td>7.997300741000053E7</td></tr><tr><td>Allopathic & Osteopathic Physicians|Orthopaedic Surgery|Adult Reconstructive Orthopaedic Surgery</td><td>7.277526618000007E7</td></tr><tr><td>Allopathic & Osteopathic Physicians|Internal Medicine|Hematology & Oncology</td><td>6.567412825000092E7</td></tr><tr><td>Allopathic & Osteopathic Physicians|Internal Medicine</td><td>6.555511652000128E7</td></tr><tr><td>Allopathic & Osteopathic Physicians|Psychiatry & Neurology|Psychiatry</td><td>6.527284579000072E7</td></tr><tr><td>Allopathic & Osteopathic Physicians|Internal Medicine|Cardiovascular Disease</td><td>6.29944522400002E7</td></tr><tr><td>Allopathic & Osteopathic Physicians|Orthopaedic Surgery|Orthopaedic Surgery of the Spine</td><td>6.143177107000011E7</td></tr></tbody></table></div>"
      ]
     },
     "metadata": {
      "application/vnd.databricks.v1+output": {
       "addedWidgets": {},
       "aggData": [],
       "aggError": "",
       "aggOverflow": false,
       "aggSchema": [],
       "aggSeriesLimitReached": false,
       "aggType": "",
       "arguments": {},
       "columnCustomDisplayInfos": {},
       "data": [
        [
         "Allopathic & Osteopathic Physicians|Orthopaedic Surgery",
         3.777151620799968E8
        ],
        [
         "Allopathic & Osteopathic Physicians|Psychiatry & Neurology|Neurology",
         8.667850010000029E7
        ],
        [
         "Allopathic & Osteopathic Physicians|Neurological Surgery",
         8.586441204999988E7
        ],
        [
         "Allopathic & Osteopathic Physicians|Dermatology",
         7.997300741000053E7
        ],
        [
         "Allopathic & Osteopathic Physicians|Orthopaedic Surgery|Adult Reconstructive Orthopaedic Surgery",
         7.277526618000007E7
        ],
        [
         "Allopathic & Osteopathic Physicians|Internal Medicine|Hematology & Oncology",
         6.567412825000092E7
        ],
        [
         "Allopathic & Osteopathic Physicians|Internal Medicine",
         6.555511652000128E7
        ],
        [
         "Allopathic & Osteopathic Physicians|Psychiatry & Neurology|Psychiatry",
         6.527284579000072E7
        ],
        [
         "Allopathic & Osteopathic Physicians|Internal Medicine|Cardiovascular Disease",
         6.29944522400002E7
        ],
        [
         "Allopathic & Osteopathic Physicians|Orthopaedic Surgery|Orthopaedic Surgery of the Spine",
         6.143177107000011E7
        ]
       ],
       "datasetInfos": [],
       "dbfsResultPath": null,
       "isJsonSchema": true,
       "metadata": {},
       "overflow": false,
       "plotOptions": {
        "customPlotOptions": {},
        "displayType": "table",
        "pivotAggregation": null,
        "pivotColumns": null,
        "xColumns": null,
        "yColumns": null
       },
       "removedWidgets": [],
       "schema": [
        {
         "metadata": "{}",
         "name": "Covered_Recipient_Profile_Primary_Specialty",
         "type": "\"string\""
        },
        {
         "metadata": "{}",
         "name": "total_amount",
         "type": "\"double\""
        }
       ],
       "type": "table"
      }
     },
     "output_type": "display_data"
    }
   ],
   "source": [
    "top_specialties_by_amount = (final_df.groupBy(\"Covered_Recipient_Profile_Primary_Specialty\")\n",
    "    .agg(sum(\"Total_Amount_of_Payment_USDollars\").alias(\"total_amount\"))\n",
    "    .orderBy(desc(\"total_amount\")))\n",
    "display(top_specialties_by_amount.limit(10))"
   ]
  },
  {
   "cell_type": "markdown",
   "metadata": {
    "application/vnd.databricks.v1+cell": {
     "cellMetadata": {
      "byteLimit": 2048000,
      "rowLimit": 10000
     },
     "inputWidgets": {},
     "nuid": "92b592b6-db23-419f-a551-5ba2e6bb08f1",
     "showTitle": false,
     "tableResultSettingsMap": {},
     "title": ""
    }
   },
   "source": [
    "The top 10 physician specialties by total amount are found to be:\n",
    "1. Allopathic & Osteopathic Physicians|Orthopaedic Surgery\n",
    "2. Allopathic & Osteopathic Physicians|Psychiatry & Neurology|Neurology\n",
    "3. Allopathic & Osteopathic Physicians|Neurological Surgery\n",
    "4. Allopathic & Osteopathic Physicians|Dermatology\n",
    "5. Allopathic & Osteopathic Physicians|Orthopaedic Surgery|Adult Reconstructive Orthopaedic Surgery\n",
    "6. Allopathic & Osteopathic Physicians|Internal Medicine|Hematology & Oncology\n",
    "7. Allopathic & Osteopathic Physicians|Internal Medicine\n",
    "8. Allopathic & Osteopathic Physicians|Psychiatry & Neurology|Psychiatry\n",
    "9. Allopathic & Osteopathic Physicians|Internal Medicine|Cardiovascular Disease\n",
    "10. Allopathic & Osteopathic Physicians|Orthopaedic Surgery|Orthopaedic Surgery of the Spine\n"
   ]
  },
  {
   "cell_type": "markdown",
   "metadata": {
    "application/vnd.databricks.v1+cell": {
     "cellMetadata": {
      "byteLimit": 2048000,
      "rowLimit": 10000
     },
     "inputWidgets": {},
     "nuid": "b840daad-2aff-48ce-8af9-4a128ce2e1be",
     "showTitle": false,
     "tableResultSettingsMap": {},
     "title": ""
    }
   },
   "source": [
    "### 5. Who are the top ten physicians by total amount?"
   ]
  },
  {
   "cell_type": "markdown",
   "metadata": {
    "application/vnd.databricks.v1+cell": {
     "cellMetadata": {
      "byteLimit": 2048000,
      "rowLimit": 10000
     },
     "inputWidgets": {},
     "nuid": "c126df97-5afa-4f8f-bbeb-8ccebd46bd38",
     "showTitle": false,
     "tableResultSettingsMap": {},
     "title": ""
    }
   },
   "source": [
    "To identify the top physicians who have received the highest total payments, firstly, the query replaces any NULL values in the \"Covered_Recipient_Profile_Middle_Name\" column with an empty string (\"\") using coalesce(). This ensures that physicians with missing middle names are still properly grouped without errors. The data is then grouped by first name, middle name, and last name to uniquely identify physicians. Next, the query calculates the total amount of payments (in USD) for each physician using the sum() function and the aggregated column is named \"total_amount\". The results are finally sorted in descending order based on \"total_amount\", so the physicians who received the highest payments appear first."
   ]
  },
  {
   "cell_type": "code",
   "execution_count": 0,
   "metadata": {
    "application/vnd.databricks.v1+cell": {
     "cellMetadata": {
      "byteLimit": 2048000,
      "rowLimit": 10000
     },
     "inputWidgets": {},
     "nuid": "df305708-83d0-4631-8009-00b3b9bdf165",
     "showTitle": false,
     "tableResultSettingsMap": {},
     "title": ""
    }
   },
   "outputs": [
    {
     "output_type": "display_data",
     "data": {
      "text/html": [
       "<style scoped>\n",
       "  .table-result-container {\n",
       "    max-height: 300px;\n",
       "    overflow: auto;\n",
       "  }\n",
       "  table, th, td {\n",
       "    border: 1px solid black;\n",
       "    border-collapse: collapse;\n",
       "  }\n",
       "  th, td {\n",
       "    padding: 5px;\n",
       "  }\n",
       "  th {\n",
       "    text-align: left;\n",
       "  }\n",
       "</style><div class='table-result-container'><table class='table-result'><thead style='background-color: white'><tr><th>Covered_Recipient_Profile_First_Name</th><th>Covered_Recipient_Profile_Middle_Name</th><th>Covered_Recipient_Profile_Last_Name</th><th>total_amount</th></tr></thead><tbody><tr><td>STEPHEN</td><td>S</td><td>BURKHART</td><td>3.392202493E7</td></tr><tr><td>WILLIAM</td><td>JAY</td><td>BINDER</td><td>2.943435593E7</td></tr><tr><td>KEVIN</td><td>T</td><td>FOLEY</td><td>1.730721365E7</td></tr><tr><td>IVAN</td><td></td><td>OSORIO</td><td>1.606551551E7</td></tr><tr><td>GEORGE</td><td>PATRICK</td><td>MAXWELL</td><td>1.160032024E7</td></tr><tr><td>ROBERT</td><td>E</td><td>BOOTH</td><td>8459144.4</td></tr><tr><td>NEAL</td><td>S</td><td>ELATTRACHE</td><td>7810628.199999999</td></tr><tr><td>AARON</td><td></td><td>ROSENBERG</td><td>6871466.720000001</td></tr><tr><td>ROGER</td><td>P</td><td>JACKSON</td><td>6660383.800000001</td></tr><tr><td>PETER</td><td>M</td><td>BONUTTI</td><td>6385096.170000002</td></tr></tbody></table></div>"
      ]
     },
     "metadata": {
      "application/vnd.databricks.v1+output": {
       "addedWidgets": {},
       "aggData": [],
       "aggError": "",
       "aggOverflow": false,
       "aggSchema": [],
       "aggSeriesLimitReached": false,
       "aggType": "",
       "arguments": {},
       "columnCustomDisplayInfos": {},
       "data": [
        [
         "STEPHEN",
         "S",
         "BURKHART",
         3.392202493E7
        ],
        [
         "WILLIAM",
         "JAY",
         "BINDER",
         2.943435593E7
        ],
        [
         "KEVIN",
         "T",
         "FOLEY",
         1.730721365E7
        ],
        [
         "IVAN",
         "",
         "OSORIO",
         1.606551551E7
        ],
        [
         "GEORGE",
         "PATRICK",
         "MAXWELL",
         1.160032024E7
        ],
        [
         "ROBERT",
         "E",
         "BOOTH",
         8459144.4
        ],
        [
         "NEAL",
         "S",
         "ELATTRACHE",
         7810628.199999999
        ],
        [
         "AARON",
         "",
         "ROSENBERG",
         6871466.720000001
        ],
        [
         "ROGER",
         "P",
         "JACKSON",
         6660383.800000001
        ],
        [
         "PETER",
         "M",
         "BONUTTI",
         6385096.170000002
        ]
       ],
       "datasetInfos": [],
       "dbfsResultPath": null,
       "isJsonSchema": true,
       "metadata": {},
       "overflow": false,
       "plotOptions": {
        "customPlotOptions": {},
        "displayType": "table",
        "pivotAggregation": null,
        "pivotColumns": null,
        "xColumns": null,
        "yColumns": null
       },
       "removedWidgets": [],
       "schema": [
        {
         "metadata": "{}",
         "name": "Covered_Recipient_Profile_First_Name",
         "type": "\"string\""
        },
        {
         "metadata": "{}",
         "name": "Covered_Recipient_Profile_Middle_Name",
         "type": "\"string\""
        },
        {
         "metadata": "{}",
         "name": "Covered_Recipient_Profile_Last_Name",
         "type": "\"string\""
        },
        {
         "metadata": "{}",
         "name": "total_amount",
         "type": "\"double\""
        }
       ],
       "type": "table"
      }
     },
     "output_type": "display_data"
    }
   ],
   "source": [
    "from pyspark.sql.functions import coalesce, lit\n",
    "top_physicians_by_amount = (final_df.withColumn(\"Covered_Recipient_Profile_Middle_Name\", \n",
    "                        coalesce(col(\"Covered_Recipient_Profile_Middle_Name\"), lit(\"\"))) #Replace Null with empty string\n",
    "    .groupBy(\"Covered_Recipient_Profile_First_Name\", \n",
    "             \"Covered_Recipient_Profile_Middle_Name\", \"Covered_Recipient_Profile_Last_Name\")\n",
    "    .agg(sum(\"Total_Amount_of_Payment_USDollars\").alias(\"total_amount\"))\n",
    "    .orderBy(desc(\"total_amount\")))\n",
    "display(top_physicians_by_amount.limit(10))"
   ]
  },
  {
   "cell_type": "markdown",
   "metadata": {
    "application/vnd.databricks.v1+cell": {
     "cellMetadata": {
      "byteLimit": 2048000,
      "rowLimit": 10000
     },
     "inputWidgets": {},
     "nuid": "b36953d1-c9eb-4d9a-8d5f-1cd3c1111c10",
     "showTitle": false,
     "tableResultSettingsMap": {},
     "title": ""
    }
   },
   "source": [
    "The top 10 physicians by total amount are found to be:\n",
    "1. Stephen S Burkhart\n",
    "2. William Jay Binder\n",
    "3. Kevin T Foley\n",
    "4. Ivan Osorio\n",
    "5. George Patrick Maxwell\n",
    "6. Robert E Booth\n",
    "7. Neal S Elattrache\n",
    "8. Aaron Rosenberg\n",
    "9. Roger P Jackson\n",
    "10. Peter M Bonutti"
   ]
  }
 ],
 "metadata": {
  "application/vnd.databricks.v1+notebook": {
   "computePreferences": null,
   "dashboards": [],
   "environmentMetadata": null,
   "language": "python",
   "notebookMetadata": {
    "pythonIndentUnit": 4
   },
   "notebookName": "Week-07 Spark Application",
   "widgets": {}
  }
 },
 "nbformat": 4,
 "nbformat_minor": 0
}
