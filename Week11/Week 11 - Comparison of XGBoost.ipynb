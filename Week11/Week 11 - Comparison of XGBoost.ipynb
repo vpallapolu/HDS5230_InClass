{
 "cells": [
  {
   "cell_type": "code",
   "execution_count": 3,
   "id": "e28aa76b-11e2-4410-9d78-cb0e53f3f2ff",
   "metadata": {},
   "outputs": [],
   "source": [
    "import pandas as pd\n",
    "import numpy as np\n",
    "import xgboost as xgb\n",
    "from sklearn.model_selection import cross_val_score, StratifiedKFold\n",
    "import time"
   ]
  },
  {
   "cell_type": "code",
   "execution_count": 4,
   "id": "a4689dc3-4de6-4798-85b8-adfef48685f7",
   "metadata": {},
   "outputs": [],
   "source": [
    "data = pd.read_csv('dfdata_10M.csv')"
   ]
  },
  {
   "cell_type": "code",
   "execution_count": 5,
   "id": "53f7f57c-7b65-4f37-a361-61c067923b58",
   "metadata": {},
   "outputs": [
    {
     "data": {
      "text/plain": [
       "(10000000, 9)"
      ]
     },
     "execution_count": 5,
     "metadata": {},
     "output_type": "execute_result"
    }
   ],
   "source": [
    "data.shape"
   ]
  },
  {
   "cell_type": "code",
   "execution_count": 6,
   "id": "c956f25e-2afe-46e8-b71a-1505f172113a",
   "metadata": {},
   "outputs": [
    {
     "data": {
      "text/plain": [
       "pregnant    0\n",
       "glucose     0\n",
       "pressure    0\n",
       "triceps     0\n",
       "insulin     0\n",
       "mass        0\n",
       "pedigree    0\n",
       "age         0\n",
       "outcome     0\n",
       "dtype: int64"
      ]
     },
     "execution_count": 6,
     "metadata": {},
     "output_type": "execute_result"
    }
   ],
   "source": [
    "data.isna().sum()"
   ]
  },
  {
   "cell_type": "code",
   "execution_count": 8,
   "id": "0ed6f509-aab3-420f-bf01-e147e9430a6d",
   "metadata": {},
   "outputs": [
    {
     "data": {
      "text/html": [
       "<div>\n",
       "<style scoped>\n",
       "    .dataframe tbody tr th:only-of-type {\n",
       "        vertical-align: middle;\n",
       "    }\n",
       "\n",
       "    .dataframe tbody tr th {\n",
       "        vertical-align: top;\n",
       "    }\n",
       "\n",
       "    .dataframe thead th {\n",
       "        text-align: right;\n",
       "    }\n",
       "</style>\n",
       "<table border=\"1\" class=\"dataframe\">\n",
       "  <thead>\n",
       "    <tr style=\"text-align: right;\">\n",
       "      <th></th>\n",
       "      <th>Method</th>\n",
       "      <th>Dataset Size</th>\n",
       "      <th>Testing-set predictive performance</th>\n",
       "      <th>Time taken for the model to be fit</th>\n",
       "    </tr>\n",
       "  </thead>\n",
       "  <tbody>\n",
       "    <tr>\n",
       "      <th>0</th>\n",
       "      <td>XGBoost in Python via scikit-learn and 5-fold CV</td>\n",
       "      <td>100</td>\n",
       "      <td>0.9300</td>\n",
       "      <td>0.73</td>\n",
       "    </tr>\n",
       "    <tr>\n",
       "      <th>1</th>\n",
       "      <td>XGBoost in Python via scikit-learn and 5-fold CV</td>\n",
       "      <td>1000</td>\n",
       "      <td>0.9520</td>\n",
       "      <td>0.30</td>\n",
       "    </tr>\n",
       "    <tr>\n",
       "      <th>2</th>\n",
       "      <td>XGBoost in Python via scikit-learn and 5-fold CV</td>\n",
       "      <td>10000</td>\n",
       "      <td>0.9753</td>\n",
       "      <td>0.51</td>\n",
       "    </tr>\n",
       "    <tr>\n",
       "      <th>3</th>\n",
       "      <td>XGBoost in Python via scikit-learn and 5-fold CV</td>\n",
       "      <td>100000</td>\n",
       "      <td>0.9869</td>\n",
       "      <td>1.46</td>\n",
       "    </tr>\n",
       "    <tr>\n",
       "      <th>4</th>\n",
       "      <td>XGBoost in Python via scikit-learn and 5-fold CV</td>\n",
       "      <td>1000000</td>\n",
       "      <td>0.9918</td>\n",
       "      <td>16.58</td>\n",
       "    </tr>\n",
       "    <tr>\n",
       "      <th>5</th>\n",
       "      <td>XGBoost in Python via scikit-learn and 5-fold CV</td>\n",
       "      <td>10000000</td>\n",
       "      <td>0.9931</td>\n",
       "      <td>193.31</td>\n",
       "    </tr>\n",
       "  </tbody>\n",
       "</table>\n",
       "</div>"
      ],
      "text/plain": [
       "                                             Method  Dataset Size  \\\n",
       "0  XGBoost in Python via scikit-learn and 5-fold CV           100   \n",
       "1  XGBoost in Python via scikit-learn and 5-fold CV          1000   \n",
       "2  XGBoost in Python via scikit-learn and 5-fold CV         10000   \n",
       "3  XGBoost in Python via scikit-learn and 5-fold CV        100000   \n",
       "4  XGBoost in Python via scikit-learn and 5-fold CV       1000000   \n",
       "5  XGBoost in Python via scikit-learn and 5-fold CV      10000000   \n",
       "\n",
       "   Testing-set predictive performance  Time taken for the model to be fit  \n",
       "0                              0.9300                                0.73  \n",
       "1                              0.9520                                0.30  \n",
       "2                              0.9753                                0.51  \n",
       "3                              0.9869                                1.46  \n",
       "4                              0.9918                               16.58  \n",
       "5                              0.9931                              193.31  "
      ]
     },
     "execution_count": 8,
     "metadata": {},
     "output_type": "execute_result"
    }
   ],
   "source": [
    "from xgboost import XGBClassifier\n",
    "dataset_sizes = [100, 1000, 10000, 100000, 1000000, 10000000]\n",
    "results = []\n",
    "for sz in dataset_sizes:\n",
    "    subsample = data.sample(n=sz, random_state=2021)\n",
    "    X = subsample.drop(columns=['outcome'])\n",
    "    y = subsample['outcome']\n",
    "    mask = ~y.isna()\n",
    "    X = X[mask]\n",
    "    y = y[mask]\n",
    "    model = XGBClassifier(use_label_encoder=False, eval_metric='error', verbosity=0)\n",
    "    cv = StratifiedKFold(n_splits=5, shuffle=True, random_state=2021)\n",
    "    start = time.time()\n",
    "    scores = cross_val_score(model, X, y, cv=cv, scoring='accuracy')\n",
    "    end = time.time()\n",
    "    results.append({\n",
    "        'Method': 'XGBoost in Python via scikit-learn and 5-fold CV',\n",
    "        'Dataset Size': sz,\n",
    "        'Testing-set predictive performance': round(scores.mean(), 4),\n",
    "        'Time taken for the model to be fit': round(end - start, 2)\n",
    "    })\n",
    "# Final results\n",
    "results_df = pd.DataFrame(results)\n",
    "results_df"
   ]
  },
  {
   "cell_type": "code",
   "execution_count": null,
   "id": "b7a9cfbc-fa11-4d2d-ba26-636d1c7a518e",
   "metadata": {},
   "outputs": [],
   "source": []
  }
 ],
 "metadata": {
  "kernelspec": {
   "display_name": "Python 3 (ipykernel)",
   "language": "python",
   "name": "python3"
  },
  "language_info": {
   "codemirror_mode": {
    "name": "ipython",
    "version": 3
   },
   "file_extension": ".py",
   "mimetype": "text/x-python",
   "name": "python",
   "nbconvert_exporter": "python",
   "pygments_lexer": "ipython3",
   "version": "3.12.4"
  }
 },
 "nbformat": 4,
 "nbformat_minor": 5
}
