{
 "cells": [
  {
   "cell_type": "code",
   "execution_count": 14,
   "metadata": {},
   "outputs": [],
   "source": [
    "import requests\n",
    "import json\n",
    "import numpy as np"
   ]
  },
  {
   "cell_type": "code",
   "execution_count": 15,
   "metadata": {},
   "outputs": [],
   "source": [
    "PREDICT_URL = \"http://127.0.0.1:8000/predict/\"\n",
    "RESULT_URL = \"http://127.0.0.1:8000/result/\"\n",
    "RETRAIN_URL = \"http://127.0.0.1:8000/retrain/\"\n",
    "NEWMODEL_URL = \"http://127.0.0.1:8000/new_model/\"\n",
    "EVALUATE_URL = \"http://127.0.0.1:8000/evaluate_model/\"    \n",
    "\n",
    "DUMMY_MODEL = \"Dummy\"\n",
    "KNN_MODEL = \"KNN\"\n",
    "\n",
    "metric = 0.0\n",
    "key = 0"
   ]
  },
  {
   "cell_type": "code",
   "execution_count": 16,
   "metadata": {},
   "outputs": [],
   "source": [
    "def send_get_request (url:str, params:dict) :\n",
    "\n",
    "    data = {}\n",
    "    response = requests.get(url, params=params)\n",
    "\n",
    "    if response.status_code == 200:\n",
    "        data = response.json()\n",
    "        print(data)\n",
    "    else:\n",
    "        print(f\"Error: {response.status_code}\")\n",
    "    return data"
   ]
  },
  {
   "cell_type": "code",
   "execution_count": 17,
   "metadata": {},
   "outputs": [],
   "source": [
    "def get_prediction(key, x, y) :\n",
    "    params = {\"id\" : key, \"x\" :x, \"y\" :y}\n",
    "    response = send_get_request(PREDICT_URL, params)\n",
    "    return response.get(\"prediction\")"
   ]
  },
  {
   "cell_type": "code",
   "execution_count": 18,
   "metadata": {},
   "outputs": [],
   "source": [
    "def send_result(key, result) :\n",
    "    params = {\"id\" : key, \"result\" : result}\n",
    "    response = send_get_request(RESULT_URL, params)\n",
    "    return response"
   ]
  },
  {
   "cell_type": "code",
   "execution_count": 19,
   "metadata": {},
   "outputs": [],
   "source": [
    "def request_retrain(last_n: int, model_type=\"Dummy\", strategy=\"stratified\", k=3):\n",
    "    return send_get_request(RETRAIN_URL, {\n",
    "        \"last_n\": last_n,\n",
    "        \"model_type\": model_type,\n",
    "        \"strategy\": strategy,\n",
    "        \"k\": k\n",
    "    })"
   ]
  },
  {
   "cell_type": "code",
   "execution_count": 20,
   "metadata": {},
   "outputs": [],
   "source": [
    "def request_new_model(model_name:str, model_params:dict, last_n:int) :\n",
    "    params = {\"last_n\" : last_n, \"model\": model_name, \"model_params\":model_params}\n",
    "    response = send_get_request(NEWMODEL_URL)\n",
    "    return response"
   ]
  },
  {
   "cell_type": "code",
   "execution_count": 21,
   "metadata": {},
   "outputs": [],
   "source": [
    "def request_evaluation(last_n:int) :\n",
    "    params = {\"last_n\" : last_n}\n",
    "    response = send_get_request(EVALUATE_URL, params)\n",
    "    return response"
   ]
  },
  {
   "cell_type": "code",
   "execution_count": 22,
   "metadata": {},
   "outputs": [],
   "source": [
    "def new_dummy(strategy: str, last_n: int) :\n",
    "    model_params = {\"strategy\" : strategy}\n",
    "    response = request_new_model(DUMMY_MODEL, model_params, last_n) \n",
    "    return response"
   ]
  },
  {
   "cell_type": "code",
   "execution_count": 23,
   "metadata": {},
   "outputs": [],
   "source": [
    "def new_knn(k:int, last_n: int):\n",
    "    model_params = {\"k\" : k}\n",
    "    response = request_new_model(KNN_MODEL, model_params, last_n)\n",
    "    return response"
   ]
  },
  {
   "cell_type": "code",
   "execution_count": 24,
   "metadata": {},
   "outputs": [],
   "source": [
    "def item(key,metric) :\n",
    "    key=key+1\n",
    "    x=np.random.rand()*2-1\n",
    "    y=np.random.rand()*2-1\n",
    "    z=np.random.rand()*.2-.1\n",
    "    result=x*y+z>metric\n",
    "    return [key, x, y, result]"
   ]
  },
  {
   "cell_type": "code",
   "execution_count": 25,
   "metadata": {},
   "outputs": [
    {
     "name": "stdout",
     "output_type": "stream",
     "text": [
      "Error: 404\n",
      "Error: 404\n"
     ]
    },
    {
     "data": {
      "text/plain": [
       "{}"
      ]
     },
     "execution_count": 25,
     "metadata": {},
     "output_type": "execute_result"
    }
   ],
   "source": [
    "key, x, y, result = item(key, metric)\n",
    "\n",
    "prediction = get_prediction(key, x, y)\n",
    "send_result(key, result)"
   ]
  },
  {
   "cell_type": "code",
   "execution_count": null,
   "metadata": {},
   "outputs": [],
   "source": [
    "for _ in range(15):\n",
    "    key, x, y, result = item(key, metric)\n",
    "    prediction = get_prediction(key, x, y)\n",
    "    send_result(key, result)"
   ]
  },
  {
   "cell_type": "code",
   "execution_count": null,
   "metadata": {},
   "outputs": [],
   "source": [
    "request_retrain(last_n=15, model_type=\"KNN\")"
   ]
  },
  {
   "cell_type": "code",
   "execution_count": 52,
   "metadata": {},
   "outputs": [],
   "source": [
    "\n",
    "\n",
    "# FastAPI endpoint definition (example)\n",
    "# @app.post(\"/items/\")\n",
    "# async def create_item(item: Item):\n",
    "#     return item\n",
    "\n",
    "#url = \"http://127.0.0.1:8000/items/\"  # Replace with your actual URL\n",
    "#data = {\"name\": \"New Item\", \"description\": \"A new item description\"}\n",
    "#headers = {'Content-type': 'application/json'}\n",
    "#response = requests.post(url, data=json.dumps(data), headers=headers)\n",
    "\n",
    "#if response.status_code == 200:\n",
    "#    data = response.json()\n",
    "#    print(data)\n",
    "#else:\n",
    "#    print(f\"Error: {response.status_code}\")"
   ]
  }
 ],
 "metadata": {
  "kernelspec": {
   "display_name": "Python 3 (ipykernel)",
   "language": "python",
   "name": "python3"
  },
  "language_info": {
   "codemirror_mode": {
    "name": "ipython",
    "version": 3
   },
   "file_extension": ".py",
   "mimetype": "text/x-python",
   "name": "python",
   "nbconvert_exporter": "python",
   "pygments_lexer": "ipython3",
   "version": "3.12.4"
  }
 },
 "nbformat": 4,
 "nbformat_minor": 4
}
