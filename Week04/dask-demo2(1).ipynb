{
 "cells": [
  {
   "cell_type": "code",
   "execution_count": 28,
   "metadata": {},
   "outputs": [],
   "source": [
    "import time\n",
    "import dask.bag as db\n",
    "import matplotlib.pylab as plt\n",
    "from functools import partial"
   ]
  },
  {
   "cell_type": "code",
   "execution_count": 29,
   "metadata": {},
   "outputs": [
    {
     "name": "stdout",
     "output_type": "stream",
     "text": [
      "Block size =  10\n",
      "Block size =  100\n",
      "Block size =  1000\n",
      "Block size =  10000\n",
      "Block size =  100000\n",
      "Block size =  1000000\n",
      "Block size =  10000000\n",
      "Block size =  100000000\n",
      "Block size =  1000000000\n",
      "[('and', 1553), ('to', 1390), ('the', 1326), ('of', 974), ('a', 951), ('that', 905), ('you', 733), ('in', 664), ('I', 664), ('we', 487)]\n"
     ]
    }
   ],
   "source": [
    "timings = {}\n",
    "block = 10\n",
    "for i in range (1, 10) :\n",
    "    print(\"Block size = \",  block)\n",
    "    start_time = time.perf_counter()\n",
    "    b = db.read_text('transcript.txt', blocksize=block)\n",
    "    wordcount = b.str.split().flatten().frequencies().topk(10, lambda x: x[1])\n",
    "    output = wordcount.compute()\n",
    "    end_time = time.perf_counter()\n",
    "    block = block * 10\n",
    "    timings[i] = end_time-start_time\n",
    "\n",
    "#What do you notice about the output?\n",
    "print(output)"
   ]
  },
  {
   "cell_type": "markdown",
   "metadata": {},
   "source": [
    "**Interpretation:** The word \"I\" appears in uppercase, while others are lowercase. This indicates that text normalization wasn't applied in this output. And the frequency of "
   ]
  },
  {
   "cell_type": "code",
   "execution_count": 30,
   "metadata": {},
   "outputs": [
    {
     "data": {
      "image/png": "[encoded data removed]",
      "text/plain": [
       "<Figure size 640x480 with 1 Axes>"
      ]
     },
     "metadata": {},
     "output_type": "display_data"
    }
   ],
   "source": [
    "lists = sorted(timings.items()) # sorted by key, return a list of tuples\n",
    "x, y = zip(*lists) # unpack a list of pairs into two tuples\n",
    "plt.plot(x, y)\n",
    "plt.show()\n",
    "\n",
    "# When is Dask most efficient?"
   ]
  },
  {
   "cell_type": "markdown",
   "metadata": {},
   "source": [
    "**Interpretation:** From the graph, as the block size increased, the execution time reduced. Usually Dask performs well when the block size is optimal. So, after a certain threshold, the execution time might increase for increased block size."
   ]
  },
  {
   "cell_type": "code",
   "execution_count": 31,
   "metadata": {},
   "outputs": [
    {
     "name": "stdout",
     "output_type": "stream",
     "text": [
      "Block size =  10\n",
      "[('and', 1553), ('to', 1390), ('the', 1326), ('of', 974), ('a', 951), ('that', 905), ('you', 733), ('in', 664), ('I', 664), ('we', 487), ('is', 466), ('for', 449), ('have', 370), ('it', 347), ('with', 332), ('are', 326), ('so', 317), ('really', 287), ('on', 263), ('this', 254)]\n",
      "This run took  21.437078999999358\n"
     ]
    }
   ],
   "source": [
    "#Challenge - Do better.\n",
    "#1. Better time\n",
    "#2. Better output\n",
    "\n",
    "block = 10\n",
    "TOP_20 = 20\n",
    "stopword_set = []\n",
    "\n",
    "def filter_stopword(word, stopwords) :\n",
    "    return word not in stopwords\n",
    "\n",
    "def filter_stopwords(words, stopwords) :\n",
    "    return list(filter(partial(filter_stopword, stopwords=stopwords), words))\n",
    "\n",
    "print(\"Block size = \",  block)\n",
    "start_time = time.perf_counter()\n",
    "b = db.read_text('transcript.txt', blocksize=block)\n",
    "\n",
    "                          ### Added a step to filter stopwords.\n",
    "wordcount = b.str.split().map(partial(filter_stopwords, stopwords=stopword_set)).flatten().frequencies().topk(TOP_20, lambda x: x[1])\n",
    "output = wordcount.compute()\n",
    "end_time = time.perf_counter()\n",
    "\n",
    "print(output)\n",
    "print(\"This run took \", end_time - start_time)"
   ]
  },
  {
   "cell_type": "code",
   "execution_count": 41,
   "metadata": {},
   "outputs": [
    {
     "name": "stdout",
     "output_type": "stream",
     "text": [
      "Block size =  10000000\n",
      "[('AND', 1768), ('TO', 1391), ('THE', 1370), ('A', 987), ('OF', 980), ('THAT', 932), ('YOU', 834), ('IN', 679), ('I', 679), ('WE', 598), ('SO', 547), ('IS', 471), ('FOR', 454), ('IT', 417), ('HAVE', 372), ('WITH', 336), ('ARE', 330), ('REALLY', 289), ('THIS', 274), ('BUT', 266)]\n",
      "This run took  0.6653373000008287\n"
     ]
    }
   ],
   "source": [
    "block = 10000000\n",
    "TOP_20 = 20\n",
    "stopword_set = set([]) \n",
    "def filter_stopword(word, stopwords) :\n",
    "    return word not in stopwords\n",
    "\n",
    "def filter_stopwords(words, stopwords) :\n",
    "    return list(filter(partial(filter_stopword, stopwords=stopwords), words))\n",
    "\n",
    "print(\"Block size = \",  block)\n",
    "start_time = time.perf_counter()\n",
    "b = db.read_text('transcript.txt', blocksize=block).str.upper()\n",
    "\n",
    "                          ### Added a step to filter stopwords.\n",
    "wordcount = b.str.split().map(partial(filter_stopwords, stopwords=stopword_set)).flatten().frequencies().topk(TOP_20, lambda x: x[1])\n",
    "output = wordcount.compute()\n",
    "end_time = time.perf_counter()\n",
    "\n",
    "print(output)\n",
    "print(\"This run took \", end_time - start_time)"
   ]
  },
  {
   "cell_type": "markdown",
   "metadata": {},
   "source": [
    "**Challenge:** To get a better output and better time, I have tried to increase the block size from 10 to 10000000, which rapidly decreased the time from 21.43s to 0.66s while converting the words to upper case, normalizes the text and the output looks more normalized in an uppercase words."
   ]
  },
  {
   "cell_type": "code",
   "execution_count": null,
   "metadata": {},
   "outputs": [],
   "source": []
  }
 ],
 "metadata": {
  "kernelspec": {
   "display_name": "Python 3 (ipykernel)",
   "language": "python",
   "name": "python3"
  },
  "language_info": {
   "codemirror_mode": {
    "name": "ipython",
    "version": 3
   },
   "file_extension": ".py",
   "mimetype": "text/x-python",
   "name": "python",
   "nbconvert_exporter": "python",
   "pygments_lexer": "ipython3",
   "version": "3.12.4"
  }
 },
 "nbformat": 4,
 "nbformat_minor": 4
}
